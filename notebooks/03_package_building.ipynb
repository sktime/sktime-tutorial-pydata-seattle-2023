{
 "cells": [
  {
   "attachments": {},
   "cell_type": "markdown",
   "id": "ba59d6b6",
   "metadata": {},
   "source": [
    "# Package Building with `skbase`"
   ]
  },
  {
   "attachments": {},
   "cell_type": "markdown",
   "id": "30e2bb9e",
   "metadata": {},
   "source": [
    "### Overview of this notebook\n",
    "\n",
    "building an sklearn-like package\n",
    "\n",
    "* use of base classes\n",
    "* strategy pattern, template pattern\n",
    "* tags and configs\n",
    "* retrieval via `all_objects`\n",
    "* heterogeneous meta-estimators\n",
    "* testing"
   ]
  },
  {
   "cell_type": "code",
   "execution_count": null,
   "id": "f14c1202",
   "metadata": {},
   "outputs": [],
   "source": [
    "from os import sys\n",
    "sys.path.append(\"..\")"
   ]
  },
  {
   "cell_type": "code",
   "execution_count": null,
   "id": "fe222d47",
   "metadata": {},
   "outputs": [],
   "source": [
    "import numpy as np\n",
    "import pandas as pd"
   ]
  },
  {
   "cell_type": "code",
   "execution_count": null,
   "id": "49d4f967",
   "metadata": {},
   "outputs": [],
   "source": [
    "import warnings\n",
    "warnings.filterwarnings('ignore')"
   ]
  },
  {
   "attachments": {},
   "cell_type": "markdown",
   "id": "2c2d9d33",
   "metadata": {},
   "source": [
    "## Using ``skbase`` to implement an ``sklearn``-like"
   ]
  },
  {
   "attachments": {},
   "cell_type": "markdown",
   "id": "992e9770",
   "metadata": {},
   "source": [
    "Recommended recipe:\n",
    "\n",
    "1. implement a few examples of algorithms\n",
    "2. use that to come up with a sensible template design\n",
    "3. write down the user contract as a base class sketch, with full docstrings (incl assumes, guarantees)\n",
    "4. write down the extension contract as an extension template with full docstrings (incl assumes, guarantees)\n",
    "5. implement base classes using ``BaseObject``, ``BaseEstimator``, meta classes if applicable\n",
    "    * public interface, boilerplate methods, base functionality\n",
    "    * template methods, extension interface\n",
    "    * tags, configs\n",
    "6. implement concrete classes, start with reinterfacing examples\n",
    "    * subject to tests\n",
    "7. implement test framework for interface, e.g., `check_estimator`\n",
    "\n",
    "Advanced functionality:\n",
    "\n",
    "* estimator retrieval via `all_objects`\n",
    "* systematic testing via test class framework"
   ]
  },
  {
   "attachments": {},
   "cell_type": "markdown",
   "id": "3077dbf1",
   "metadata": {},
   "source": [
    "### Iteration 0 - examples, initial design"
   ]
  },
  {
   "attachments": {},
   "cell_type": "markdown",
   "id": "25de9556",
   "metadata": {},
   "source": [
    "at the start, we want to:\n",
    "\n",
    "* implement examples of the algorithms to inform the design\n",
    "* use the examples to abstract a public unified interface, extender pattern\n",
    "\n",
    "IMPORTANT: \"3 example rule\"\n",
    "\n",
    "= before abstracting a design, ensure you have at least 3 substantially distinct examples!\n",
    "\n",
    "e.g., 3 regressors, 3 transformers, 3 pipelines, etc\n",
    "\n",
    "(in this repository, there is only 1 example per, for ease of reading\n",
    "- but reader is expected to be familiar with others from `sklearn`!)\n",
    "\n",
    "Examples in the repo:\n",
    "\n",
    "* linear regression \"naive implementation\"\n",
    "* preprocessing/scaling \"naive implementation\n",
    "\n",
    "*[pydata_skbase/mini_sklearn_v0](https://github.com/sktime/sktime-tutorial-pydata-seattle-2023/blob/main/pydata_skbase/mini_sklearn_v1)*"
   ]
  },
  {
   "attachments": {},
   "cell_type": "markdown",
   "id": "d14f1bb5",
   "metadata": {},
   "source": [
    "### Loading data used throughout"
   ]
  },
  {
   "cell_type": "code",
   "execution_count": null,
   "id": "cdcefa4e",
   "metadata": {},
   "outputs": [],
   "source": [
    "from sklearn.datasets import load_diabetes\n",
    "from sklearn.model_selection import train_test_split\n",
    "\n",
    "X, y = load_diabetes(return_X_y=True, as_frame=True)\n",
    "y = pd.DataFrame(y)\n",
    "X_train, X_test, y_train, y_test = train_test_split(X, y)"
   ]
  },
  {
   "attachments": {},
   "cell_type": "markdown",
   "id": "7a3be0ef",
   "metadata": {},
   "source": [
    "### Iteration 1 - base class interface, strategy pattern"
   ]
  },
  {
   "attachments": {},
   "cell_type": "markdown",
   "id": "3185d419",
   "metadata": {},
   "source": [
    "our 1st iteration - class design based on iteration 0\n",
    "\n",
    "* in `base.py`, we define the public contract\n",
    "    * `fit`/`predict` for regressors, `fit`/`transform` for transformers\n",
    "* `base.py` also has the extender contract\n",
    "    * overriding `fit`/`predict` directly\n",
    "    * ensuring input and output checks are in place\n",
    "\n",
    "*[pydata_skbase/mini_sklearn_v1](https://github.com/sktime/sktime-tutorial-pydata-seattle-2023/blob/main/pydata_skbase/mini_sklearn_v1)*"
   ]
  },
  {
   "cell_type": "code",
   "execution_count": null,
   "id": "74fe131d",
   "metadata": {},
   "outputs": [],
   "source": [
    "from pydata_skbase.mini_sklearn_v1.regression import LinReg\n",
    "from pydata_skbase.mini_sklearn_v1.transform import Scaler\n",
    "\n",
    "t = Scaler(strategy=\"std\")\n",
    "clf = LinReg()"
   ]
  },
  {
   "cell_type": "code",
   "execution_count": null,
   "id": "91b4dbf8",
   "metadata": {},
   "outputs": [],
   "source": [
    "clf.get_params()"
   ]
  },
  {
   "cell_type": "code",
   "execution_count": null,
   "id": "2ed8faec",
   "metadata": {},
   "outputs": [],
   "source": [
    "clf.fit(X_train, y_train)"
   ]
  },
  {
   "cell_type": "code",
   "execution_count": null,
   "id": "fc281208",
   "metadata": {},
   "outputs": [],
   "source": [
    "clf.get_fitted_params()"
   ]
  },
  {
   "cell_type": "code",
   "execution_count": null,
   "id": "f6c9b121",
   "metadata": {},
   "outputs": [],
   "source": [
    "clf.predict(X_test)"
   ]
  },
  {
   "cell_type": "code",
   "execution_count": null,
   "id": "7d779f65",
   "metadata": {},
   "outputs": [],
   "source": [
    "t.get_params()"
   ]
  },
  {
   "cell_type": "code",
   "execution_count": null,
   "id": "16ad44be",
   "metadata": {},
   "outputs": [],
   "source": [
    "t.fit(X)"
   ]
  },
  {
   "cell_type": "code",
   "execution_count": null,
   "id": "57f0df8c",
   "metadata": {},
   "outputs": [],
   "source": [
    "t.get_fitted_params()"
   ]
  },
  {
   "cell_type": "code",
   "execution_count": null,
   "id": "7cd12556",
   "metadata": {},
   "outputs": [],
   "source": [
    "t.transform(X_test)"
   ]
  },
  {
   "attachments": {},
   "cell_type": "markdown",
   "id": "37c55663",
   "metadata": {},
   "source": [
    "### Iteration 2 - extender interface, template pattern, tags and configs"
   ]
  },
  {
   "attachments": {},
   "cell_type": "markdown",
   "id": "54324652",
   "metadata": {},
   "source": [
    "2nd iteration - improved\n",
    "\n",
    "* input check boilerplate becomes repetitive!\n",
    "    * use of template pattern for extenders, `fit`/`_fit` with boilerplate in `fit`\n",
    "    * extension templates become much simpler!\n",
    "* config: controlling the output type in `predict`, `transform` - `numpy` or `pandas`?\n",
    "    * output conversion added in boilerplate layer (between `predict` and `_predict` etc)\n",
    "    * config dict needs to be added to base classes\n",
    "* tag: what kind of estimator, e.g., regressor, transformer?\n",
    "    * tag dict needs to be added in base classes\n",
    "\n",
    "*[pydata_skbase/mini_sklearn_v2](https://github.com/sktime/sktime-tutorial-pydata-seattle-2023/blob/main/pydata_skbase/mini_sklearn_v2)*"
   ]
  },
  {
   "attachments": {},
   "cell_type": "markdown",
   "id": "dc1f1750",
   "metadata": {},
   "source": [
    "why separate public user (`fit`, `predict`) from private extender interface (`_fit`, `_predict`)?\n",
    "\n",
    "* both should follow unified pattern - user = strategy pattern; extender = template pattern\n",
    "* localizing the boilerplate in one place is DRY\n",
    "    * DRY boilerplate is easier to maintain\n",
    "    * repetitive boilerplate is a risk for errors, bugs, etc\n",
    "    * boilerplate in one place also allows richer boilerplate!\n",
    "* extension templates become much simpler and less error prone\n",
    "    * easier to contribute new estimators!\n",
    "    * easier for power users to maintain their own estimators!\n",
    "\n",
    "example diagram, `sktime` public interface and extender interface:\n",
    "\n",
    "<img src=\"img/interfaces.jpg\"/>"
   ]
  },
  {
   "cell_type": "code",
   "execution_count": null,
   "id": "1152a614",
   "metadata": {},
   "outputs": [],
   "source": [
    "from pydata_skbase.mini_sklearn_v2.regression import LinReg\n",
    "from pydata_skbase.mini_sklearn_v2.transform import Scaler\n",
    "\n",
    "t = Scaler(strategy=\"std\")\n",
    "clf = LinReg()"
   ]
  },
  {
   "cell_type": "code",
   "execution_count": null,
   "id": "e71c1282",
   "metadata": {},
   "outputs": [],
   "source": [
    "clf.fit(X_train, y_train)\n",
    "clf.predict(X_test)"
   ]
  },
  {
   "cell_type": "code",
   "execution_count": null,
   "id": "86f93488",
   "metadata": {},
   "outputs": [],
   "source": [
    "t.fit(X_train)\n",
    "t.transform(X_test)"
   ]
  },
  {
   "attachments": {},
   "cell_type": "markdown",
   "id": "7f37b925",
   "metadata": {},
   "source": [
    "### Iteration 3 - pipelines, meta-estimators"
   ]
  },
  {
   "attachments": {},
   "cell_type": "markdown",
   "id": "919230cb",
   "metadata": {},
   "source": [
    "3rd iteration - adding a meta-estimator\n",
    "\n",
    "* inheriting from `BaseMetaEstimator` in `skbase`\n",
    "* requires setting the `named_object_parameters` and `fitted_named_object_parameters` tags\n",
    "* factor out `_CommonTags` to allow the meta-estimator and estimator base class to inherit\n",
    "\n",
    "*[pydata_skbase/mini_sklearn_v3](https://github.com/sktime/sktime-tutorial-pydata-seattle-2023/blob/main/pydata_skbase/mini_sklearn_v3)*"
   ]
  },
  {
   "cell_type": "code",
   "execution_count": null,
   "id": "b441579c",
   "metadata": {},
   "outputs": [],
   "source": [
    "from pydata_skbase.mini_sklearn_v3.pipeline import RegressorPipeline\n",
    "from pydata_skbase.mini_sklearn_v3.regression import LinReg\n",
    "from pydata_skbase.mini_sklearn_v3.transform import Scaler\n",
    "\n",
    "t1 = Scaler(strategy=\"std\")\n",
    "t2 = Scaler(strategy=\"minmax\")\n",
    "clf = LinReg()\n",
    "\n",
    "pipe = RegressorPipeline([t1, t2, clf])"
   ]
  },
  {
   "cell_type": "code",
   "execution_count": null,
   "id": "9381075b",
   "metadata": {},
   "outputs": [],
   "source": [
    "pipe.get_params()"
   ]
  },
  {
   "cell_type": "code",
   "execution_count": null,
   "id": "0499d8df",
   "metadata": {},
   "outputs": [],
   "source": [
    "pipe.fit(X_train, y_train)"
   ]
  },
  {
   "cell_type": "code",
   "execution_count": null,
   "id": "5ca32009",
   "metadata": {},
   "outputs": [],
   "source": [
    "pipe.get_fitted_params()"
   ]
  },
  {
   "cell_type": "code",
   "execution_count": null,
   "id": "23c717bf",
   "metadata": {},
   "outputs": [],
   "source": [
    "pipe.predict(X_test)"
   ]
  },
  {
   "attachments": {},
   "cell_type": "markdown",
   "id": "d1337546",
   "metadata": {},
   "source": [
    "---\n",
    "## Summary\n",
    "\n",
    "* `skbase` is a reusable workbench for creating `sklearn`-like, `sklearn` compatible libraries\n",
    "* recipe to create `sklearn`-like libraries - public interface, extension template, tags/configs, testing\n",
    "* `skbase` provides out of the box: parameter handling, tag/config handling, composition, retrieval, testing"
   ]
  },
  {
   "attachments": {},
   "cell_type": "markdown",
   "id": "2a5c93a7",
   "metadata": {},
   "source": [
    "---\n",
    "\n",
    "### Credits: notebook 3 - advanced extension\n",
    "\n",
    "notebook creation: fkiraly\n",
    "\n",
    "skbase: fkiraly, rnkuhns, mloning, sktime & sklearn developers (by code reuse)\\\n",
    "sktime style design: fkiraly, mloning, sktime developers"
   ]
  },
  {
   "attachments": {},
   "cell_type": "markdown",
   "id": "e07682df",
   "metadata": {},
   "source": [
    "---\n",
    "\n",
    "## Join sktime!\n",
    "\n",
    "* openly governed - users, developers, early career data scientists\n",
    "* world-wide contributor and user footprint\n",
    "\n",
    "**EVERYONE CAN JOIN! EVERYONE CAN BECOME A COMMUNITY LEADER!**\n",
    "\n",
    "* join our discord (developers and community)!\n",
    "    * regular **community collaboration sessions** and stand-ups on Fridays\n",
    "    * next **developer sprint**: \n",
    "\n",
    "Opportunities:\n",
    "\n",
    "* sktime **mentoring programme**: github.com/sktime/mentoring\n",
    "\n",
    "**sktime developer sprint 2023**"
   ]
  }
 ],
 "metadata": {
  "kernelspec": {
   "display_name": "sktime-skbase-310",
   "language": "python",
   "name": "python3"
  },
  "language_info": {
   "codemirror_mode": {
    "name": "ipython",
    "version": 3
   },
   "file_extension": ".py",
   "mimetype": "text/x-python",
   "name": "python",
   "nbconvert_exporter": "python",
   "pygments_lexer": "ipython3",
   "version": "3.10.8"
  },
  "vscode": {
   "interpreter": {
    "hash": "1ab6896984b6aa500b8009633c692bca601cfe3e50e0ab79a8a59539ceef9c7a"
   }
  }
 },
 "nbformat": 4,
 "nbformat_minor": 5
}
