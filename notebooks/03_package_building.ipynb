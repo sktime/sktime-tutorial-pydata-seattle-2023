{
 "cells": [
  {
   "attachments": {},
   "cell_type": "markdown",
   "id": "ba59d6b6",
   "metadata": {},
   "source": [
    "# Package Building with `skbase`"
   ]
  },
  {
   "attachments": {},
   "cell_type": "markdown",
   "id": "30e2bb9e",
   "metadata": {},
   "source": [
    "### Overview of this notebook\n",
    "\n",
    "building an sklearn-like package\n",
    "\n",
    "* use of base classes\n",
    "* strategy pattern, template pattern\n",
    "* tags and configs\n",
    "* retrieval via `all_objects`\n",
    "* heterogeneous meta-estimators\n",
    "* testing"
   ]
  },
  {
   "cell_type": "code",
   "execution_count": 1,
   "id": "f14c1202",
   "metadata": {},
   "outputs": [],
   "source": [
    "from os import sys\n",
    "sys.path.append(\"..\")"
   ]
  },
  {
   "cell_type": "code",
   "execution_count": 2,
   "id": "fe222d47",
   "metadata": {},
   "outputs": [],
   "source": [
    "import numpy as np\n",
    "import pandas as pd"
   ]
  },
  {
   "cell_type": "code",
   "execution_count": 3,
   "id": "49d4f967",
   "metadata": {},
   "outputs": [],
   "source": [
    "import warnings\n",
    "warnings.filterwarnings('ignore')"
   ]
  },
  {
   "attachments": {},
   "cell_type": "markdown",
   "id": "2c2d9d33",
   "metadata": {},
   "source": [
    "## Using ``skbase`` to implement an ``sklearn``-like"
   ]
  },
  {
   "attachments": {},
   "cell_type": "markdown",
   "id": "992e9770",
   "metadata": {},
   "source": [
    "Recommended recipe:\n",
    "\n",
    "1. implement a few examples of algorithms\n",
    "2. use that to come up with a sensible template design\n",
    "3. write down the user contract as a base class sketch, with full docstrings (incl assumes, guarantees)\n",
    "4. write down the extension contract as an extension template with full docstrings (incl assumes, guarantees)\n",
    "5. implement base classes using ``BaseObject``, ``BaseEstimator``, meta classes if applicable\n",
    "    * public interface, boilerplate methods, base functionality\n",
    "    * template methods, extension interface\n",
    "    * tags, configs\n",
    "6. implement concrete classes, start with reinterfacing examples\n",
    "    * subject to tests\n",
    "7. implement test framework for interface, e.g., `check_estimator`\n",
    "\n",
    "Advanced functionality:\n",
    "\n",
    "* estimator retrieval via `all_objects`\n",
    "* systematic testing via test class framework"
   ]
  },
  {
   "attachments": {},
   "cell_type": "markdown",
   "id": "3077dbf1",
   "metadata": {},
   "source": [
    "### Iteration 0 - examples, initial design"
   ]
  },
  {
   "attachments": {},
   "cell_type": "markdown",
   "id": "25de9556",
   "metadata": {},
   "source": [
    "at the start, we want to:\n",
    "\n",
    "* implement examples of the algorithms to inform the design\n",
    "* use the examples to abstract a public unified interface, extender pattern\n",
    "\n",
    "IMPORTANT: \"3 example rule\"\n",
    "\n",
    "= before abstracting a design, ensure you have at least 3 substantially distinct examples!\n",
    "\n",
    "e.g., 3 regressors, 3 transformers, 3 pipelines, etc\n",
    "\n",
    "(in this repository, there is only 1 example per, for ease of reading\n",
    "- but reader is expected to be familiar with others from `sklearn`!)\n",
    "\n",
    "Examples in the repo:\n",
    "\n",
    "* linear regression \"naive implementation\"\n",
    "* preprocessing/scaling \"naive implementation\n",
    "\n",
    "*[pydata_skbase/mini_sklearn_v0](https://github.com/sktime/sktime-tutorial-pydata-seattle-2023/blob/main/pydata_skbase/mini_sklearn_v1)*"
   ]
  },
  {
   "attachments": {},
   "cell_type": "markdown",
   "id": "d14f1bb5",
   "metadata": {},
   "source": [
    "### Loading data used throughout"
   ]
  },
  {
   "cell_type": "code",
   "execution_count": 4,
   "id": "cdcefa4e",
   "metadata": {},
   "outputs": [],
   "source": [
    "from sklearn.datasets import load_diabetes\n",
    "from sklearn.model_selection import train_test_split\n",
    "\n",
    "X, y = load_diabetes(return_X_y=True, as_frame=True)\n",
    "y = pd.DataFrame(y)\n",
    "X_train, X_test, y_train, y_test = train_test_split(X, y)"
   ]
  },
  {
   "attachments": {},
   "cell_type": "markdown",
   "id": "7a3be0ef",
   "metadata": {},
   "source": [
    "### Iteration 1 - base class interface, strategy pattern"
   ]
  },
  {
   "attachments": {},
   "cell_type": "markdown",
   "id": "3185d419",
   "metadata": {},
   "source": [
    "our 1st iteration - class design based on iteration 0\n",
    "\n",
    "* in `base.py`, we define the public contract\n",
    "    * `fit`/`predict` for regressors, `fit`/`transform` for transformers\n",
    "* `base.py` also has the extender contract\n",
    "    * overriding `fit`/`predict` directly\n",
    "    * ensuring input and output checks are in place\n",
    "\n",
    "*[pydata_skbase/mini_sklearn_v1](https://github.com/sktime/sktime-tutorial-pydata-seattle-2023/blob/main/pydata_skbase/mini_sklearn_v1)*"
   ]
  },
  {
   "cell_type": "code",
   "execution_count": 5,
   "id": "74fe131d",
   "metadata": {},
   "outputs": [],
   "source": [
    "from pydata_skbase.mini_sklearn_v1.regression import LinReg\n",
    "from pydata_skbase.mini_sklearn_v1.transform import Scaler\n",
    "\n",
    "t = Scaler(strategy=\"std\")\n",
    "clf = LinReg()"
   ]
  },
  {
   "cell_type": "code",
   "execution_count": 6,
   "id": "91b4dbf8",
   "metadata": {},
   "outputs": [
    {
     "data": {
      "text/plain": [
       "{'shrink': 0.0}"
      ]
     },
     "execution_count": 6,
     "metadata": {},
     "output_type": "execute_result"
    }
   ],
   "source": [
    "clf.get_params()"
   ]
  },
  {
   "cell_type": "code",
   "execution_count": 7,
   "id": "2ed8faec",
   "metadata": {},
   "outputs": [
    {
     "data": {
      "text/html": [
       "<style>#sk-dea233a0-9323-4159-a517-1c613079e8b1 {color: black;background-color: white;}#sk-dea233a0-9323-4159-a517-1c613079e8b1 pre{padding: 0;}#sk-dea233a0-9323-4159-a517-1c613079e8b1 div.sk-toggleable {background-color: white;}#sk-dea233a0-9323-4159-a517-1c613079e8b1 label.sk-toggleable__label {cursor: pointer;display: block;width: 100%;margin-bottom: 0;padding: 0.3em;box-sizing: border-box;text-align: center;}#sk-dea233a0-9323-4159-a517-1c613079e8b1 label.sk-toggleable__label-arrow:before {content: \"▸\";float: left;margin-right: 0.25em;color: #696969;}#sk-dea233a0-9323-4159-a517-1c613079e8b1 label.sk-toggleable__label-arrow:hover:before {color: black;}#sk-dea233a0-9323-4159-a517-1c613079e8b1 div.sk-estimator:hover label.sk-toggleable__label-arrow:before {color: black;}#sk-dea233a0-9323-4159-a517-1c613079e8b1 div.sk-toggleable__content {max-height: 0;max-width: 0;overflow: hidden;text-align: left;background-color: #f0f8ff;}#sk-dea233a0-9323-4159-a517-1c613079e8b1 div.sk-toggleable__content pre {margin: 0.2em;color: black;border-radius: 0.25em;background-color: #f0f8ff;}#sk-dea233a0-9323-4159-a517-1c613079e8b1 input.sk-toggleable__control:checked~div.sk-toggleable__content {max-height: 200px;max-width: 100%;overflow: auto;}#sk-dea233a0-9323-4159-a517-1c613079e8b1 input.sk-toggleable__control:checked~label.sk-toggleable__label-arrow:before {content: \"▾\";}#sk-dea233a0-9323-4159-a517-1c613079e8b1 div.sk-estimator input.sk-toggleable__control:checked~label.sk-toggleable__label {background-color: #d4ebff;}#sk-dea233a0-9323-4159-a517-1c613079e8b1 div.sk-label input.sk-toggleable__control:checked~label.sk-toggleable__label {background-color: #d4ebff;}#sk-dea233a0-9323-4159-a517-1c613079e8b1 input.sk-hidden--visually {border: 0;clip: rect(1px 1px 1px 1px);clip: rect(1px, 1px, 1px, 1px);height: 1px;margin: -1px;overflow: hidden;padding: 0;position: absolute;width: 1px;}#sk-dea233a0-9323-4159-a517-1c613079e8b1 div.sk-estimator {font-family: monospace;background-color: #f0f8ff;border: 1px dotted black;border-radius: 0.25em;box-sizing: border-box;margin-bottom: 0.5em;}#sk-dea233a0-9323-4159-a517-1c613079e8b1 div.sk-estimator:hover {background-color: #d4ebff;}#sk-dea233a0-9323-4159-a517-1c613079e8b1 div.sk-parallel-item::after {content: \"\";width: 100%;border-bottom: 1px solid gray;flex-grow: 1;}#sk-dea233a0-9323-4159-a517-1c613079e8b1 div.sk-label:hover label.sk-toggleable__label {background-color: #d4ebff;}#sk-dea233a0-9323-4159-a517-1c613079e8b1 div.sk-serial::before {content: \"\";position: absolute;border-left: 1px solid gray;box-sizing: border-box;top: 2em;bottom: 0;left: 50%;}#sk-dea233a0-9323-4159-a517-1c613079e8b1 div.sk-serial {display: flex;flex-direction: column;align-items: center;background-color: white;padding-right: 0.2em;padding-left: 0.2em;}#sk-dea233a0-9323-4159-a517-1c613079e8b1 div.sk-item {z-index: 1;}#sk-dea233a0-9323-4159-a517-1c613079e8b1 div.sk-parallel {display: flex;align-items: stretch;justify-content: center;background-color: white;}#sk-dea233a0-9323-4159-a517-1c613079e8b1 div.sk-parallel::before {content: \"\";position: absolute;border-left: 1px solid gray;box-sizing: border-box;top: 2em;bottom: 0;left: 50%;}#sk-dea233a0-9323-4159-a517-1c613079e8b1 div.sk-parallel-item {display: flex;flex-direction: column;position: relative;background-color: white;}#sk-dea233a0-9323-4159-a517-1c613079e8b1 div.sk-parallel-item:first-child::after {align-self: flex-end;width: 50%;}#sk-dea233a0-9323-4159-a517-1c613079e8b1 div.sk-parallel-item:last-child::after {align-self: flex-start;width: 50%;}#sk-dea233a0-9323-4159-a517-1c613079e8b1 div.sk-parallel-item:only-child::after {width: 0;}#sk-dea233a0-9323-4159-a517-1c613079e8b1 div.sk-dashed-wrapped {border: 1px dashed gray;margin: 0 0.4em 0.5em 0.4em;box-sizing: border-box;padding-bottom: 0.4em;background-color: white;position: relative;}#sk-dea233a0-9323-4159-a517-1c613079e8b1 div.sk-label label {font-family: monospace;font-weight: bold;background-color: white;display: inline-block;line-height: 1.2em;}#sk-dea233a0-9323-4159-a517-1c613079e8b1 div.sk-label-container {position: relative;z-index: 2;text-align: center;}#sk-dea233a0-9323-4159-a517-1c613079e8b1 div.sk-container {/* jupyter's `normalize.less` sets `[hidden] { display: none; }` but bootstrap.min.css set `[hidden] { display: none !important; }` so we also need the `!important` here to be able to override the default hidden behavior on the sphinx rendered scikit-learn.org. See: https://github.com/scikit-learn/scikit-learn/issues/21755 */display: inline-block !important;position: relative;}#sk-dea233a0-9323-4159-a517-1c613079e8b1 div.sk-text-repr-fallback {display: none;}</style><div id='sk-dea233a0-9323-4159-a517-1c613079e8b1' class=\"sk-top-container\"><div class=\"sk-text-repr-fallback\"><pre>LinReg()</pre><b>Please rerun this cell to show the HTML repr or trust the notebook.</b></div><div class=\"sk-container\" hidden><div class='sk-item'><div class=\"sk-estimator sk-toggleable\"><input class=\"sk-toggleable__control sk-hidden--visually\" id=UUID('3bb486e1-30ff-40de-856f-674f552b781c') type=\"checkbox\" checked><label for=UUID('3bb486e1-30ff-40de-856f-674f552b781c') class='sk-toggleable__label sk-toggleable__label-arrow'>LinReg</label><div class=\"sk-toggleable__content\"><pre>LinReg()</pre></div></div></div></div></div>"
      ],
      "text/plain": [
       "LinReg()"
      ]
     },
     "execution_count": 7,
     "metadata": {},
     "output_type": "execute_result"
    }
   ],
   "source": [
    "clf.fit(X_train, y_train)"
   ]
  },
  {
   "cell_type": "code",
   "execution_count": 8,
   "id": "fc281208",
   "metadata": {},
   "outputs": [
    {
     "data": {
      "text/plain": [
       "{'beta':          target\n",
       " age  -46.556324\n",
       " sex -274.657701\n",
       " bmi  620.813306\n",
       " bp   294.572797\n",
       " s1  -254.264131\n",
       " s2   -46.015739\n",
       " s3  -105.810988\n",
       " s4    80.610654\n",
       " s5   509.663735\n",
       " s6   340.441126}"
      ]
     },
     "execution_count": 8,
     "metadata": {},
     "output_type": "execute_result"
    }
   ],
   "source": [
    "clf.get_fitted_params()"
   ]
  },
  {
   "cell_type": "code",
   "execution_count": 9,
   "id": "f6c9b121",
   "metadata": {},
   "outputs": [
    {
     "data": {
      "text/html": [
       "<div>\n",
       "<style scoped>\n",
       "    .dataframe tbody tr th:only-of-type {\n",
       "        vertical-align: middle;\n",
       "    }\n",
       "\n",
       "    .dataframe tbody tr th {\n",
       "        vertical-align: top;\n",
       "    }\n",
       "\n",
       "    .dataframe thead th {\n",
       "        text-align: right;\n",
       "    }\n",
       "</style>\n",
       "<table border=\"1\" class=\"dataframe\">\n",
       "  <thead>\n",
       "    <tr style=\"text-align: right;\">\n",
       "      <th></th>\n",
       "      <th>target</th>\n",
       "    </tr>\n",
       "  </thead>\n",
       "  <tbody>\n",
       "    <tr>\n",
       "      <th>8</th>\n",
       "      <td>12.954765</td>\n",
       "    </tr>\n",
       "    <tr>\n",
       "      <th>385</th>\n",
       "      <td>-14.866782</td>\n",
       "    </tr>\n",
       "    <tr>\n",
       "      <th>46</th>\n",
       "      <td>-25.660355</td>\n",
       "    </tr>\n",
       "    <tr>\n",
       "      <th>166</th>\n",
       "      <td>-110.856014</td>\n",
       "    </tr>\n",
       "    <tr>\n",
       "      <th>88</th>\n",
       "      <td>-48.006016</td>\n",
       "    </tr>\n",
       "    <tr>\n",
       "      <th>...</th>\n",
       "      <td>...</td>\n",
       "    </tr>\n",
       "    <tr>\n",
       "      <th>221</th>\n",
       "      <td>-22.705096</td>\n",
       "    </tr>\n",
       "    <tr>\n",
       "      <th>206</th>\n",
       "      <td>2.389099</td>\n",
       "    </tr>\n",
       "    <tr>\n",
       "      <th>284</th>\n",
       "      <td>-13.269047</td>\n",
       "    </tr>\n",
       "    <tr>\n",
       "      <th>32</th>\n",
       "      <td>114.198178</td>\n",
       "    </tr>\n",
       "    <tr>\n",
       "      <th>186</th>\n",
       "      <td>24.701037</td>\n",
       "    </tr>\n",
       "  </tbody>\n",
       "</table>\n",
       "<p>111 rows × 1 columns</p>\n",
       "</div>"
      ],
      "text/plain": [
       "         target\n",
       "8     12.954765\n",
       "385  -14.866782\n",
       "46   -25.660355\n",
       "166 -110.856014\n",
       "88   -48.006016\n",
       "..          ...\n",
       "221  -22.705096\n",
       "206    2.389099\n",
       "284  -13.269047\n",
       "32   114.198178\n",
       "186   24.701037\n",
       "\n",
       "[111 rows x 1 columns]"
      ]
     },
     "execution_count": 9,
     "metadata": {},
     "output_type": "execute_result"
    }
   ],
   "source": [
    "clf.predict(X_test)"
   ]
  },
  {
   "cell_type": "code",
   "execution_count": 10,
   "id": "7d779f65",
   "metadata": {},
   "outputs": [
    {
     "data": {
      "text/plain": [
       "{'strategy': 'std'}"
      ]
     },
     "execution_count": 10,
     "metadata": {},
     "output_type": "execute_result"
    }
   ],
   "source": [
    "t.get_params()"
   ]
  },
  {
   "cell_type": "code",
   "execution_count": 11,
   "id": "16ad44be",
   "metadata": {},
   "outputs": [
    {
     "data": {
      "text/html": [
       "<style>#sk-d4379d8a-60ec-471b-a2ee-d23683b633f6 {color: black;background-color: white;}#sk-d4379d8a-60ec-471b-a2ee-d23683b633f6 pre{padding: 0;}#sk-d4379d8a-60ec-471b-a2ee-d23683b633f6 div.sk-toggleable {background-color: white;}#sk-d4379d8a-60ec-471b-a2ee-d23683b633f6 label.sk-toggleable__label {cursor: pointer;display: block;width: 100%;margin-bottom: 0;padding: 0.3em;box-sizing: border-box;text-align: center;}#sk-d4379d8a-60ec-471b-a2ee-d23683b633f6 label.sk-toggleable__label-arrow:before {content: \"▸\";float: left;margin-right: 0.25em;color: #696969;}#sk-d4379d8a-60ec-471b-a2ee-d23683b633f6 label.sk-toggleable__label-arrow:hover:before {color: black;}#sk-d4379d8a-60ec-471b-a2ee-d23683b633f6 div.sk-estimator:hover label.sk-toggleable__label-arrow:before {color: black;}#sk-d4379d8a-60ec-471b-a2ee-d23683b633f6 div.sk-toggleable__content {max-height: 0;max-width: 0;overflow: hidden;text-align: left;background-color: #f0f8ff;}#sk-d4379d8a-60ec-471b-a2ee-d23683b633f6 div.sk-toggleable__content pre {margin: 0.2em;color: black;border-radius: 0.25em;background-color: #f0f8ff;}#sk-d4379d8a-60ec-471b-a2ee-d23683b633f6 input.sk-toggleable__control:checked~div.sk-toggleable__content {max-height: 200px;max-width: 100%;overflow: auto;}#sk-d4379d8a-60ec-471b-a2ee-d23683b633f6 input.sk-toggleable__control:checked~label.sk-toggleable__label-arrow:before {content: \"▾\";}#sk-d4379d8a-60ec-471b-a2ee-d23683b633f6 div.sk-estimator input.sk-toggleable__control:checked~label.sk-toggleable__label {background-color: #d4ebff;}#sk-d4379d8a-60ec-471b-a2ee-d23683b633f6 div.sk-label input.sk-toggleable__control:checked~label.sk-toggleable__label {background-color: #d4ebff;}#sk-d4379d8a-60ec-471b-a2ee-d23683b633f6 input.sk-hidden--visually {border: 0;clip: rect(1px 1px 1px 1px);clip: rect(1px, 1px, 1px, 1px);height: 1px;margin: -1px;overflow: hidden;padding: 0;position: absolute;width: 1px;}#sk-d4379d8a-60ec-471b-a2ee-d23683b633f6 div.sk-estimator {font-family: monospace;background-color: #f0f8ff;border: 1px dotted black;border-radius: 0.25em;box-sizing: border-box;margin-bottom: 0.5em;}#sk-d4379d8a-60ec-471b-a2ee-d23683b633f6 div.sk-estimator:hover {background-color: #d4ebff;}#sk-d4379d8a-60ec-471b-a2ee-d23683b633f6 div.sk-parallel-item::after {content: \"\";width: 100%;border-bottom: 1px solid gray;flex-grow: 1;}#sk-d4379d8a-60ec-471b-a2ee-d23683b633f6 div.sk-label:hover label.sk-toggleable__label {background-color: #d4ebff;}#sk-d4379d8a-60ec-471b-a2ee-d23683b633f6 div.sk-serial::before {content: \"\";position: absolute;border-left: 1px solid gray;box-sizing: border-box;top: 2em;bottom: 0;left: 50%;}#sk-d4379d8a-60ec-471b-a2ee-d23683b633f6 div.sk-serial {display: flex;flex-direction: column;align-items: center;background-color: white;padding-right: 0.2em;padding-left: 0.2em;}#sk-d4379d8a-60ec-471b-a2ee-d23683b633f6 div.sk-item {z-index: 1;}#sk-d4379d8a-60ec-471b-a2ee-d23683b633f6 div.sk-parallel {display: flex;align-items: stretch;justify-content: center;background-color: white;}#sk-d4379d8a-60ec-471b-a2ee-d23683b633f6 div.sk-parallel::before {content: \"\";position: absolute;border-left: 1px solid gray;box-sizing: border-box;top: 2em;bottom: 0;left: 50%;}#sk-d4379d8a-60ec-471b-a2ee-d23683b633f6 div.sk-parallel-item {display: flex;flex-direction: column;position: relative;background-color: white;}#sk-d4379d8a-60ec-471b-a2ee-d23683b633f6 div.sk-parallel-item:first-child::after {align-self: flex-end;width: 50%;}#sk-d4379d8a-60ec-471b-a2ee-d23683b633f6 div.sk-parallel-item:last-child::after {align-self: flex-start;width: 50%;}#sk-d4379d8a-60ec-471b-a2ee-d23683b633f6 div.sk-parallel-item:only-child::after {width: 0;}#sk-d4379d8a-60ec-471b-a2ee-d23683b633f6 div.sk-dashed-wrapped {border: 1px dashed gray;margin: 0 0.4em 0.5em 0.4em;box-sizing: border-box;padding-bottom: 0.4em;background-color: white;position: relative;}#sk-d4379d8a-60ec-471b-a2ee-d23683b633f6 div.sk-label label {font-family: monospace;font-weight: bold;background-color: white;display: inline-block;line-height: 1.2em;}#sk-d4379d8a-60ec-471b-a2ee-d23683b633f6 div.sk-label-container {position: relative;z-index: 2;text-align: center;}#sk-d4379d8a-60ec-471b-a2ee-d23683b633f6 div.sk-container {/* jupyter's `normalize.less` sets `[hidden] { display: none; }` but bootstrap.min.css set `[hidden] { display: none !important; }` so we also need the `!important` here to be able to override the default hidden behavior on the sphinx rendered scikit-learn.org. See: https://github.com/scikit-learn/scikit-learn/issues/21755 */display: inline-block !important;position: relative;}#sk-d4379d8a-60ec-471b-a2ee-d23683b633f6 div.sk-text-repr-fallback {display: none;}</style><div id='sk-d4379d8a-60ec-471b-a2ee-d23683b633f6' class=\"sk-top-container\"><div class=\"sk-text-repr-fallback\"><pre>Scaler()</pre><b>Please rerun this cell to show the HTML repr or trust the notebook.</b></div><div class=\"sk-container\" hidden><div class='sk-item'><div class=\"sk-estimator sk-toggleable\"><input class=\"sk-toggleable__control sk-hidden--visually\" id=UUID('5528da8a-540b-4eef-bec3-cda04ac62a3e') type=\"checkbox\" checked><label for=UUID('5528da8a-540b-4eef-bec3-cda04ac62a3e') class='sk-toggleable__label sk-toggleable__label-arrow'>Scaler</label><div class=\"sk-toggleable__content\"><pre>Scaler()</pre></div></div></div></div></div>"
      ],
      "text/plain": [
       "Scaler()"
      ]
     },
     "execution_count": 11,
     "metadata": {},
     "output_type": "execute_result"
    }
   ],
   "source": [
    "t.fit(X)"
   ]
  },
  {
   "cell_type": "code",
   "execution_count": 12,
   "id": "57f0df8c",
   "metadata": {},
   "outputs": [
    {
     "data": {
      "text/plain": [
       "{'X_max': age    0.110727\n",
       " sex    0.050680\n",
       " bmi    0.170555\n",
       " bp     0.132044\n",
       " s1     0.153914\n",
       " s2     0.198788\n",
       " s3     0.181179\n",
       " s4     0.185234\n",
       " s5     0.133597\n",
       " s6     0.135612\n",
       " dtype: float64,\n",
       " 'X_mean': age   -2.511817e-19\n",
       " sex    1.230790e-17\n",
       " bmi   -2.245564e-16\n",
       " bp    -4.797570e-17\n",
       " s1    -1.381499e-17\n",
       " s2     3.918434e-17\n",
       " s3    -5.777179e-18\n",
       " s4    -9.042540e-18\n",
       " s5     9.293722e-17\n",
       " s6     1.130318e-17\n",
       " dtype: float64,\n",
       " 'X_min': age   -0.107226\n",
       " sex   -0.044642\n",
       " bmi   -0.090275\n",
       " bp    -0.112399\n",
       " s1    -0.126781\n",
       " s2    -0.115613\n",
       " s3    -0.102307\n",
       " s4    -0.076395\n",
       " s5    -0.126097\n",
       " s6    -0.137767\n",
       " dtype: float64,\n",
       " 'X_span': age    0.217952\n",
       " sex    0.095322\n",
       " bmi    0.260831\n",
       " bp     0.244442\n",
       " s1     0.280694\n",
       " s2     0.314401\n",
       " s3     0.283486\n",
       " s4     0.261629\n",
       " s5     0.259694\n",
       " s6     0.273379\n",
       " dtype: float64,\n",
       " 'X_std': age    0.047619\n",
       " sex    0.047619\n",
       " bmi    0.047619\n",
       " bp     0.047619\n",
       " s1     0.047619\n",
       " s2     0.047619\n",
       " s3     0.047619\n",
       " s4     0.047619\n",
       " s5     0.047619\n",
       " s6     0.047619\n",
       " dtype: float64}"
      ]
     },
     "execution_count": 12,
     "metadata": {},
     "output_type": "execute_result"
    }
   ],
   "source": [
    "t.get_fitted_params()"
   ]
  },
  {
   "cell_type": "code",
   "execution_count": 13,
   "id": "7cd12556",
   "metadata": {},
   "outputs": [
    {
     "data": {
      "text/html": [
       "<div>\n",
       "<style scoped>\n",
       "    .dataframe tbody tr th:only-of-type {\n",
       "        vertical-align: middle;\n",
       "    }\n",
       "\n",
       "    .dataframe tbody tr th {\n",
       "        vertical-align: top;\n",
       "    }\n",
       "\n",
       "    .dataframe thead th {\n",
       "        text-align: right;\n",
       "    }\n",
       "</style>\n",
       "<table border=\"1\" class=\"dataframe\">\n",
       "  <thead>\n",
       "    <tr style=\"text-align: right;\">\n",
       "      <th></th>\n",
       "      <th>age</th>\n",
       "      <th>sex</th>\n",
       "      <th>bmi</th>\n",
       "      <th>bp</th>\n",
       "      <th>s1</th>\n",
       "      <th>s2</th>\n",
       "      <th>s3</th>\n",
       "      <th>s4</th>\n",
       "      <th>s5</th>\n",
       "      <th>s6</th>\n",
       "    </tr>\n",
       "  </thead>\n",
       "  <tbody>\n",
       "    <tr>\n",
       "      <th>8</th>\n",
       "      <td>0.875877</td>\n",
       "      <td>1.064282</td>\n",
       "      <td>1.295620</td>\n",
       "      <td>-0.842078</td>\n",
       "      <td>-0.293003</td>\n",
       "      <td>0.130235</td>\n",
       "      <td>-0.602160</td>\n",
       "      <td>-0.054438</td>\n",
       "      <td>-0.314154</td>\n",
       "      <td>0.238321</td>\n",
       "    </tr>\n",
       "    <tr>\n",
       "      <th>385</th>\n",
       "      <td>0.494461</td>\n",
       "      <td>1.064282</td>\n",
       "      <td>-0.401934</td>\n",
       "      <td>1.037719</td>\n",
       "      <td>-1.333224</td>\n",
       "      <td>-1.283630</td>\n",
       "      <td>0.093669</td>\n",
       "      <td>-0.829361</td>\n",
       "      <td>-0.545015</td>\n",
       "      <td>-0.283584</td>\n",
       "    </tr>\n",
       "    <tr>\n",
       "      <th>46</th>\n",
       "      <td>-1.183772</td>\n",
       "      <td>-0.937474</td>\n",
       "      <td>-0.243495</td>\n",
       "      <td>-0.697478</td>\n",
       "      <td>-0.986483</td>\n",
       "      <td>-1.000857</td>\n",
       "      <td>0.093669</td>\n",
       "      <td>-0.829361</td>\n",
       "      <td>-0.167520</td>\n",
       "      <td>-1.849301</td>\n",
       "    </tr>\n",
       "    <tr>\n",
       "      <th>166</th>\n",
       "      <td>-1.183772</td>\n",
       "      <td>1.064282</td>\n",
       "      <td>-1.262028</td>\n",
       "      <td>-0.769778</td>\n",
       "      <td>-1.853334</td>\n",
       "      <td>-1.487490</td>\n",
       "      <td>-0.292903</td>\n",
       "      <td>-0.829361</td>\n",
       "      <td>-1.640939</td>\n",
       "      <td>-2.197238</td>\n",
       "    </tr>\n",
       "    <tr>\n",
       "      <th>88</th>\n",
       "      <td>-1.107489</td>\n",
       "      <td>1.064282</td>\n",
       "      <td>-0.854615</td>\n",
       "      <td>-1.420477</td>\n",
       "      <td>-0.668638</td>\n",
       "      <td>-0.777269</td>\n",
       "      <td>0.789499</td>\n",
       "      <td>-0.829361</td>\n",
       "      <td>-0.724957</td>\n",
       "      <td>1.456101</td>\n",
       "    </tr>\n",
       "    <tr>\n",
       "      <th>...</th>\n",
       "      <td>...</td>\n",
       "      <td>...</td>\n",
       "      <td>...</td>\n",
       "      <td>...</td>\n",
       "      <td>...</td>\n",
       "      <td>...</td>\n",
       "      <td>...</td>\n",
       "      <td>...</td>\n",
       "      <td>...</td>\n",
       "      <td>...</td>\n",
       "    </tr>\n",
       "    <tr>\n",
       "      <th>221</th>\n",
       "      <td>-0.954922</td>\n",
       "      <td>-0.937474</td>\n",
       "      <td>-0.809347</td>\n",
       "      <td>-0.552878</td>\n",
       "      <td>-0.321898</td>\n",
       "      <td>0.018441</td>\n",
       "      <td>-0.679475</td>\n",
       "      <td>-0.054438</td>\n",
       "      <td>0.024099</td>\n",
       "      <td>-0.805490</td>\n",
       "    </tr>\n",
       "    <tr>\n",
       "      <th>206</th>\n",
       "      <td>0.036761</td>\n",
       "      <td>1.064282</td>\n",
       "      <td>0.548697</td>\n",
       "      <td>-0.191379</td>\n",
       "      <td>0.516057</td>\n",
       "      <td>0.807576</td>\n",
       "      <td>-0.447531</td>\n",
       "      <td>0.720486</td>\n",
       "      <td>0.198107</td>\n",
       "      <td>0.064353</td>\n",
       "    </tr>\n",
       "    <tr>\n",
       "      <th>284</th>\n",
       "      <td>0.875877</td>\n",
       "      <td>1.064282</td>\n",
       "      <td>-0.469836</td>\n",
       "      <td>0.603920</td>\n",
       "      <td>-1.391014</td>\n",
       "      <td>-0.948248</td>\n",
       "      <td>-1.297990</td>\n",
       "      <td>-0.054438</td>\n",
       "      <td>0.060087</td>\n",
       "      <td>-1.153427</td>\n",
       "    </tr>\n",
       "    <tr>\n",
       "      <th>32</th>\n",
       "      <td>0.723311</td>\n",
       "      <td>1.064282</td>\n",
       "      <td>2.631029</td>\n",
       "      <td>0.603920</td>\n",
       "      <td>-1.130959</td>\n",
       "      <td>-0.270908</td>\n",
       "      <td>-2.148448</td>\n",
       "      <td>2.270333</td>\n",
       "      <td>0.005722</td>\n",
       "      <td>0.586258</td>\n",
       "    </tr>\n",
       "    <tr>\n",
       "      <th>186</th>\n",
       "      <td>-1.717755</td>\n",
       "      <td>1.064282</td>\n",
       "      <td>0.888207</td>\n",
       "      <td>-0.408278</td>\n",
       "      <td>0.833902</td>\n",
       "      <td>1.208719</td>\n",
       "      <td>-1.452619</td>\n",
       "      <td>2.270333</td>\n",
       "      <td>0.991000</td>\n",
       "      <td>-0.805490</td>\n",
       "    </tr>\n",
       "  </tbody>\n",
       "</table>\n",
       "<p>111 rows × 10 columns</p>\n",
       "</div>"
      ],
      "text/plain": [
       "          age       sex       bmi        bp        s1        s2        s3  \\\n",
       "8    0.875877  1.064282  1.295620 -0.842078 -0.293003  0.130235 -0.602160   \n",
       "385  0.494461  1.064282 -0.401934  1.037719 -1.333224 -1.283630  0.093669   \n",
       "46  -1.183772 -0.937474 -0.243495 -0.697478 -0.986483 -1.000857  0.093669   \n",
       "166 -1.183772  1.064282 -1.262028 -0.769778 -1.853334 -1.487490 -0.292903   \n",
       "88  -1.107489  1.064282 -0.854615 -1.420477 -0.668638 -0.777269  0.789499   \n",
       "..        ...       ...       ...       ...       ...       ...       ...   \n",
       "221 -0.954922 -0.937474 -0.809347 -0.552878 -0.321898  0.018441 -0.679475   \n",
       "206  0.036761  1.064282  0.548697 -0.191379  0.516057  0.807576 -0.447531   \n",
       "284  0.875877  1.064282 -0.469836  0.603920 -1.391014 -0.948248 -1.297990   \n",
       "32   0.723311  1.064282  2.631029  0.603920 -1.130959 -0.270908 -2.148448   \n",
       "186 -1.717755  1.064282  0.888207 -0.408278  0.833902  1.208719 -1.452619   \n",
       "\n",
       "           s4        s5        s6  \n",
       "8   -0.054438 -0.314154  0.238321  \n",
       "385 -0.829361 -0.545015 -0.283584  \n",
       "46  -0.829361 -0.167520 -1.849301  \n",
       "166 -0.829361 -1.640939 -2.197238  \n",
       "88  -0.829361 -0.724957  1.456101  \n",
       "..        ...       ...       ...  \n",
       "221 -0.054438  0.024099 -0.805490  \n",
       "206  0.720486  0.198107  0.064353  \n",
       "284 -0.054438  0.060087 -1.153427  \n",
       "32   2.270333  0.005722  0.586258  \n",
       "186  2.270333  0.991000 -0.805490  \n",
       "\n",
       "[111 rows x 10 columns]"
      ]
     },
     "execution_count": 13,
     "metadata": {},
     "output_type": "execute_result"
    }
   ],
   "source": [
    "t.transform(X_test)"
   ]
  },
  {
   "attachments": {},
   "cell_type": "markdown",
   "id": "37c55663",
   "metadata": {},
   "source": [
    "### Iteration 2 - extender interface, template pattern, tags and configs"
   ]
  },
  {
   "attachments": {},
   "cell_type": "markdown",
   "id": "54324652",
   "metadata": {},
   "source": [
    "2nd iteration - improved\n",
    "\n",
    "* input check boilerplate becomes repetitive!\n",
    "    * use of template pattern for extenders, `fit`/`_fit` with boilerplate in `fit`\n",
    "    * extension templates become much simpler!\n",
    "* config: controlling the output type in `predict`, `transform` - `numpy` or `pandas`?\n",
    "    * output conversion added in boilerplate layer (between `predict` and `_predict` etc)\n",
    "    * config dict needs to be added to base classes\n",
    "* tag: what kind of estimator, e.g., regressor, transformer?\n",
    "    * tag dict needs to be added in base classes\n",
    "\n",
    "*[pydata_skbase/mini_sklearn_v2](https://github.com/sktime/sktime-tutorial-pydata-seattle-2023/blob/main/pydata_skbase/mini_sklearn_v2)*"
   ]
  },
  {
   "attachments": {},
   "cell_type": "markdown",
   "id": "dc1f1750",
   "metadata": {},
   "source": [
    "why separate public user (`fit`, `predict`) from private extender interface (`_fit`, `_predict`)?\n",
    "\n",
    "* both should follow unified pattern - user = strategy pattern; extender = template pattern\n",
    "* localizing the boilerplate in one place is DRY\n",
    "    * DRY boilerplate is easier to maintain\n",
    "    * repetitive boilerplate is a risk for errors, bugs, etc\n",
    "    * boilerplate in one place also allows richer boilerplate!\n",
    "* extension templates become much simpler and less error prone\n",
    "    * easier to contribute new estimators!\n",
    "    * easier for power users to maintain their own estimators!\n",
    "\n",
    "example diagram, `sktime` public interface and extender interface:\n",
    "\n",
    "<img src=\"img/interfaces.jpg\"/>"
   ]
  },
  {
   "cell_type": "code",
   "execution_count": 14,
   "id": "1152a614",
   "metadata": {},
   "outputs": [],
   "source": [
    "from pydata_skbase.mini_sklearn_v2.regression import LinReg\n",
    "from pydata_skbase.mini_sklearn_v2.transform import Scaler\n",
    "\n",
    "t = Scaler(strategy=\"std\")\n",
    "clf = LinReg()"
   ]
  },
  {
   "cell_type": "code",
   "execution_count": 15,
   "id": "e71c1282",
   "metadata": {},
   "outputs": [
    {
     "data": {
      "text/html": [
       "<div>\n",
       "<style scoped>\n",
       "    .dataframe tbody tr th:only-of-type {\n",
       "        vertical-align: middle;\n",
       "    }\n",
       "\n",
       "    .dataframe tbody tr th {\n",
       "        vertical-align: top;\n",
       "    }\n",
       "\n",
       "    .dataframe thead th {\n",
       "        text-align: right;\n",
       "    }\n",
       "</style>\n",
       "<table border=\"1\" class=\"dataframe\">\n",
       "  <thead>\n",
       "    <tr style=\"text-align: right;\">\n",
       "      <th></th>\n",
       "      <th>target</th>\n",
       "    </tr>\n",
       "  </thead>\n",
       "  <tbody>\n",
       "    <tr>\n",
       "      <th>8</th>\n",
       "      <td>12.954765</td>\n",
       "    </tr>\n",
       "    <tr>\n",
       "      <th>385</th>\n",
       "      <td>-14.866782</td>\n",
       "    </tr>\n",
       "    <tr>\n",
       "      <th>46</th>\n",
       "      <td>-25.660355</td>\n",
       "    </tr>\n",
       "    <tr>\n",
       "      <th>166</th>\n",
       "      <td>-110.856014</td>\n",
       "    </tr>\n",
       "    <tr>\n",
       "      <th>88</th>\n",
       "      <td>-48.006016</td>\n",
       "    </tr>\n",
       "    <tr>\n",
       "      <th>...</th>\n",
       "      <td>...</td>\n",
       "    </tr>\n",
       "    <tr>\n",
       "      <th>221</th>\n",
       "      <td>-22.705096</td>\n",
       "    </tr>\n",
       "    <tr>\n",
       "      <th>206</th>\n",
       "      <td>2.389099</td>\n",
       "    </tr>\n",
       "    <tr>\n",
       "      <th>284</th>\n",
       "      <td>-13.269047</td>\n",
       "    </tr>\n",
       "    <tr>\n",
       "      <th>32</th>\n",
       "      <td>114.198178</td>\n",
       "    </tr>\n",
       "    <tr>\n",
       "      <th>186</th>\n",
       "      <td>24.701037</td>\n",
       "    </tr>\n",
       "  </tbody>\n",
       "</table>\n",
       "<p>111 rows × 1 columns</p>\n",
       "</div>"
      ],
      "text/plain": [
       "         target\n",
       "8     12.954765\n",
       "385  -14.866782\n",
       "46   -25.660355\n",
       "166 -110.856014\n",
       "88   -48.006016\n",
       "..          ...\n",
       "221  -22.705096\n",
       "206    2.389099\n",
       "284  -13.269047\n",
       "32   114.198178\n",
       "186   24.701037\n",
       "\n",
       "[111 rows x 1 columns]"
      ]
     },
     "execution_count": 15,
     "metadata": {},
     "output_type": "execute_result"
    }
   ],
   "source": [
    "clf.fit(X_train, y_train)\n",
    "clf.predict(X_test)"
   ]
  },
  {
   "cell_type": "code",
   "execution_count": 16,
   "id": "86f93488",
   "metadata": {},
   "outputs": [
    {
     "data": {
      "text/html": [
       "<div>\n",
       "<style scoped>\n",
       "    .dataframe tbody tr th:only-of-type {\n",
       "        vertical-align: middle;\n",
       "    }\n",
       "\n",
       "    .dataframe tbody tr th {\n",
       "        vertical-align: top;\n",
       "    }\n",
       "\n",
       "    .dataframe thead th {\n",
       "        text-align: right;\n",
       "    }\n",
       "</style>\n",
       "<table border=\"1\" class=\"dataframe\">\n",
       "  <thead>\n",
       "    <tr style=\"text-align: right;\">\n",
       "      <th></th>\n",
       "      <th>age</th>\n",
       "      <th>sex</th>\n",
       "      <th>bmi</th>\n",
       "      <th>bp</th>\n",
       "      <th>s1</th>\n",
       "      <th>s2</th>\n",
       "      <th>s3</th>\n",
       "      <th>s4</th>\n",
       "      <th>s5</th>\n",
       "      <th>s6</th>\n",
       "    </tr>\n",
       "  </thead>\n",
       "  <tbody>\n",
       "    <tr>\n",
       "      <th>8</th>\n",
       "      <td>0.884195</td>\n",
       "      <td>1.070457</td>\n",
       "      <td>1.234154</td>\n",
       "      <td>-0.860408</td>\n",
       "      <td>-0.290716</td>\n",
       "      <td>0.135069</td>\n",
       "      <td>-0.590210</td>\n",
       "      <td>-0.058876</td>\n",
       "      <td>-0.313406</td>\n",
       "      <td>0.177748</td>\n",
       "    </tr>\n",
       "    <tr>\n",
       "      <th>385</th>\n",
       "      <td>0.492298</td>\n",
       "      <td>1.070457</td>\n",
       "      <td>-0.422216</td>\n",
       "      <td>1.013884</td>\n",
       "      <td>-1.312897</td>\n",
       "      <td>-1.249277</td>\n",
       "      <td>0.096199</td>\n",
       "      <td>-0.820119</td>\n",
       "      <td>-0.536440</td>\n",
       "      <td>-0.343681</td>\n",
       "    </tr>\n",
       "    <tr>\n",
       "      <th>46</th>\n",
       "      <td>-1.232048</td>\n",
       "      <td>-0.931358</td>\n",
       "      <td>-0.267621</td>\n",
       "      <td>-0.716232</td>\n",
       "      <td>-0.972170</td>\n",
       "      <td>-0.972408</td>\n",
       "      <td>0.096199</td>\n",
       "      <td>-0.820119</td>\n",
       "      <td>-0.171744</td>\n",
       "      <td>-1.907970</td>\n",
       "    </tr>\n",
       "    <tr>\n",
       "      <th>166</th>\n",
       "      <td>-1.232048</td>\n",
       "      <td>1.070457</td>\n",
       "      <td>-1.261443</td>\n",
       "      <td>-0.788320</td>\n",
       "      <td>-1.823988</td>\n",
       "      <td>-1.448880</td>\n",
       "      <td>-0.285140</td>\n",
       "      <td>-0.820119</td>\n",
       "      <td>-1.595206</td>\n",
       "      <td>-2.255590</td>\n",
       "    </tr>\n",
       "    <tr>\n",
       "      <th>88</th>\n",
       "      <td>-1.153668</td>\n",
       "      <td>1.070457</td>\n",
       "      <td>-0.863914</td>\n",
       "      <td>-1.437114</td>\n",
       "      <td>-0.659837</td>\n",
       "      <td>-0.753488</td>\n",
       "      <td>0.782608</td>\n",
       "      <td>-0.820119</td>\n",
       "      <td>-0.710281</td>\n",
       "      <td>1.394417</td>\n",
       "    </tr>\n",
       "    <tr>\n",
       "      <th>...</th>\n",
       "      <td>...</td>\n",
       "      <td>...</td>\n",
       "      <td>...</td>\n",
       "      <td>...</td>\n",
       "      <td>...</td>\n",
       "      <td>...</td>\n",
       "      <td>...</td>\n",
       "      <td>...</td>\n",
       "      <td>...</td>\n",
       "      <td>...</td>\n",
       "    </tr>\n",
       "    <tr>\n",
       "      <th>221</th>\n",
       "      <td>-0.996909</td>\n",
       "      <td>-0.931358</td>\n",
       "      <td>-0.819744</td>\n",
       "      <td>-0.572056</td>\n",
       "      <td>-0.319110</td>\n",
       "      <td>0.025609</td>\n",
       "      <td>-0.666478</td>\n",
       "      <td>-0.058876</td>\n",
       "      <td>0.013379</td>\n",
       "      <td>-0.865111</td>\n",
       "    </tr>\n",
       "    <tr>\n",
       "      <th>206</th>\n",
       "      <td>0.022022</td>\n",
       "      <td>1.070457</td>\n",
       "      <td>0.505351</td>\n",
       "      <td>-0.211615</td>\n",
       "      <td>0.504314</td>\n",
       "      <td>0.798268</td>\n",
       "      <td>-0.437675</td>\n",
       "      <td>0.702368</td>\n",
       "      <td>0.181487</td>\n",
       "      <td>0.003938</td>\n",
       "    </tr>\n",
       "    <tr>\n",
       "      <th>284</th>\n",
       "      <td>0.884195</td>\n",
       "      <td>1.070457</td>\n",
       "      <td>-0.488471</td>\n",
       "      <td>0.581355</td>\n",
       "      <td>-1.369685</td>\n",
       "      <td>-0.920897</td>\n",
       "      <td>-1.276619</td>\n",
       "      <td>-0.058876</td>\n",
       "      <td>0.048147</td>\n",
       "      <td>-1.212731</td>\n",
       "    </tr>\n",
       "    <tr>\n",
       "      <th>32</th>\n",
       "      <td>0.727436</td>\n",
       "      <td>1.070457</td>\n",
       "      <td>2.537165</td>\n",
       "      <td>0.581355</td>\n",
       "      <td>-1.114140</td>\n",
       "      <td>-0.257699</td>\n",
       "      <td>-2.115564</td>\n",
       "      <td>2.224856</td>\n",
       "      <td>-0.004375</td>\n",
       "      <td>0.525368</td>\n",
       "    </tr>\n",
       "    <tr>\n",
       "      <th>186</th>\n",
       "      <td>-1.780703</td>\n",
       "      <td>1.070457</td>\n",
       "      <td>0.836625</td>\n",
       "      <td>-0.427879</td>\n",
       "      <td>0.816647</td>\n",
       "      <td>1.191036</td>\n",
       "      <td>-1.429155</td>\n",
       "      <td>2.224856</td>\n",
       "      <td>0.947497</td>\n",
       "      <td>-0.865111</td>\n",
       "    </tr>\n",
       "  </tbody>\n",
       "</table>\n",
       "<p>111 rows × 10 columns</p>\n",
       "</div>"
      ],
      "text/plain": [
       "          age       sex       bmi        bp        s1        s2        s3  \\\n",
       "8    0.884195  1.070457  1.234154 -0.860408 -0.290716  0.135069 -0.590210   \n",
       "385  0.492298  1.070457 -0.422216  1.013884 -1.312897 -1.249277  0.096199   \n",
       "46  -1.232048 -0.931358 -0.267621 -0.716232 -0.972170 -0.972408  0.096199   \n",
       "166 -1.232048  1.070457 -1.261443 -0.788320 -1.823988 -1.448880 -0.285140   \n",
       "88  -1.153668  1.070457 -0.863914 -1.437114 -0.659837 -0.753488  0.782608   \n",
       "..        ...       ...       ...       ...       ...       ...       ...   \n",
       "221 -0.996909 -0.931358 -0.819744 -0.572056 -0.319110  0.025609 -0.666478   \n",
       "206  0.022022  1.070457  0.505351 -0.211615  0.504314  0.798268 -0.437675   \n",
       "284  0.884195  1.070457 -0.488471  0.581355 -1.369685 -0.920897 -1.276619   \n",
       "32   0.727436  1.070457  2.537165  0.581355 -1.114140 -0.257699 -2.115564   \n",
       "186 -1.780703  1.070457  0.836625 -0.427879  0.816647  1.191036 -1.429155   \n",
       "\n",
       "           s4        s5        s6  \n",
       "8   -0.058876 -0.313406  0.177748  \n",
       "385 -0.820119 -0.536440 -0.343681  \n",
       "46  -0.820119 -0.171744 -1.907970  \n",
       "166 -0.820119 -1.595206 -2.255590  \n",
       "88  -0.820119 -0.710281  1.394417  \n",
       "..        ...       ...       ...  \n",
       "221 -0.058876  0.013379 -0.865111  \n",
       "206  0.702368  0.181487  0.003938  \n",
       "284 -0.058876  0.048147 -1.212731  \n",
       "32   2.224856 -0.004375  0.525368  \n",
       "186  2.224856  0.947497 -0.865111  \n",
       "\n",
       "[111 rows x 10 columns]"
      ]
     },
     "execution_count": 16,
     "metadata": {},
     "output_type": "execute_result"
    }
   ],
   "source": [
    "t.fit(X_train)\n",
    "t.transform(X_test)"
   ]
  },
  {
   "attachments": {},
   "cell_type": "markdown",
   "id": "7f37b925",
   "metadata": {},
   "source": [
    "### Iteration 3 - pipelines, meta-estimators"
   ]
  },
  {
   "attachments": {},
   "cell_type": "markdown",
   "id": "919230cb",
   "metadata": {},
   "source": [
    "3rd iteration - adding a meta-estimator\n",
    "\n",
    "* inheriting from `BaseMetaEstimator` in `skbase`\n",
    "* requires setting the `named_object_parameters` and `fitted_named_object_parameters` tags\n",
    "* factor out `_CommonTags` to allow the meta-estimator and estimator base class to inherit\n",
    "\n",
    "*[pydata_skbase/mini_sklearn_v3](https://github.com/sktime/sktime-tutorial-pydata-seattle-2023/blob/main/pydata_skbase/mini_sklearn_v3)*"
   ]
  },
  {
   "cell_type": "code",
   "execution_count": 17,
   "id": "b441579c",
   "metadata": {},
   "outputs": [],
   "source": [
    "from pydata_skbase.mini_sklearn_v3.pipeline import RegressorPipeline\n",
    "from pydata_skbase.mini_sklearn_v3.regression import LinReg\n",
    "from pydata_skbase.mini_sklearn_v3.transform import Scaler\n",
    "\n",
    "t1 = Scaler(strategy=\"std\")\n",
    "t2 = Scaler(strategy=\"minmax\")\n",
    "clf = LinReg()\n",
    "\n",
    "pipe = RegressorPipeline([t1, t2, clf])"
   ]
  },
  {
   "cell_type": "code",
   "execution_count": 18,
   "id": "9381075b",
   "metadata": {},
   "outputs": [
    {
     "data": {
      "text/plain": [
       "{'steps': [Scaler(), Scaler(strategy='minmax'), LinReg()],\n",
       " 'Scaler': Scaler(strategy='minmax'),\n",
       " 'LinReg': LinReg(),\n",
       " 'Scaler__strategy': 'minmax',\n",
       " 'LinReg__shrink': 0.0}"
      ]
     },
     "execution_count": 18,
     "metadata": {},
     "output_type": "execute_result"
    }
   ],
   "source": [
    "pipe.get_params()"
   ]
  },
  {
   "cell_type": "code",
   "execution_count": 19,
   "id": "0499d8df",
   "metadata": {},
   "outputs": [
    {
     "data": {
      "text/html": [
       "<style>#sk-fefab473-042c-420f-b2ae-7ecd56de20f9 {color: black;background-color: white;}#sk-fefab473-042c-420f-b2ae-7ecd56de20f9 pre{padding: 0;}#sk-fefab473-042c-420f-b2ae-7ecd56de20f9 div.sk-toggleable {background-color: white;}#sk-fefab473-042c-420f-b2ae-7ecd56de20f9 label.sk-toggleable__label {cursor: pointer;display: block;width: 100%;margin-bottom: 0;padding: 0.3em;box-sizing: border-box;text-align: center;}#sk-fefab473-042c-420f-b2ae-7ecd56de20f9 label.sk-toggleable__label-arrow:before {content: \"▸\";float: left;margin-right: 0.25em;color: #696969;}#sk-fefab473-042c-420f-b2ae-7ecd56de20f9 label.sk-toggleable__label-arrow:hover:before {color: black;}#sk-fefab473-042c-420f-b2ae-7ecd56de20f9 div.sk-estimator:hover label.sk-toggleable__label-arrow:before {color: black;}#sk-fefab473-042c-420f-b2ae-7ecd56de20f9 div.sk-toggleable__content {max-height: 0;max-width: 0;overflow: hidden;text-align: left;background-color: #f0f8ff;}#sk-fefab473-042c-420f-b2ae-7ecd56de20f9 div.sk-toggleable__content pre {margin: 0.2em;color: black;border-radius: 0.25em;background-color: #f0f8ff;}#sk-fefab473-042c-420f-b2ae-7ecd56de20f9 input.sk-toggleable__control:checked~div.sk-toggleable__content {max-height: 200px;max-width: 100%;overflow: auto;}#sk-fefab473-042c-420f-b2ae-7ecd56de20f9 input.sk-toggleable__control:checked~label.sk-toggleable__label-arrow:before {content: \"▾\";}#sk-fefab473-042c-420f-b2ae-7ecd56de20f9 div.sk-estimator input.sk-toggleable__control:checked~label.sk-toggleable__label {background-color: #d4ebff;}#sk-fefab473-042c-420f-b2ae-7ecd56de20f9 div.sk-label input.sk-toggleable__control:checked~label.sk-toggleable__label {background-color: #d4ebff;}#sk-fefab473-042c-420f-b2ae-7ecd56de20f9 input.sk-hidden--visually {border: 0;clip: rect(1px 1px 1px 1px);clip: rect(1px, 1px, 1px, 1px);height: 1px;margin: -1px;overflow: hidden;padding: 0;position: absolute;width: 1px;}#sk-fefab473-042c-420f-b2ae-7ecd56de20f9 div.sk-estimator {font-family: monospace;background-color: #f0f8ff;border: 1px dotted black;border-radius: 0.25em;box-sizing: border-box;margin-bottom: 0.5em;}#sk-fefab473-042c-420f-b2ae-7ecd56de20f9 div.sk-estimator:hover {background-color: #d4ebff;}#sk-fefab473-042c-420f-b2ae-7ecd56de20f9 div.sk-parallel-item::after {content: \"\";width: 100%;border-bottom: 1px solid gray;flex-grow: 1;}#sk-fefab473-042c-420f-b2ae-7ecd56de20f9 div.sk-label:hover label.sk-toggleable__label {background-color: #d4ebff;}#sk-fefab473-042c-420f-b2ae-7ecd56de20f9 div.sk-serial::before {content: \"\";position: absolute;border-left: 1px solid gray;box-sizing: border-box;top: 2em;bottom: 0;left: 50%;}#sk-fefab473-042c-420f-b2ae-7ecd56de20f9 div.sk-serial {display: flex;flex-direction: column;align-items: center;background-color: white;padding-right: 0.2em;padding-left: 0.2em;}#sk-fefab473-042c-420f-b2ae-7ecd56de20f9 div.sk-item {z-index: 1;}#sk-fefab473-042c-420f-b2ae-7ecd56de20f9 div.sk-parallel {display: flex;align-items: stretch;justify-content: center;background-color: white;}#sk-fefab473-042c-420f-b2ae-7ecd56de20f9 div.sk-parallel::before {content: \"\";position: absolute;border-left: 1px solid gray;box-sizing: border-box;top: 2em;bottom: 0;left: 50%;}#sk-fefab473-042c-420f-b2ae-7ecd56de20f9 div.sk-parallel-item {display: flex;flex-direction: column;position: relative;background-color: white;}#sk-fefab473-042c-420f-b2ae-7ecd56de20f9 div.sk-parallel-item:first-child::after {align-self: flex-end;width: 50%;}#sk-fefab473-042c-420f-b2ae-7ecd56de20f9 div.sk-parallel-item:last-child::after {align-self: flex-start;width: 50%;}#sk-fefab473-042c-420f-b2ae-7ecd56de20f9 div.sk-parallel-item:only-child::after {width: 0;}#sk-fefab473-042c-420f-b2ae-7ecd56de20f9 div.sk-dashed-wrapped {border: 1px dashed gray;margin: 0 0.4em 0.5em 0.4em;box-sizing: border-box;padding-bottom: 0.4em;background-color: white;position: relative;}#sk-fefab473-042c-420f-b2ae-7ecd56de20f9 div.sk-label label {font-family: monospace;font-weight: bold;background-color: white;display: inline-block;line-height: 1.2em;}#sk-fefab473-042c-420f-b2ae-7ecd56de20f9 div.sk-label-container {position: relative;z-index: 2;text-align: center;}#sk-fefab473-042c-420f-b2ae-7ecd56de20f9 div.sk-container {/* jupyter's `normalize.less` sets `[hidden] { display: none; }` but bootstrap.min.css set `[hidden] { display: none !important; }` so we also need the `!important` here to be able to override the default hidden behavior on the sphinx rendered scikit-learn.org. See: https://github.com/scikit-learn/scikit-learn/issues/21755 */display: inline-block !important;position: relative;}#sk-fefab473-042c-420f-b2ae-7ecd56de20f9 div.sk-text-repr-fallback {display: none;}</style><div id='sk-fefab473-042c-420f-b2ae-7ecd56de20f9' class=\"sk-top-container\"><div class=\"sk-text-repr-fallback\"><pre>RegressorPipeline(steps=[Scaler(), Scaler(strategy=&#x27;minmax&#x27;), LinReg()])</pre><b>Please rerun this cell to show the HTML repr or trust the notebook.</b></div><div class=\"sk-container\" hidden><div class=\"sk-item sk-dashed-wrapped\"><div class='sk-label-container'><div class=\"sk-label sk-toggleable\"><input class=\"sk-toggleable__control sk-hidden--visually\" id=UUID('63b8bf31-24eb-465a-9217-4f38375b2060') type=\"checkbox\" ><label for=UUID('63b8bf31-24eb-465a-9217-4f38375b2060') class='sk-toggleable__label sk-toggleable__label-arrow'>RegressorPipeline</label><div class=\"sk-toggleable__content\"><pre>RegressorPipeline(steps=[Scaler(), Scaler(strategy=&#x27;minmax&#x27;), LinReg()])</pre></div></div></div><div class=\"sk-serial\"><div class='sk-item'><div class=\"sk-estimator sk-toggleable\"><input class=\"sk-toggleable__control sk-hidden--visually\" id=UUID('6ec4f0c9-5c3e-4265-aca5-61a9189bea06') type=\"checkbox\" ><label for=UUID('6ec4f0c9-5c3e-4265-aca5-61a9189bea06') class='sk-toggleable__label sk-toggleable__label-arrow'>Scaler</label><div class=\"sk-toggleable__content\"><pre>Scaler()</pre></div></div></div><div class='sk-item'><div class=\"sk-estimator sk-toggleable\"><input class=\"sk-toggleable__control sk-hidden--visually\" id=UUID('f788e00e-daa0-45bc-b6d6-45f0526ba624') type=\"checkbox\" ><label for=UUID('f788e00e-daa0-45bc-b6d6-45f0526ba624') class='sk-toggleable__label sk-toggleable__label-arrow'>Scaler</label><div class=\"sk-toggleable__content\"><pre>Scaler(strategy=&#x27;minmax&#x27;)</pre></div></div></div><div class='sk-item'><div class=\"sk-estimator sk-toggleable\"><input class=\"sk-toggleable__control sk-hidden--visually\" id=UUID('46e7243f-1263-46f6-aa45-49733ce0a9e4') type=\"checkbox\" ><label for=UUID('46e7243f-1263-46f6-aa45-49733ce0a9e4') class='sk-toggleable__label sk-toggleable__label-arrow'>LinReg</label><div class=\"sk-toggleable__content\"><pre>LinReg()</pre></div></div></div></div></div></div></div>"
      ],
      "text/plain": [
       "RegressorPipeline(steps=[Scaler(), Scaler(strategy='minmax'), LinReg()])"
      ]
     },
     "execution_count": 19,
     "metadata": {},
     "output_type": "execute_result"
    }
   ],
   "source": [
    "pipe.fit(X_train, y_train)"
   ]
  },
  {
   "cell_type": "code",
   "execution_count": 20,
   "id": "5ca32009",
   "metadata": {},
   "outputs": [
    {
     "data": {
      "text/plain": [
       "{'steps': [('Scaler_1', Scaler()),\n",
       "  ('Scaler_2', Scaler(strategy='minmax')),\n",
       "  ('LinReg', LinReg())],\n",
       " 'Scaler_1': Scaler(),\n",
       " 'Scaler_2': Scaler(strategy='minmax'),\n",
       " 'LinReg': LinReg(),\n",
       " 'Scaler_1__X_max': age    0.096197\n",
       " sex    0.050680\n",
       " bmi    0.170555\n",
       " bp     0.132044\n",
       " s1     0.153914\n",
       " s2     0.198788\n",
       " s3     0.177497\n",
       " s4     0.185234\n",
       " s5     0.133597\n",
       " s6     0.135612\n",
       " dtype: float64,\n",
       " 'Scaler_1__X_mean': age    0.000730\n",
       " sex   -0.000293\n",
       " bmi    0.001466\n",
       " bp     0.000993\n",
       " s1     0.000135\n",
       " s2    -0.000367\n",
       " s3    -0.000183\n",
       " s4     0.000262\n",
       " s5     0.000488\n",
       " s6     0.002877\n",
       " dtype: float64,\n",
       " 'Scaler_1__X_min': age   -0.107226\n",
       " sex   -0.044642\n",
       " bmi   -0.089197\n",
       " bp    -0.112399\n",
       " s1    -0.126781\n",
       " s2    -0.115613\n",
       " s3    -0.098625\n",
       " s4    -0.076395\n",
       " s5    -0.126097\n",
       " s6    -0.137767\n",
       " dtype: float64,\n",
       " 'Scaler_1__X_span': age    0.203422\n",
       " sex    0.095322\n",
       " bmi    0.259753\n",
       " bp     0.244442\n",
       " s1     0.280694\n",
       " s2     0.314401\n",
       " s3     0.276123\n",
       " s4     0.261629\n",
       " s5     0.259694\n",
       " s6     0.273379\n",
       " dtype: float64,\n",
       " 'Scaler_1__X_std': age    0.046346\n",
       " sex    0.047618\n",
       " bmi    0.048803\n",
       " bp     0.047759\n",
       " s1     0.048459\n",
       " s2     0.048634\n",
       " s3     0.048273\n",
       " s4     0.048475\n",
       " s5     0.049290\n",
       " s6     0.047663\n",
       " dtype: float64,\n",
       " 'LinReg__beta':         target\n",
       " age  -3.779801\n",
       " sex -10.564794\n",
       " bmi  25.751393\n",
       " bp   14.204011\n",
       " s1  -61.716006\n",
       " s2   42.304646\n",
       " s3   14.231684\n",
       " s4    6.877333\n",
       " s5   49.467537\n",
       " s6    4.834818}"
      ]
     },
     "execution_count": 20,
     "metadata": {},
     "output_type": "execute_result"
    }
   ],
   "source": [
    "pipe.get_fitted_params()"
   ]
  },
  {
   "cell_type": "code",
   "execution_count": 21,
   "id": "23c717bf",
   "metadata": {},
   "outputs": [
    {
     "data": {
      "text/html": [
       "<div>\n",
       "<style scoped>\n",
       "    .dataframe tbody tr th:only-of-type {\n",
       "        vertical-align: middle;\n",
       "    }\n",
       "\n",
       "    .dataframe tbody tr th {\n",
       "        vertical-align: top;\n",
       "    }\n",
       "\n",
       "    .dataframe thead th {\n",
       "        text-align: right;\n",
       "    }\n",
       "</style>\n",
       "<table border=\"1\" class=\"dataframe\">\n",
       "  <thead>\n",
       "    <tr style=\"text-align: right;\">\n",
       "      <th></th>\n",
       "      <th>target</th>\n",
       "    </tr>\n",
       "  </thead>\n",
       "  <tbody>\n",
       "    <tr>\n",
       "      <th>8</th>\n",
       "      <td>5.115961</td>\n",
       "    </tr>\n",
       "    <tr>\n",
       "      <th>385</th>\n",
       "      <td>-13.933978</td>\n",
       "    </tr>\n",
       "    <tr>\n",
       "      <th>46</th>\n",
       "      <td>-5.698978</td>\n",
       "    </tr>\n",
       "    <tr>\n",
       "      <th>166</th>\n",
       "      <td>-98.573159</td>\n",
       "    </tr>\n",
       "    <tr>\n",
       "      <th>88</th>\n",
       "      <td>-63.658346</td>\n",
       "    </tr>\n",
       "    <tr>\n",
       "      <th>...</th>\n",
       "      <td>...</td>\n",
       "    </tr>\n",
       "    <tr>\n",
       "      <th>221</th>\n",
       "      <td>-8.260593</td>\n",
       "    </tr>\n",
       "    <tr>\n",
       "      <th>206</th>\n",
       "      <td>8.859826</td>\n",
       "    </tr>\n",
       "    <tr>\n",
       "      <th>284</th>\n",
       "      <td>4.545835</td>\n",
       "    </tr>\n",
       "    <tr>\n",
       "      <th>32</th>\n",
       "      <td>104.909445</td>\n",
       "    </tr>\n",
       "    <tr>\n",
       "      <th>186</th>\n",
       "      <td>48.523848</td>\n",
       "    </tr>\n",
       "  </tbody>\n",
       "</table>\n",
       "<p>111 rows × 1 columns</p>\n",
       "</div>"
      ],
      "text/plain": [
       "         target\n",
       "8      5.115961\n",
       "385  -13.933978\n",
       "46    -5.698978\n",
       "166  -98.573159\n",
       "88   -63.658346\n",
       "..          ...\n",
       "221   -8.260593\n",
       "206    8.859826\n",
       "284    4.545835\n",
       "32   104.909445\n",
       "186   48.523848\n",
       "\n",
       "[111 rows x 1 columns]"
      ]
     },
     "execution_count": 21,
     "metadata": {},
     "output_type": "execute_result"
    }
   ],
   "source": [
    "pipe.predict(X_test)"
   ]
  },
  {
   "attachments": {},
   "cell_type": "markdown",
   "id": "532b335e",
   "metadata": {},
   "source": [
    "### Iteration 4 - lookup and search"
   ]
  },
  {
   "attachments": {},
   "cell_type": "markdown",
   "id": "244e9f62",
   "metadata": {},
   "source": [
    "4th iteration - adding estimator lookup and search utility\n",
    "\n",
    "* direct interface to `all_objects` in `skbase`\n",
    "* todo 1: point the utility to the right directory and module name\n",
    "* todo 2: excluding directories, e.g., extension templates, tests\n",
    "* todo 3: string/class dictionary, e.g., for searching for `\"regressor\"` type\n",
    "\n",
    "*[pydata_skbase/mini_sklearn_v4](https://github.com/sktime/sktime-tutorial-pydata-seattle-2023/blob/main/pydata_skbase/mini_sklearn_v4)*"
   ]
  },
  {
   "cell_type": "code",
   "execution_count": 22,
   "id": "88f41ff3",
   "metadata": {},
   "outputs": [
    {
     "data": {
      "text/html": [
       "<div>\n",
       "<style scoped>\n",
       "    .dataframe tbody tr th:only-of-type {\n",
       "        vertical-align: middle;\n",
       "    }\n",
       "\n",
       "    .dataframe tbody tr th {\n",
       "        vertical-align: top;\n",
       "    }\n",
       "\n",
       "    .dataframe thead th {\n",
       "        text-align: right;\n",
       "    }\n",
       "</style>\n",
       "<table border=\"1\" class=\"dataframe\">\n",
       "  <thead>\n",
       "    <tr style=\"text-align: right;\">\n",
       "      <th></th>\n",
       "      <th>name</th>\n",
       "      <th>object</th>\n",
       "    </tr>\n",
       "  </thead>\n",
       "  <tbody>\n",
       "    <tr>\n",
       "      <th>0</th>\n",
       "      <td>LinReg</td>\n",
       "      <td>&lt;class 'mini_sklearn_v4.regression.LinReg'&gt;</td>\n",
       "    </tr>\n",
       "    <tr>\n",
       "      <th>1</th>\n",
       "      <td>RegressorPipeline</td>\n",
       "      <td>&lt;class 'mini_sklearn_v4.pipeline.RegressorPipe...</td>\n",
       "    </tr>\n",
       "    <tr>\n",
       "      <th>2</th>\n",
       "      <td>Scaler</td>\n",
       "      <td>&lt;class 'mini_sklearn_v4.transform.Scaler'&gt;</td>\n",
       "    </tr>\n",
       "  </tbody>\n",
       "</table>\n",
       "</div>"
      ],
      "text/plain": [
       "                name                                             object\n",
       "0             LinReg        <class 'mini_sklearn_v4.regression.LinReg'>\n",
       "1  RegressorPipeline  <class 'mini_sklearn_v4.pipeline.RegressorPipe...\n",
       "2             Scaler         <class 'mini_sklearn_v4.transform.Scaler'>"
      ]
     },
     "execution_count": 22,
     "metadata": {},
     "output_type": "execute_result"
    }
   ],
   "source": [
    "from pydata_skbase.mini_sklearn_v4.lookup import all_estimators\n",
    "\n",
    "all_estimators(as_dataframe=True)"
   ]
  },
  {
   "cell_type": "code",
   "execution_count": 23,
   "id": "ad489698",
   "metadata": {},
   "outputs": [
    {
     "data": {
      "text/html": [
       "<div>\n",
       "<style scoped>\n",
       "    .dataframe tbody tr th:only-of-type {\n",
       "        vertical-align: middle;\n",
       "    }\n",
       "\n",
       "    .dataframe tbody tr th {\n",
       "        vertical-align: top;\n",
       "    }\n",
       "\n",
       "    .dataframe thead th {\n",
       "        text-align: right;\n",
       "    }\n",
       "</style>\n",
       "<table border=\"1\" class=\"dataframe\">\n",
       "  <thead>\n",
       "    <tr style=\"text-align: right;\">\n",
       "      <th></th>\n",
       "      <th>name</th>\n",
       "      <th>object</th>\n",
       "    </tr>\n",
       "  </thead>\n",
       "  <tbody>\n",
       "    <tr>\n",
       "      <th>0</th>\n",
       "      <td>LinReg</td>\n",
       "      <td>&lt;class 'mini_sklearn_v4.regression.LinReg'&gt;</td>\n",
       "    </tr>\n",
       "    <tr>\n",
       "      <th>1</th>\n",
       "      <td>RegressorPipeline</td>\n",
       "      <td>&lt;class 'mini_sklearn_v4.pipeline.RegressorPipe...</td>\n",
       "    </tr>\n",
       "  </tbody>\n",
       "</table>\n",
       "</div>"
      ],
      "text/plain": [
       "                name                                             object\n",
       "0             LinReg        <class 'mini_sklearn_v4.regression.LinReg'>\n",
       "1  RegressorPipeline  <class 'mini_sklearn_v4.pipeline.RegressorPipe..."
      ]
     },
     "execution_count": 23,
     "metadata": {},
     "output_type": "execute_result"
    }
   ],
   "source": [
    "all_estimators(as_dataframe=True, filter_tags={\"estimator_type\": \"regressor\"})"
   ]
  },
  {
   "cell_type": "code",
   "execution_count": 24,
   "id": "36bee18b",
   "metadata": {},
   "outputs": [
    {
     "data": {
      "text/html": [
       "<div>\n",
       "<style scoped>\n",
       "    .dataframe tbody tr th:only-of-type {\n",
       "        vertical-align: middle;\n",
       "    }\n",
       "\n",
       "    .dataframe tbody tr th {\n",
       "        vertical-align: top;\n",
       "    }\n",
       "\n",
       "    .dataframe thead th {\n",
       "        text-align: right;\n",
       "    }\n",
       "</style>\n",
       "<table border=\"1\" class=\"dataframe\">\n",
       "  <thead>\n",
       "    <tr style=\"text-align: right;\">\n",
       "      <th></th>\n",
       "      <th>name</th>\n",
       "      <th>object</th>\n",
       "    </tr>\n",
       "  </thead>\n",
       "  <tbody>\n",
       "    <tr>\n",
       "      <th>0</th>\n",
       "      <td>LinReg</td>\n",
       "      <td>&lt;class 'mini_sklearn_v4.regression.LinReg'&gt;</td>\n",
       "    </tr>\n",
       "    <tr>\n",
       "      <th>1</th>\n",
       "      <td>RegressorPipeline</td>\n",
       "      <td>&lt;class 'mini_sklearn_v4.pipeline.RegressorPipe...</td>\n",
       "    </tr>\n",
       "  </tbody>\n",
       "</table>\n",
       "</div>"
      ],
      "text/plain": [
       "                name                                             object\n",
       "0             LinReg        <class 'mini_sklearn_v4.regression.LinReg'>\n",
       "1  RegressorPipeline  <class 'mini_sklearn_v4.pipeline.RegressorPipe..."
      ]
     },
     "execution_count": 24,
     "metadata": {},
     "output_type": "execute_result"
    }
   ],
   "source": [
    "from mini_sklearn_v4.base import BaseRegressor\n",
    "\n",
    "all_estimators(BaseRegressor, as_dataframe=True)"
   ]
  },
  {
   "attachments": {},
   "cell_type": "markdown",
   "id": "9774c7a4",
   "metadata": {},
   "source": [
    "### Iteration 5 - test framework"
   ]
  },
  {
   "attachments": {},
   "cell_type": "markdown",
   "id": "578a949b",
   "metadata": {},
   "source": [
    "5th iteration - adding test framework and extension checker\n",
    "\n",
    "adherents of TDD may like to add this much earlier :-)\n",
    "\n",
    "* import `TestAllObjects` from `skbase`, this is found by `pytest`\n",
    "* `BaseFixtureGenerator` to generate estimator fixtures can be used to extend tests\n",
    "* `QuickTester.run_tests` can be used to run tests on a particular estimator\n",
    "* a `check_estimator` utility can be built by masking `run_tests`\n",
    "\n",
    "*[pydata_skbase/mini_sklearn_v5](https://github.com/sktime/sktime-tutorial-pydata-seattle-2023/blob/main/pydata_skbase/mini_sklearn_v5)*"
   ]
  },
  {
   "cell_type": "code",
   "execution_count": 25,
   "id": "c087b9e5",
   "metadata": {},
   "outputs": [
    {
     "data": {
      "text/plain": [
       "{'test_clone[LinReg]': 'PASSED',\n",
       " 'test_constructor[LinReg]': 'PASSED',\n",
       " 'test_create_test_instance[LinReg]': 'PASSED',\n",
       " 'test_create_test_instances_and_names[LinReg]': 'PASSED',\n",
       " 'test_get_params[LinReg]': 'PASSED',\n",
       " 'test_inheritance[LinReg]': 'PASSED',\n",
       " 'test_no_between_test_case_side_effects[LinReg-0]': 'PASSED',\n",
       " 'test_no_between_test_case_side_effects[LinReg-1]': 'PASSED',\n",
       " 'test_no_cross_test_side_effects_part1[LinReg]': 'PASSED',\n",
       " 'test_no_cross_test_side_effects_part2[LinReg]': 'PASSED',\n",
       " 'test_object_tags[LinReg]': 'PASSED',\n",
       " 'test_repr[LinReg]': 'PASSED',\n",
       " 'test_set_params[LinReg]': 'PASSED',\n",
       " 'test_set_params_sklearn[LinReg]': 'PASSED',\n",
       " 'test_valid_object_class_tags[LinReg]': 'PASSED',\n",
       " 'test_valid_object_tags[LinReg]': 'PASSED'}"
      ]
     },
     "execution_count": 25,
     "metadata": {},
     "output_type": "execute_result"
    }
   ],
   "source": [
    "from pydata_skbase.mini_sklearn_v5.regression import LinReg\n",
    "from pydata_skbase.mini_sklearn_v5.tests.test_estimators import TestAllObjects\n",
    "\n",
    "TestAllObjects().run_tests(LinReg)"
   ]
  },
  {
   "cell_type": "code",
   "execution_count": 26,
   "id": "94396021",
   "metadata": {},
   "outputs": [
    {
     "data": {
      "text/plain": [
       "{'test_clone[LinReg]': 'PASSED',\n",
       " 'test_constructor[LinReg]': 'PASSED',\n",
       " 'test_create_test_instance[LinReg]': 'PASSED',\n",
       " 'test_create_test_instances_and_names[LinReg]': 'PASSED',\n",
       " 'test_get_params[LinReg]': 'PASSED',\n",
       " 'test_inheritance[LinReg]': 'PASSED',\n",
       " 'test_no_between_test_case_side_effects[LinReg-0]': 'PASSED',\n",
       " 'test_no_between_test_case_side_effects[LinReg-1]': 'PASSED',\n",
       " 'test_no_cross_test_side_effects_part1[LinReg]': 'PASSED',\n",
       " 'test_no_cross_test_side_effects_part2[LinReg]': 'PASSED',\n",
       " 'test_object_tags[LinReg]': 'PASSED',\n",
       " 'test_repr[LinReg]': 'PASSED',\n",
       " 'test_set_params[LinReg]': 'PASSED',\n",
       " 'test_set_params_sklearn[LinReg]': 'PASSED',\n",
       " 'test_valid_object_class_tags[LinReg]': 'PASSED',\n",
       " 'test_valid_object_tags[LinReg]': 'PASSED',\n",
       " 'test_input_output_contract[LinReg]': 'PASSED'}"
      ]
     },
     "execution_count": 26,
     "metadata": {},
     "output_type": "execute_result"
    }
   ],
   "source": [
    "from pydata_skbase.mini_sklearn_v5.regression import LinReg\n",
    "from pydata_skbase.mini_sklearn_v5.utils import check_estimator\n",
    "\n",
    "check_estimator(LinReg)"
   ]
  },
  {
   "attachments": {},
   "cell_type": "markdown",
   "id": "d1337546",
   "metadata": {},
   "source": [
    "---\n",
    "## Summary\n",
    "\n",
    "* `skbase` is a reusable workbench for creating `sklearn`-like, `sklearn` compatible libraries\n",
    "* recipe to create `sklearn`-like libraries - public interface, extension template, tags/configs, testing\n",
    "* `skbase` provides out of the box: parameter handling, tag/config handling, composition, retrieval, testing"
   ]
  },
  {
   "attachments": {},
   "cell_type": "markdown",
   "id": "2a5c93a7",
   "metadata": {},
   "source": [
    "---\n",
    "\n",
    "### Credits: notebook 3 - package building with `skbase`\n",
    "\n",
    "notebook creation: fkiraly\n",
    "\n",
    "demo package creation: fkiraly\n",
    "\n",
    "skbase: fkiraly, rnkuhns, mloning, sktime & sklearn developers (by code reuse)\\\n",
    "sktime style design: fkiraly, mloning, sktime developers"
   ]
  },
  {
   "attachments": {},
   "cell_type": "markdown",
   "id": "e07682df",
   "metadata": {},
   "source": [
    "---\n",
    "\n",
    "## Join sktime!\n",
    "\n",
    "* openly governed - users, developers, early career data scientists\n",
    "* world-wide contributor and user footprint\n",
    "\n",
    "**EVERYONE CAN JOIN! EVERYONE CAN BECOME A COMMUNITY LEADER!**\n",
    "\n",
    "* join our discord (developers and community)!\n",
    "    * regular **community collaboration sessions** and stand-ups on Fridays\n",
    "    * next **onboarding session**: June 2023\n",
    "    * next **developer sprint**: July 2023\n",
    "\n",
    "Opportunities:\n",
    "\n",
    "* sktime **mentoring programme**: github.com/sktime/mentoring\n",
    "* sktime **paid summer internships**: github.com/sktime/mentoring"
   ]
  }
 ],
 "metadata": {
  "kernelspec": {
   "display_name": "sktime-skbase-310",
   "language": "python",
   "name": "python3"
  },
  "language_info": {
   "codemirror_mode": {
    "name": "ipython",
    "version": 3
   },
   "file_extension": ".py",
   "mimetype": "text/x-python",
   "name": "python",
   "nbconvert_exporter": "python",
   "pygments_lexer": "ipython3",
   "version": "3.10.8"
  },
  "vscode": {
   "interpreter": {
    "hash": "1ab6896984b6aa500b8009633c692bca601cfe3e50e0ab79a8a59539ceef9c7a"
   }
  }
 },
 "nbformat": 4,
 "nbformat_minor": 5
}
