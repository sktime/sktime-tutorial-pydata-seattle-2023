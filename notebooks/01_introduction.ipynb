{
 "cells": [
  {
   "cell_type": "markdown",
   "metadata": {},
   "source": [
    "![](../images/team.jpg)"
   ]
  },
  {
   "cell_type": "markdown",
   "metadata": {},
   "source": [
    "![](../images/talk_agenda-01.png)"
   ]
  },
  {
   "attachments": {},
   "cell_type": "markdown",
   "metadata": {},
   "source": [
    "# Introduction to `skbase`"
   ]
  },
  {
   "attachments": {},
   "cell_type": "markdown",
   "metadata": {},
   "source": [
    "Contents of this tutorial:\n",
    "\n",
    "1. introduction to the unified `sklearn` / `sktime`-like interface supported by `skbase`\n",
    "2. `skbase` usage patterns\n",
    "3. package building with `skbase`"
   ]
  },
  {
   "attachments": {},
   "cell_type": "markdown",
   "metadata": {},
   "source": [
    "## 1 - Introducing the ``sklearn`` / `sktime` interface\n",
    "\n",
    "- it is recommended you have worked through either an ``sklearn`` or ``sktime`` tutorial\n",
    "- for ``sktime``, check out a previous [pydata tutorial](https://www.youtube.com/watch?v=ODspi8-uWgo) of ours, and of course visit [our website](https://www.sktime.net/en/latest/index.html)! \n",
    "- ``skbase`` is currently maintained by the ``sktime`` project.\n",
    "  - We *love* new contributors. Even if you are new to open source software developement!\n",
    "  - Check out the ``sktime`` [new contributors guide](https://www.sktime.net/en/latest/get_involved/contributing.html).\n"
   ]
  },
  {
   "attachments": {},
   "cell_type": "markdown",
   "metadata": {},
   "source": [
    "### 1.1 ``skbase``, ``sklearn``, ``sktime`` in a nutshell"
   ]
  },
  {
   "attachments": {},
   "cell_type": "markdown",
   "metadata": {},
   "source": [
    "- `skbase` is a workbench package for developers for creation of \"`sklearn`-likes\"\n",
    "  - reusable base class factory with `get_params`, config, nested composition interface, etc\n",
    "  - templated base classes compatible with `sklearn` / `sktime`\n",
    "  - lookup and search utilities\n",
    "  - factory templates for test frameworks "
   ]
  },
  {
   "attachments": {},
   "cell_type": "markdown",
   "metadata": {},
   "source": [
    "- `sklearn` / `sktime` interface:\n",
    "  - unified interface for objects/estimators\n",
    "  - modular design, strategy pattern\n",
    "  - composable, composites are interface homogenous\n",
    "  - simple specification language and parameter interface\n",
    "  - visually informative pretty printing"
   ]
  },
  {
   "attachments": {},
   "cell_type": "markdown",
   "metadata": {},
   "source": [
    "- `sktime` base class design is an evolution on `sklearn`:\n",
    "  - separation of `BaseObject` (non-fittable) and `BaseEstimator` (fittable)\n",
    "  - `get_fitted_params` interface for fittable objects, similar to `get_params`\n",
    "  - unified tag and config manager, dynamic tags\n",
    "  - improved state handling - `clone`, `reset`\n",
    "  - test case generation, e.g., `create_test_instances_and_names`\n",
    "  - test framework with scenario and conditional fixture handling"
   ]
  },
  {
   "attachments": {},
   "cell_type": "markdown",
   "metadata": {},
   "source": [
    "### 1.2 sklearn unified interface - the strategy pattern\n",
    "\n",
    "`sklearn` provides a unified interface to multiple learning tasks including classification, regression.\n",
    "\n",
    "any (supervised) estimator has the following interface points\n",
    "\n",
    "1. **Instantiate** your model of choice, with parameter settings\n",
    "2. **Fit** the instance of your model\n",
    "3. Use that fitted instance to **predict** new data!\n",
    "\n",
    "![](./img/estimator-conceptual-model.jpg)"
   ]
  },
  {
   "cell_type": "code",
   "execution_count": null,
   "metadata": {},
   "outputs": [],
   "source": [
    "# get data to use the model on\n",
    "from sklearn.datasets import load_iris\n",
    "from sklearn.model_selection import train_test_split\n",
    "\n",
    "X, y = load_iris(return_X_y=True, as_frame=True)\n",
    "X_train, X_test, y_train, y_test = train_test_split(X, y)"
   ]
  },
  {
   "cell_type": "code",
   "execution_count": null,
   "metadata": {},
   "outputs": [],
   "source": [
    "from sklearn.svm import SVC\n",
    "\n",
    "# 1. Instantiate SVC with parameters gamma, C\n",
    "clf = SVC(gamma=0.001, C=100.)\n",
    "\n",
    "# 2. Fit clf to training data\n",
    "clf.fit(X_train, y_train)\n",
    "\n",
    "# 3. Predict labels on test data\n",
    "y_test_pred = clf.predict(X_test)\n",
    "\n",
    "y_test_pred"
   ]
  },
  {
   "attachments": {},
   "cell_type": "markdown",
   "metadata": {},
   "source": [
    "IMPORTANT: to use another classifier, only the specification line, part 1 changes!\n",
    "\n",
    "`SVC` could have been `RandomForest`, steps 2 and 3 remain the same - unified interface:"
   ]
  },
  {
   "cell_type": "code",
   "execution_count": null,
   "metadata": {},
   "outputs": [],
   "source": [
    "from sklearn.ensemble import RandomForestClassifier\n",
    "\n",
    "# 1. Instantiate SVC with parameters gamma, C\n",
    "clf = RandomForestClassifier(n_estimators=100)\n",
    "\n",
    "# 2. Fit clf to training data\n",
    "clf.fit(X_train, y_train)\n",
    "\n",
    "# 3. Predict labels on test data\n",
    "y_test_pred = clf.predict(X_test)\n",
    "\n",
    "y_test_pred"
   ]
  },
  {
   "attachments": {},
   "cell_type": "markdown",
   "metadata": {},
   "source": [
    "in object oriented design terminology, this is called **\"strategy pattern\"**\n",
    "\n",
    "= different estimators can be switched out without change to the interface\n",
    "\n",
    "= like a power plug adapter, it's plug&play if it conforms with the interface\n",
    "\n",
    "Pictorial summary:\n",
    "![](./img/sklearn-unified-interface.jpg)"
   ]
  },
  {
   "attachments": {},
   "cell_type": "markdown",
   "metadata": {},
   "source": [
    "parameters can be accessed and set via `get_params`, `set_params`:"
   ]
  },
  {
   "cell_type": "code",
   "execution_count": null,
   "metadata": {},
   "outputs": [],
   "source": [
    "clf.get_params()"
   ]
  },
  {
   "cell_type": "code",
   "execution_count": null,
   "metadata": {},
   "outputs": [],
   "source": [
    "clf.set_params(n_estimators=42)\n",
    "clf"
   ]
  },
  {
   "attachments": {},
   "cell_type": "markdown",
   "metadata": {},
   "source": [
    "fitted parameters end in an underscore:"
   ]
  },
  {
   "cell_type": "code",
   "execution_count": null,
   "metadata": {},
   "outputs": [],
   "source": [
    "from sklearn.linear_model import LogisticRegression\n",
    "clf = LogisticRegression()\n",
    "clf.fit(X_train, y_train)\n",
    "clf.coef_"
   ]
  },
  {
   "attachments": {},
   "cell_type": "markdown",
   "metadata": {},
   "source": [
    "### 1.3 sklearn - composition patterns\n",
    "\n",
    "`sklearn`'s unified interface extends to composition such as:\n",
    "\n",
    "* tuning such as grid search\n",
    "* ensembling such as bagging\n",
    "* pipelining such as chaining pre-processing with a classifier\n",
    "\n",
    "in that the pipeline also adheres to the unified interface!\n",
    "\n",
    "This makes `sklearn` particularly powerful as a specification language,\\\n",
    "as compositors can be combined in any number of ways.\n",
    "\n",
    "example compositions - tuning or ensembling:\n",
    "\n",
    "![](./img/sklearn-composition-interface.png)"
   ]
  },
  {
   "attachments": {},
   "cell_type": "markdown",
   "metadata": {},
   "source": [
    "example - classification pipeline. Has the same interface!"
   ]
  },
  {
   "cell_type": "code",
   "execution_count": null,
   "metadata": {},
   "outputs": [],
   "source": [
    "from sklearn.pipeline import make_pipeline\n",
    "from sklearn.preprocessing import StandardScaler\n",
    "from sklearn.svm import SVC\n",
    "\n",
    "# 1. Instantiate the estimator\n",
    "pipe = make_pipeline(StandardScaler(), SVC(gamma=0.01))\n",
    "\n",
    "# 2. Fit clf to training data\n",
    "pipe.fit(X_train, y_train)\n",
    "\n",
    "# 3. Predict labels on test data\n",
    "y_test_pred = pipe.predict(X_test)\n",
    "\n",
    "y_test_pred\n"
   ]
  },
  {
   "cell_type": "code",
   "execution_count": null,
   "metadata": {},
   "outputs": [],
   "source": [
    "# nice pretty printing\n",
    "# that allows to read the specificiation easily\n",
    "pipe"
   ]
  },
  {
   "attachments": {},
   "cell_type": "markdown",
   "metadata": {},
   "source": [
    "parameters of the composite are addressed by\n",
    "\n",
    "`[componentname]__[paramname]` (separated by double-underscore)\n",
    "\n",
    "this can be nested indefinitely, in multiply nested compositions!"
   ]
  },
  {
   "cell_type": "code",
   "execution_count": null,
   "metadata": {},
   "outputs": [],
   "source": [
    "pipe.get_params()"
   ]
  },
  {
   "attachments": {},
   "cell_type": "markdown",
   "metadata": {},
   "source": [
    "### 1.4 `skbase` / `sktime` is an evolution upon the `sklearn` base interface\n",
    "\n",
    "`sktime` - and `skbase` which follows `sktime` - evolve the `sklearn` base interface in a number of ways, including:\n",
    "\n",
    "- `get_fitted_params` interface for fittable objects, similar to `get_params`\n",
    "- unified tag and config manager, dynamic tags\n",
    "- improved state handling - `clone`, `reset`"
   ]
  },
  {
   "attachments": {},
   "cell_type": "markdown",
   "metadata": {},
   "source": [
    "`sktime` follows general `sklearn` interface patterns:"
   ]
  },
  {
   "cell_type": "code",
   "execution_count": null,
   "metadata": {},
   "outputs": [],
   "source": [
    "from sktime.datasets import load_airline\n",
    "from sktime.forecasting.arima import ARIMA\n",
    "\n",
    "y = load_airline()\n",
    "\n",
    "fcst = ARIMA()\n",
    "\n",
    "fcst.fit(y, fh=[1, 2, 3])\n",
    "\n",
    "fcst.predict()"
   ]
  },
  {
   "attachments": {},
   "cell_type": "markdown",
   "metadata": {},
   "source": [
    "### 1.4.1 unified tag and config system\n",
    "\n",
    "each `skbase` / `sktime` estimator has tags and configs.\n",
    "\n",
    "* tags are \"properties\" of the estimator, for developers and for search\n",
    "* configs are \"instructions\" to the estimators, for users to set"
   ]
  },
  {
   "attachments": {},
   "cell_type": "markdown",
   "metadata": {},
   "source": [
    "#### `skbase` estimator tag system"
   ]
  },
  {
   "cell_type": "code",
   "execution_count": null,
   "metadata": {},
   "outputs": [],
   "source": [
    "fcst.get_tags()"
   ]
  },
  {
   "attachments": {},
   "cell_type": "markdown",
   "metadata": {},
   "source": [
    "tags in `sktime` (and `skbase` templated packages) are listed and explained in the tag registry:"
   ]
  },
  {
   "cell_type": "code",
   "execution_count": null,
   "metadata": {},
   "outputs": [],
   "source": [
    "from sktime.registry import all_tags\n",
    "\n",
    "all_tags(\"forecaster\", as_dataframe=True)"
   ]
  },
  {
   "attachments": {},
   "cell_type": "markdown",
   "metadata": {},
   "source": [
    "this can be used to search, e.g., for forecasters that can produce prediction intervals"
   ]
  },
  {
   "cell_type": "code",
   "execution_count": null,
   "metadata": {},
   "outputs": [],
   "source": [
    "from sktime.registry import all_estimators\n",
    "\n",
    "all_estimators(\n",
    "    \"forecaster\", filter_tags={\"capability:pred_int\": True}, as_dataframe=True\n",
    ")"
   ]
  },
  {
   "attachments": {},
   "cell_type": "markdown",
   "metadata": {},
   "source": [
    "#### `skbase` estimator config system"
   ]
  },
  {
   "cell_type": "code",
   "execution_count": null,
   "metadata": {},
   "outputs": [],
   "source": [
    "fcst.get_config()"
   ]
  },
  {
   "attachments": {},
   "cell_type": "markdown",
   "metadata": {},
   "source": [
    "using config to change display mode:"
   ]
  },
  {
   "cell_type": "code",
   "execution_count": null,
   "metadata": {},
   "outputs": [],
   "source": [
    "fcst"
   ]
  },
  {
   "cell_type": "code",
   "execution_count": null,
   "metadata": {},
   "outputs": [],
   "source": [
    "fcst.set_config(display=\"test\")\n",
    "fcst"
   ]
  },
  {
   "attachments": {},
   "cell_type": "markdown",
   "metadata": {},
   "source": [
    "### 1.4.2 `get_fitted_params` - unified access to fitted parameters\n",
    "\n",
    "every fittable `skbase` / `sktime` estimator has a unified `get_fitted_params` interface point\n",
    "\n",
    "this retrieves fitted parameters as a `str` keyed `dict`,\n",
    "\n",
    "in complete analogy to `sklearn`'s `get_params`\n",
    "\n",
    "the default retrieves attributes `[attrname]_` at the key `\"[attrname]\"`"
   ]
  },
  {
   "cell_type": "code",
   "execution_count": null,
   "metadata": {},
   "outputs": [],
   "source": [
    "fcst.get_fitted_params()"
   ]
  },
  {
   "attachments": {},
   "cell_type": "markdown",
   "metadata": {},
   "source": [
    "fitted params also works with nested composites, e.g., pipelines\n",
    "\n",
    "behaviour is like `get_params` from `sklearn`"
   ]
  },
  {
   "cell_type": "code",
   "execution_count": null,
   "metadata": {},
   "outputs": [],
   "source": [
    "from sktime.datasets import load_airline\n",
    "from sktime.forecasting.arima import ARIMA\n",
    "from sktime.transformations.series.detrend import Deseasonalizer\n",
    "from sktime.pipeline import make_pipeline\n",
    "\n",
    "y = load_airline()\n",
    "\n",
    "fcst = make_pipeline(Deseasonalizer(sp=12), ARIMA())\n",
    "\n",
    "fcst.fit(y, fh=[1, 2, 3])\n",
    "\n",
    "fcst.predict()"
   ]
  },
  {
   "cell_type": "code",
   "execution_count": null,
   "metadata": {},
   "outputs": [],
   "source": [
    "fcst.get_fitted_params()"
   ]
  },
  {
   "attachments": {},
   "cell_type": "markdown",
   "metadata": {},
   "source": [
    "### 1.4.4 state handling via `clone`, `reset`\n",
    "\n",
    "`skbase` / `sktime` estimators have `clone` and `reset` interface points:\n",
    "\n",
    "* `clone` creates a blank, newly constructed copy of any object\n",
    "* `reset` resets object to state after construction\n",
    "\n",
    "both return an object with the same content!\n",
    "\n",
    "* `clone` is a copy, does not mutate\n",
    "* `reset` is identical, and mutates\n",
    "\n",
    "The equality dunder in `skbase` / `sktime` compares the *specification* for equality (not python object identity)."
   ]
  },
  {
   "cell_type": "code",
   "execution_count": null,
   "metadata": {},
   "outputs": [],
   "source": [
    "fcst = ARIMA(order=(1, 1, 0))\n",
    "fcst.fit(y, fh=[1, 2, 3])\n",
    "fcst.is_fitted"
   ]
  },
  {
   "attachments": {},
   "cell_type": "markdown",
   "metadata": {},
   "source": [
    "#### `clone` - create true copy of the specification"
   ]
  },
  {
   "cell_type": "code",
   "execution_count": null,
   "metadata": {},
   "outputs": [],
   "source": [
    "fcst_clone = fcst.clone()\n",
    "fcst_clone.is_fitted"
   ]
  },
  {
   "cell_type": "code",
   "execution_count": null,
   "metadata": {},
   "outputs": [],
   "source": [
    "fcst_clone is fcst"
   ]
  },
  {
   "cell_type": "code",
   "execution_count": null,
   "metadata": {},
   "outputs": [],
   "source": [
    "fcst_clone == fcst"
   ]
  },
  {
   "attachments": {},
   "cell_type": "markdown",
   "metadata": {},
   "source": [
    "why is `clone` useful, as a method?\n",
    "\n",
    "* allows to handle case specific logic in estimators and intermediate base classes\n",
    "* no extensive coupling with a \"loose method\" `clone`\n",
    "* design consistent with `reset`"
   ]
  },
  {
   "attachments": {},
   "cell_type": "markdown",
   "metadata": {},
   "source": [
    "#### `reset` - reset an estimator as if freshly constructed"
   ]
  },
  {
   "cell_type": "code",
   "execution_count": null,
   "metadata": {},
   "outputs": [],
   "source": [
    "fcst_reset = fcst.reset()\n",
    "fcst_reset.is_fitted"
   ]
  },
  {
   "cell_type": "code",
   "execution_count": null,
   "metadata": {},
   "outputs": [],
   "source": [
    "fcst_reset is fcst"
   ]
  },
  {
   "cell_type": "code",
   "execution_count": null,
   "metadata": {},
   "outputs": [],
   "source": [
    "# this is of course also equal\n",
    "fcst_reset == fcst"
   ]
  },
  {
   "attachments": {},
   "cell_type": "markdown",
   "metadata": {},
   "source": [
    "why is `reset` useful?\n",
    "\n",
    "* internally, it actually runs `__init__`!\n",
    "* it is called in `set_params`\n",
    "* it can be called at the start of `fit` (and is in `sktime`)\n",
    "\n",
    "so, preparation and parameter checking logic can happen in `__init__` (unlike in `sklearn`)"
   ]
  },
  {
   "attachments": {},
   "cell_type": "markdown",
   "metadata": {},
   "source": [
    "### 1.4.5 integrated test case generation via `get_test_params`, `create_test_instances_and_names`\n",
    "\n",
    "`skbase` / `sktime` estimators have test instance generation points:\n",
    "\n",
    "* `get_test_params` which returns a list of param dict that can be passed to constructor or `set_params`\n",
    "* `create_test_instances_and_names` which returns the instances as name-esetimator tuples\n",
    "\n",
    "This can be used with the `skbase` test framework for systematic testing in type specific scenarios."
   ]
  },
  {
   "attachments": {},
   "cell_type": "markdown",
   "metadata": {},
   "source": [
    "### 1.5 `sktime` evolves the `sklearn` extension interface for power users!\n",
    "\n",
    "`sklearn` has pioneered the easily extensible estimator interface:\n",
    "\n",
    "it is easy to write your own estimators and maintain them in third party code bases!\n",
    "\n",
    "`sktime` expands on this by introducing the **template pattern** on the extender interface side:\n",
    "\n",
    "* outer/inner methods, e.g., `fit`/`_fit`, with opportunity for boilerplate on `fit`, e.g., input checks, estimator `reset`\n",
    "* tags that control boilerplate and functionality without need to write it, e.g., preferred data type, check logic\n",
    "\n",
    "`skbase` does not *require* but *facilitates* these design patterns (combined strategy & template), more in notebook 3."
   ]
  },
  {
   "attachments": {},
   "cell_type": "markdown",
   "metadata": {},
   "source": [
    "### 1.6 Summary/What is next!\n",
    "\n",
    "- `sklearn` has a seminal interface design: unified interface (strategy pattern), modular, composition stable, easy specification language\n",
    "- `sktime` evolves and consolidates the `sklearn` API: parameter, tag, config, state handling, advanced extender interface support (template pattern)\n",
    "- `skbase` is a convenient developer workbench to construct packages that are conformant and compatible with the above!\n",
    "- next: core usage patterns of `skbase` & playing with `skbase` `BaseObject`, `BaseEstimator`\n",
    "- then: recipes for building packages with `skbase`, with examples"
   ]
  },
  {
   "attachments": {},
   "cell_type": "markdown",
   "metadata": {},
   "source": [
    "---\n",
    "### Credits: notebook 1 - Sktime intro, toolbox features, Forecasting\n",
    "\n",
    "notebook creation: fkiraly\n",
    "\n",
    "some vignettes based on existing `sktime` tutorials, credit: fkiraly, miraep8, mloning and danbartl\n",
    "\n",
    "slides (png/jpg): from fkiraly's postgraduate course at UCL, Principles and Patterns in Data Scientific Software Engineering\n",
    "\n",
    "General credit also to `sklearn` and `sktime` contributors"
   ]
  }
 ],
 "metadata": {
  "kernelspec": {
   "display_name": "sktime-skbase-310",
   "language": "python",
   "name": "python3"
  },
  "language_info": {
   "codemirror_mode": {
    "name": "ipython",
    "version": 3
   },
   "file_extension": ".py",
   "mimetype": "text/x-python",
   "name": "python",
   "nbconvert_exporter": "python",
   "pygments_lexer": "ipython3",
   "version": "3.10.8"
  },
  "orig_nbformat": 4,
  "vscode": {
   "interpreter": {
    "hash": "1ab6896984b6aa500b8009633c692bca601cfe3e50e0ab79a8a59539ceef9c7a"
   }
  }
 },
 "nbformat": 4,
 "nbformat_minor": 2
}
