{
 "cells": [
  {
   "attachments": {},
   "cell_type": "markdown",
   "metadata": {},
   "source": [
    "# Introduction to `skbase`"
   ]
  },
  {
   "attachments": {},
   "cell_type": "markdown",
   "metadata": {},
   "source": [
    "Contents of this tutorial:\n",
    "\n",
    "1. introduction to the unified `sklearn` / `sktime`-like interface supported by `skbase`\n",
    "2. `skbase` usage patterns\n",
    "3. package building with `skbase`"
   ]
  },
  {
   "attachments": {},
   "cell_type": "markdown",
   "metadata": {},
   "source": [
    "## 1 - Introducing the ``sklearn`` / `sktime` interface\n",
    "\n",
    "- it is recommended you have worked through either an ``sklearn`` or ``sktime`` tutorial\n",
    "- for ``sktime``, check out a previous [pydata tutorial](https://www.youtube.com/watch?v=ODspi8-uWgo) of ours, and of course visit [our website](https://www.sktime.net/en/latest/index.html)! \n",
    "- ``skbase`` is currently maintained by the ``sktime`` project.\n",
    "  - We *love* new contributors. Even if you are new to open source software developement!\n",
    "  - Check out the ``sktime`` [new contributors guide](https://www.sktime.net/en/latest/get_involved/contributing.html).\n"
   ]
  },
  {
   "attachments": {},
   "cell_type": "markdown",
   "metadata": {},
   "source": [
    "### 1.1 ``skbase``, ``sklearn``, ``sktime`` in a nutshell"
   ]
  },
  {
   "attachments": {},
   "cell_type": "markdown",
   "metadata": {},
   "source": [
    "- `skbase` is a workbench package for developers for creation of \"`sklearn`-likes\"\n",
    "  - reusable base class factory with `get_params`, config, nested composition interface, etc\n",
    "  - templated base classes compatible with `sklearn` / `sktime`\n",
    "  - lookup and search utilities\n",
    "  - factory templates for test frameworks "
   ]
  },
  {
   "attachments": {},
   "cell_type": "markdown",
   "metadata": {},
   "source": [
    "- `sklearn` / `sktime` interface:\n",
    "  - unified interface for objects/estimators\n",
    "  - modular design, strategy pattern\n",
    "  - composable, composites are interface homogenous\n",
    "  - simple specification language and parameter interface\n",
    "  - visually informative pretty printing"
   ]
  },
  {
   "attachments": {},
   "cell_type": "markdown",
   "metadata": {},
   "source": [
    "- `sktime` base class design is an evolution on `sklearn`:\n",
    "  - separation of `BaseObject` (non-fittable) and `BaseEstimator` (fittable)\n",
    "  - `get_fitted_params` interface for fittable objects, similar to `get_params`\n",
    "  - unified tag and config manager, dynamic tags\n",
    "  - improved state handling - `clone`, `reset`\n",
    "  - test case generation, e.g., `create_test_instances_and_names`\n",
    "  - test framework with scenario and conditional fixture handling"
   ]
  },
  {
   "attachments": {},
   "cell_type": "markdown",
   "metadata": {},
   "source": [
    "### 1.2 sklearn unified interface - the strategy pattern\n",
    "\n",
    "`sklearn` provides a unified interface to multiple learning tasks including classification, regression.\n",
    "\n",
    "any (supervised) estimator has the following interface points\n",
    "\n",
    "1. **Instantiate** your model of choice, with parameter settings\n",
    "2. **Fit** the instance of your model\n",
    "3. Use that fitted instance to **predict** new data!\n",
    "\n",
    "![](./img/estimator-conceptual-model.jpg)"
   ]
  },
  {
   "cell_type": "code",
   "execution_count": 1,
   "metadata": {},
   "outputs": [],
   "source": [
    "# get data to use the model on\n",
    "from sklearn.datasets import load_iris\n",
    "from sklearn.model_selection import train_test_split\n",
    "\n",
    "X, y = load_iris(return_X_y=True, as_frame=True)\n",
    "X_train, X_test, y_train, y_test = train_test_split(X, y)"
   ]
  },
  {
   "cell_type": "code",
   "execution_count": 2,
   "metadata": {},
   "outputs": [
    {
     "data": {
      "text/plain": [
       "array([0, 0, 1, 2, 1, 2, 1, 1, 0, 0, 2, 0, 0, 2, 0, 0, 2, 2, 2, 1, 0, 0,\n",
       "       2, 1, 1, 2, 2, 2, 2, 0, 2, 0, 1, 0, 0, 2, 0, 1])"
      ]
     },
     "execution_count": 2,
     "metadata": {},
     "output_type": "execute_result"
    }
   ],
   "source": [
    "from sklearn.svm import SVC\n",
    "\n",
    "# 1. Instantiate SVC with parameters gamma, C\n",
    "clf = SVC(gamma=0.001, C=100.)\n",
    "\n",
    "# 2. Fit clf to training data\n",
    "clf.fit(X_train, y_train)\n",
    "\n",
    "# 3. Predict labels on test data\n",
    "y_test_pred = clf.predict(X_test)\n",
    "\n",
    "y_test_pred"
   ]
  },
  {
   "attachments": {},
   "cell_type": "markdown",
   "metadata": {},
   "source": [
    "IMPORTANT: to use another classifier, only the specification line, part 1 changes!\n",
    "\n",
    "`SVC` could have been `RandomForest`, steps 2 and 3 remain the same - unified interface:"
   ]
  },
  {
   "cell_type": "code",
   "execution_count": 3,
   "metadata": {},
   "outputs": [
    {
     "data": {
      "text/plain": [
       "array([0, 0, 1, 2, 1, 2, 1, 1, 0, 0, 2, 0, 0, 2, 0, 0, 2, 2, 2, 1, 0, 0,\n",
       "       2, 1, 1, 1, 2, 2, 2, 0, 2, 0, 1, 0, 0, 2, 0, 1])"
      ]
     },
     "execution_count": 3,
     "metadata": {},
     "output_type": "execute_result"
    }
   ],
   "source": [
    "from sklearn.ensemble import RandomForestClassifier\n",
    "\n",
    "# 1. Instantiate SVC with parameters gamma, C\n",
    "clf = RandomForestClassifier(n_estimators=100)\n",
    "\n",
    "# 2. Fit clf to training data\n",
    "clf.fit(X_train, y_train)\n",
    "\n",
    "# 3. Predict labels on test data\n",
    "y_test_pred = clf.predict(X_test)\n",
    "\n",
    "y_test_pred"
   ]
  },
  {
   "attachments": {},
   "cell_type": "markdown",
   "metadata": {},
   "source": [
    "in object oriented design terminology, this is called **\"strategy pattern\"**\n",
    "\n",
    "= different estimators can be switched out without change to the interface\n",
    "\n",
    "= like a power plug adapter, it's plug&play if it conforms with the interface\n",
    "\n",
    "Pictorial summary:\n",
    "![](./img/sklearn-unified-interface.jpg)"
   ]
  },
  {
   "attachments": {},
   "cell_type": "markdown",
   "metadata": {},
   "source": [
    "parameters can be accessed and set via `get_params`, `set_params`:"
   ]
  },
  {
   "cell_type": "code",
   "execution_count": 4,
   "metadata": {},
   "outputs": [
    {
     "data": {
      "text/plain": [
       "{'bootstrap': True,\n",
       " 'ccp_alpha': 0.0,\n",
       " 'class_weight': None,\n",
       " 'criterion': 'gini',\n",
       " 'max_depth': None,\n",
       " 'max_features': 'sqrt',\n",
       " 'max_leaf_nodes': None,\n",
       " 'max_samples': None,\n",
       " 'min_impurity_decrease': 0.0,\n",
       " 'min_samples_leaf': 1,\n",
       " 'min_samples_split': 2,\n",
       " 'min_weight_fraction_leaf': 0.0,\n",
       " 'n_estimators': 100,\n",
       " 'n_jobs': None,\n",
       " 'oob_score': False,\n",
       " 'random_state': None,\n",
       " 'verbose': 0,\n",
       " 'warm_start': False}"
      ]
     },
     "execution_count": 4,
     "metadata": {},
     "output_type": "execute_result"
    }
   ],
   "source": [
    "clf.get_params()"
   ]
  },
  {
   "cell_type": "code",
   "execution_count": 5,
   "metadata": {},
   "outputs": [
    {
     "data": {
      "text/html": [
       "<style>#sk-container-id-1 {color: black;background-color: white;}#sk-container-id-1 pre{padding: 0;}#sk-container-id-1 div.sk-toggleable {background-color: white;}#sk-container-id-1 label.sk-toggleable__label {cursor: pointer;display: block;width: 100%;margin-bottom: 0;padding: 0.3em;box-sizing: border-box;text-align: center;}#sk-container-id-1 label.sk-toggleable__label-arrow:before {content: \"▸\";float: left;margin-right: 0.25em;color: #696969;}#sk-container-id-1 label.sk-toggleable__label-arrow:hover:before {color: black;}#sk-container-id-1 div.sk-estimator:hover label.sk-toggleable__label-arrow:before {color: black;}#sk-container-id-1 div.sk-toggleable__content {max-height: 0;max-width: 0;overflow: hidden;text-align: left;background-color: #f0f8ff;}#sk-container-id-1 div.sk-toggleable__content pre {margin: 0.2em;color: black;border-radius: 0.25em;background-color: #f0f8ff;}#sk-container-id-1 input.sk-toggleable__control:checked~div.sk-toggleable__content {max-height: 200px;max-width: 100%;overflow: auto;}#sk-container-id-1 input.sk-toggleable__control:checked~label.sk-toggleable__label-arrow:before {content: \"▾\";}#sk-container-id-1 div.sk-estimator input.sk-toggleable__control:checked~label.sk-toggleable__label {background-color: #d4ebff;}#sk-container-id-1 div.sk-label input.sk-toggleable__control:checked~label.sk-toggleable__label {background-color: #d4ebff;}#sk-container-id-1 input.sk-hidden--visually {border: 0;clip: rect(1px 1px 1px 1px);clip: rect(1px, 1px, 1px, 1px);height: 1px;margin: -1px;overflow: hidden;padding: 0;position: absolute;width: 1px;}#sk-container-id-1 div.sk-estimator {font-family: monospace;background-color: #f0f8ff;border: 1px dotted black;border-radius: 0.25em;box-sizing: border-box;margin-bottom: 0.5em;}#sk-container-id-1 div.sk-estimator:hover {background-color: #d4ebff;}#sk-container-id-1 div.sk-parallel-item::after {content: \"\";width: 100%;border-bottom: 1px solid gray;flex-grow: 1;}#sk-container-id-1 div.sk-label:hover label.sk-toggleable__label {background-color: #d4ebff;}#sk-container-id-1 div.sk-serial::before {content: \"\";position: absolute;border-left: 1px solid gray;box-sizing: border-box;top: 0;bottom: 0;left: 50%;z-index: 0;}#sk-container-id-1 div.sk-serial {display: flex;flex-direction: column;align-items: center;background-color: white;padding-right: 0.2em;padding-left: 0.2em;position: relative;}#sk-container-id-1 div.sk-item {position: relative;z-index: 1;}#sk-container-id-1 div.sk-parallel {display: flex;align-items: stretch;justify-content: center;background-color: white;position: relative;}#sk-container-id-1 div.sk-item::before, #sk-container-id-1 div.sk-parallel-item::before {content: \"\";position: absolute;border-left: 1px solid gray;box-sizing: border-box;top: 0;bottom: 0;left: 50%;z-index: -1;}#sk-container-id-1 div.sk-parallel-item {display: flex;flex-direction: column;z-index: 1;position: relative;background-color: white;}#sk-container-id-1 div.sk-parallel-item:first-child::after {align-self: flex-end;width: 50%;}#sk-container-id-1 div.sk-parallel-item:last-child::after {align-self: flex-start;width: 50%;}#sk-container-id-1 div.sk-parallel-item:only-child::after {width: 0;}#sk-container-id-1 div.sk-dashed-wrapped {border: 1px dashed gray;margin: 0 0.4em 0.5em 0.4em;box-sizing: border-box;padding-bottom: 0.4em;background-color: white;}#sk-container-id-1 div.sk-label label {font-family: monospace;font-weight: bold;display: inline-block;line-height: 1.2em;}#sk-container-id-1 div.sk-label-container {text-align: center;}#sk-container-id-1 div.sk-container {/* jupyter's `normalize.less` sets `[hidden] { display: none; }` but bootstrap.min.css set `[hidden] { display: none !important; }` so we also need the `!important` here to be able to override the default hidden behavior on the sphinx rendered scikit-learn.org. See: https://github.com/scikit-learn/scikit-learn/issues/21755 */display: inline-block !important;position: relative;}#sk-container-id-1 div.sk-text-repr-fallback {display: none;}</style><div id=\"sk-container-id-1\" class=\"sk-top-container\"><div class=\"sk-text-repr-fallback\"><pre>RandomForestClassifier(n_estimators=42)</pre><b>In a Jupyter environment, please rerun this cell to show the HTML representation or trust the notebook. <br />On GitHub, the HTML representation is unable to render, please try loading this page with nbviewer.org.</b></div><div class=\"sk-container\" hidden><div class=\"sk-item\"><div class=\"sk-estimator sk-toggleable\"><input class=\"sk-toggleable__control sk-hidden--visually\" id=\"sk-estimator-id-1\" type=\"checkbox\" checked><label for=\"sk-estimator-id-1\" class=\"sk-toggleable__label sk-toggleable__label-arrow\">RandomForestClassifier</label><div class=\"sk-toggleable__content\"><pre>RandomForestClassifier(n_estimators=42)</pre></div></div></div></div></div>"
      ],
      "text/plain": [
       "RandomForestClassifier(n_estimators=42)"
      ]
     },
     "execution_count": 5,
     "metadata": {},
     "output_type": "execute_result"
    }
   ],
   "source": [
    "clf.set_params(n_estimators=42)\n",
    "clf"
   ]
  },
  {
   "attachments": {},
   "cell_type": "markdown",
   "metadata": {},
   "source": [
    "fitted parameters end in an underscore:"
   ]
  },
  {
   "cell_type": "code",
   "execution_count": 6,
   "metadata": {},
   "outputs": [
    {
     "name": "stderr",
     "output_type": "stream",
     "text": [
      "c:\\ProgramData\\Anaconda3\\envs\\sktime-skbase-310\\lib\\site-packages\\sklearn\\linear_model\\_logistic.py:458: ConvergenceWarning: lbfgs failed to converge (status=1):\n",
      "STOP: TOTAL NO. of ITERATIONS REACHED LIMIT.\n",
      "\n",
      "Increase the number of iterations (max_iter) or scale the data as shown in:\n",
      "    https://scikit-learn.org/stable/modules/preprocessing.html\n",
      "Please also refer to the documentation for alternative solver options:\n",
      "    https://scikit-learn.org/stable/modules/linear_model.html#logistic-regression\n",
      "  n_iter_i = _check_optimize_result(\n"
     ]
    },
    {
     "data": {
      "text/plain": [
       "array([[-0.4187126 ,  0.87719211, -2.36276128, -1.00734237],\n",
       "       [ 0.34128422, -0.32007984, -0.13769943, -0.84751076],\n",
       "       [ 0.07742838, -0.55711227,  2.50046071,  1.85485313]])"
      ]
     },
     "execution_count": 6,
     "metadata": {},
     "output_type": "execute_result"
    }
   ],
   "source": [
    "from sklearn.linear_model import LogisticRegression\n",
    "clf = LogisticRegression()\n",
    "clf.fit(X_train, y_train)\n",
    "clf.coef_"
   ]
  },
  {
   "attachments": {},
   "cell_type": "markdown",
   "metadata": {},
   "source": [
    "### 1.3 sklearn - composition patterns\n",
    "\n",
    "`sklearn`'s unified interface extends to composition such as:\n",
    "\n",
    "* tuning such as grid search\n",
    "* ensembling such as bagging\n",
    "* pipelining such as chaining pre-processing with a classifier\n",
    "\n",
    "in that the pipeline also adheres to the unified interface!\n",
    "\n",
    "This makes `sklearn` particularly powerful as a specification language,\\\n",
    "as compositors can be combined in any number of ways.\n",
    "\n",
    "example compositions - tuning or ensembling:\n",
    "\n",
    "![](./img/sklearn-composition-interface.png)"
   ]
  },
  {
   "attachments": {},
   "cell_type": "markdown",
   "metadata": {},
   "source": [
    "example - classification pipeline. Has the same interface!"
   ]
  },
  {
   "cell_type": "code",
   "execution_count": 7,
   "metadata": {},
   "outputs": [
    {
     "data": {
      "text/plain": [
       "array([0, 0, 1, 2, 1, 2, 2, 1, 0, 0, 2, 0, 0, 2, 0, 0, 2, 1, 1, 1, 0, 0,\n",
       "       2, 1, 2, 1, 2, 2, 2, 0, 2, 0, 1, 0, 0, 2, 0, 1])"
      ]
     },
     "execution_count": 7,
     "metadata": {},
     "output_type": "execute_result"
    }
   ],
   "source": [
    "from sklearn.pipeline import make_pipeline\n",
    "from sklearn.preprocessing import StandardScaler\n",
    "from sklearn.svm import SVC\n",
    "\n",
    "# 1. Instantiate the estimator\n",
    "pipe = make_pipeline(StandardScaler(), SVC(gamma=0.01))\n",
    "\n",
    "# 2. Fit clf to training data\n",
    "pipe.fit(X_train, y_train)\n",
    "\n",
    "# 3. Predict labels on test data\n",
    "y_test_pred = pipe.predict(X_test)\n",
    "\n",
    "y_test_pred\n"
   ]
  },
  {
   "cell_type": "code",
   "execution_count": 8,
   "metadata": {},
   "outputs": [
    {
     "data": {
      "text/html": [
       "<style>#sk-container-id-2 {color: black;background-color: white;}#sk-container-id-2 pre{padding: 0;}#sk-container-id-2 div.sk-toggleable {background-color: white;}#sk-container-id-2 label.sk-toggleable__label {cursor: pointer;display: block;width: 100%;margin-bottom: 0;padding: 0.3em;box-sizing: border-box;text-align: center;}#sk-container-id-2 label.sk-toggleable__label-arrow:before {content: \"▸\";float: left;margin-right: 0.25em;color: #696969;}#sk-container-id-2 label.sk-toggleable__label-arrow:hover:before {color: black;}#sk-container-id-2 div.sk-estimator:hover label.sk-toggleable__label-arrow:before {color: black;}#sk-container-id-2 div.sk-toggleable__content {max-height: 0;max-width: 0;overflow: hidden;text-align: left;background-color: #f0f8ff;}#sk-container-id-2 div.sk-toggleable__content pre {margin: 0.2em;color: black;border-radius: 0.25em;background-color: #f0f8ff;}#sk-container-id-2 input.sk-toggleable__control:checked~div.sk-toggleable__content {max-height: 200px;max-width: 100%;overflow: auto;}#sk-container-id-2 input.sk-toggleable__control:checked~label.sk-toggleable__label-arrow:before {content: \"▾\";}#sk-container-id-2 div.sk-estimator input.sk-toggleable__control:checked~label.sk-toggleable__label {background-color: #d4ebff;}#sk-container-id-2 div.sk-label input.sk-toggleable__control:checked~label.sk-toggleable__label {background-color: #d4ebff;}#sk-container-id-2 input.sk-hidden--visually {border: 0;clip: rect(1px 1px 1px 1px);clip: rect(1px, 1px, 1px, 1px);height: 1px;margin: -1px;overflow: hidden;padding: 0;position: absolute;width: 1px;}#sk-container-id-2 div.sk-estimator {font-family: monospace;background-color: #f0f8ff;border: 1px dotted black;border-radius: 0.25em;box-sizing: border-box;margin-bottom: 0.5em;}#sk-container-id-2 div.sk-estimator:hover {background-color: #d4ebff;}#sk-container-id-2 div.sk-parallel-item::after {content: \"\";width: 100%;border-bottom: 1px solid gray;flex-grow: 1;}#sk-container-id-2 div.sk-label:hover label.sk-toggleable__label {background-color: #d4ebff;}#sk-container-id-2 div.sk-serial::before {content: \"\";position: absolute;border-left: 1px solid gray;box-sizing: border-box;top: 0;bottom: 0;left: 50%;z-index: 0;}#sk-container-id-2 div.sk-serial {display: flex;flex-direction: column;align-items: center;background-color: white;padding-right: 0.2em;padding-left: 0.2em;position: relative;}#sk-container-id-2 div.sk-item {position: relative;z-index: 1;}#sk-container-id-2 div.sk-parallel {display: flex;align-items: stretch;justify-content: center;background-color: white;position: relative;}#sk-container-id-2 div.sk-item::before, #sk-container-id-2 div.sk-parallel-item::before {content: \"\";position: absolute;border-left: 1px solid gray;box-sizing: border-box;top: 0;bottom: 0;left: 50%;z-index: -1;}#sk-container-id-2 div.sk-parallel-item {display: flex;flex-direction: column;z-index: 1;position: relative;background-color: white;}#sk-container-id-2 div.sk-parallel-item:first-child::after {align-self: flex-end;width: 50%;}#sk-container-id-2 div.sk-parallel-item:last-child::after {align-self: flex-start;width: 50%;}#sk-container-id-2 div.sk-parallel-item:only-child::after {width: 0;}#sk-container-id-2 div.sk-dashed-wrapped {border: 1px dashed gray;margin: 0 0.4em 0.5em 0.4em;box-sizing: border-box;padding-bottom: 0.4em;background-color: white;}#sk-container-id-2 div.sk-label label {font-family: monospace;font-weight: bold;display: inline-block;line-height: 1.2em;}#sk-container-id-2 div.sk-label-container {text-align: center;}#sk-container-id-2 div.sk-container {/* jupyter's `normalize.less` sets `[hidden] { display: none; }` but bootstrap.min.css set `[hidden] { display: none !important; }` so we also need the `!important` here to be able to override the default hidden behavior on the sphinx rendered scikit-learn.org. See: https://github.com/scikit-learn/scikit-learn/issues/21755 */display: inline-block !important;position: relative;}#sk-container-id-2 div.sk-text-repr-fallback {display: none;}</style><div id=\"sk-container-id-2\" class=\"sk-top-container\"><div class=\"sk-text-repr-fallback\"><pre>Pipeline(steps=[(&#x27;standardscaler&#x27;, StandardScaler()), (&#x27;svc&#x27;, SVC(gamma=0.01))])</pre><b>In a Jupyter environment, please rerun this cell to show the HTML representation or trust the notebook. <br />On GitHub, the HTML representation is unable to render, please try loading this page with nbviewer.org.</b></div><div class=\"sk-container\" hidden><div class=\"sk-item sk-dashed-wrapped\"><div class=\"sk-label-container\"><div class=\"sk-label sk-toggleable\"><input class=\"sk-toggleable__control sk-hidden--visually\" id=\"sk-estimator-id-2\" type=\"checkbox\" ><label for=\"sk-estimator-id-2\" class=\"sk-toggleable__label sk-toggleable__label-arrow\">Pipeline</label><div class=\"sk-toggleable__content\"><pre>Pipeline(steps=[(&#x27;standardscaler&#x27;, StandardScaler()), (&#x27;svc&#x27;, SVC(gamma=0.01))])</pre></div></div></div><div class=\"sk-serial\"><div class=\"sk-item\"><div class=\"sk-estimator sk-toggleable\"><input class=\"sk-toggleable__control sk-hidden--visually\" id=\"sk-estimator-id-3\" type=\"checkbox\" ><label for=\"sk-estimator-id-3\" class=\"sk-toggleable__label sk-toggleable__label-arrow\">StandardScaler</label><div class=\"sk-toggleable__content\"><pre>StandardScaler()</pre></div></div></div><div class=\"sk-item\"><div class=\"sk-estimator sk-toggleable\"><input class=\"sk-toggleable__control sk-hidden--visually\" id=\"sk-estimator-id-4\" type=\"checkbox\" ><label for=\"sk-estimator-id-4\" class=\"sk-toggleable__label sk-toggleable__label-arrow\">SVC</label><div class=\"sk-toggleable__content\"><pre>SVC(gamma=0.01)</pre></div></div></div></div></div></div></div>"
      ],
      "text/plain": [
       "Pipeline(steps=[('standardscaler', StandardScaler()), ('svc', SVC(gamma=0.01))])"
      ]
     },
     "execution_count": 8,
     "metadata": {},
     "output_type": "execute_result"
    }
   ],
   "source": [
    "# nice pretty printing\n",
    "# that allows to read the specificiation easily\n",
    "pipe"
   ]
  },
  {
   "attachments": {},
   "cell_type": "markdown",
   "metadata": {},
   "source": [
    "parameters of the composite are addressed by\n",
    "\n",
    "`[componentname]__[paramname]` (separated by double-underscore)\n",
    "\n",
    "this can be nested indefinitely, in multiply nested compositions!"
   ]
  },
  {
   "cell_type": "code",
   "execution_count": 9,
   "metadata": {},
   "outputs": [
    {
     "data": {
      "text/plain": [
       "{'memory': None,\n",
       " 'steps': [('standardscaler', StandardScaler()), ('svc', SVC(gamma=0.01))],\n",
       " 'verbose': False,\n",
       " 'standardscaler': StandardScaler(),\n",
       " 'svc': SVC(gamma=0.01),\n",
       " 'standardscaler__copy': True,\n",
       " 'standardscaler__with_mean': True,\n",
       " 'standardscaler__with_std': True,\n",
       " 'svc__C': 1.0,\n",
       " 'svc__break_ties': False,\n",
       " 'svc__cache_size': 200,\n",
       " 'svc__class_weight': None,\n",
       " 'svc__coef0': 0.0,\n",
       " 'svc__decision_function_shape': 'ovr',\n",
       " 'svc__degree': 3,\n",
       " 'svc__gamma': 0.01,\n",
       " 'svc__kernel': 'rbf',\n",
       " 'svc__max_iter': -1,\n",
       " 'svc__probability': False,\n",
       " 'svc__random_state': None,\n",
       " 'svc__shrinking': True,\n",
       " 'svc__tol': 0.001,\n",
       " 'svc__verbose': False}"
      ]
     },
     "execution_count": 9,
     "metadata": {},
     "output_type": "execute_result"
    }
   ],
   "source": [
    "pipe.get_params()"
   ]
  },
  {
   "attachments": {},
   "cell_type": "markdown",
   "metadata": {},
   "source": [
    "### 1.4 `skbase` / `sktime` is an evolution upon the `sklearn` base interface\n",
    "\n",
    "`sktime` - and `skbase` which follows `sktime` - evolve the `sklearn` base interface in a number of ways, including:\n",
    "\n",
    "- `get_fitted_params` interface for fittable objects, similar to `get_params`\n",
    "- unified tag and config manager, dynamic tags\n",
    "- improved state handling - `clone`, `reset`"
   ]
  },
  {
   "attachments": {},
   "cell_type": "markdown",
   "metadata": {},
   "source": [
    "`sktime` follows general `sklearn` interface patterns:"
   ]
  },
  {
   "cell_type": "code",
   "execution_count": 10,
   "metadata": {},
   "outputs": [
    {
     "data": {
      "text/plain": [
       "1961-01    426.544850\n",
       "1961-02    421.282983\n",
       "1961-03    416.207550\n",
       "Freq: M, Name: Number of airline passengers, dtype: float64"
      ]
     },
     "execution_count": 10,
     "metadata": {},
     "output_type": "execute_result"
    }
   ],
   "source": [
    "from sktime.datasets import load_airline\n",
    "from sktime.forecasting.arima import ARIMA\n",
    "\n",
    "y = load_airline()\n",
    "\n",
    "fcst = ARIMA()\n",
    "\n",
    "fcst.fit(y, fh=[1, 2, 3])\n",
    "\n",
    "fcst.predict()"
   ]
  },
  {
   "attachments": {},
   "cell_type": "markdown",
   "metadata": {},
   "source": [
    "### 1.4.1 unified tag and config system\n",
    "\n",
    "each `skbase` / `sktime` estimator has tags and configs.\n",
    "\n",
    "* tags are \"properties\" of the estimator, for developers and for search\n",
    "* configs are \"instructions\" to the estimators, for users to set"
   ]
  },
  {
   "attachments": {},
   "cell_type": "markdown",
   "metadata": {},
   "source": [
    "#### `skbase` estimator tag system"
   ]
  },
  {
   "cell_type": "code",
   "execution_count": 11,
   "metadata": {},
   "outputs": [
    {
     "data": {
      "text/plain": [
       "{'scitype:y': 'univariate',\n",
       " 'ignores-exogeneous-X': False,\n",
       " 'capability:insample': True,\n",
       " 'capability:pred_int': True,\n",
       " 'capability:pred_int:insample': True,\n",
       " 'handles-missing-data': True,\n",
       " 'y_inner_mtype': 'pd.Series',\n",
       " 'X_inner_mtype': 'pd.DataFrame',\n",
       " 'requires-fh-in-fit': False,\n",
       " 'X-y-must-have-same-index': True,\n",
       " 'enforce_index_type': None,\n",
       " 'fit_is_empty': False,\n",
       " 'python_version': None,\n",
       " 'python_dependencies': 'pmdarima'}"
      ]
     },
     "execution_count": 11,
     "metadata": {},
     "output_type": "execute_result"
    }
   ],
   "source": [
    "fcst.get_tags()"
   ]
  },
  {
   "attachments": {},
   "cell_type": "markdown",
   "metadata": {},
   "source": [
    "tags in `sktime` (and `skbase` templated packages) are listed and explained in the tag registry:"
   ]
  },
  {
   "cell_type": "code",
   "execution_count": 12,
   "metadata": {},
   "outputs": [
    {
     "data": {
      "text/html": [
       "<div>\n",
       "<style scoped>\n",
       "    .dataframe tbody tr th:only-of-type {\n",
       "        vertical-align: middle;\n",
       "    }\n",
       "\n",
       "    .dataframe tbody tr th {\n",
       "        vertical-align: top;\n",
       "    }\n",
       "\n",
       "    .dataframe thead th {\n",
       "        text-align: right;\n",
       "    }\n",
       "</style>\n",
       "<table border=\"1\" class=\"dataframe\">\n",
       "  <thead>\n",
       "    <tr style=\"text-align: right;\">\n",
       "      <th></th>\n",
       "      <th>name</th>\n",
       "      <th>scitype</th>\n",
       "      <th>type</th>\n",
       "      <th>description</th>\n",
       "    </tr>\n",
       "  </thead>\n",
       "  <tbody>\n",
       "    <tr>\n",
       "      <th>0</th>\n",
       "      <td>X-y-must-have-same-index</td>\n",
       "      <td>[forecaster, regressor]</td>\n",
       "      <td>bool</td>\n",
       "      <td>do X/y in fit/update and X/fh in predict have ...</td>\n",
       "    </tr>\n",
       "    <tr>\n",
       "      <th>1</th>\n",
       "      <td>X_inner_mtype</td>\n",
       "      <td>[forecaster, transformer, transformer-pairwise...</td>\n",
       "      <td>(list, [pd.Series, pd.DataFrame, np.array, nes...</td>\n",
       "      <td>which machine type(s) is the internal _fit/_pr...</td>\n",
       "    </tr>\n",
       "    <tr>\n",
       "      <th>2</th>\n",
       "      <td>capability:insample</td>\n",
       "      <td>forecaster</td>\n",
       "      <td>bool</td>\n",
       "      <td>can the forecaster make in-sample predictions?</td>\n",
       "    </tr>\n",
       "    <tr>\n",
       "      <th>3</th>\n",
       "      <td>capability:pred_int</td>\n",
       "      <td>forecaster</td>\n",
       "      <td>bool</td>\n",
       "      <td>does the forecaster implement predict_interval...</td>\n",
       "    </tr>\n",
       "    <tr>\n",
       "      <th>4</th>\n",
       "      <td>capability:pred_int:insample</td>\n",
       "      <td>forecaster</td>\n",
       "      <td>bool</td>\n",
       "      <td>can the forecaster make in-sample predictions ...</td>\n",
       "    </tr>\n",
       "    <tr>\n",
       "      <th>5</th>\n",
       "      <td>capability:pred_var</td>\n",
       "      <td>forecaster</td>\n",
       "      <td>bool</td>\n",
       "      <td>does the forecaster implement predict_variance?</td>\n",
       "    </tr>\n",
       "    <tr>\n",
       "      <th>6</th>\n",
       "      <td>enforce_index_type</td>\n",
       "      <td>[forecaster, regressor]</td>\n",
       "      <td>type</td>\n",
       "      <td>passed to input checks, input conversion index...</td>\n",
       "    </tr>\n",
       "    <tr>\n",
       "      <th>7</th>\n",
       "      <td>ignores-exogeneous-X</td>\n",
       "      <td>forecaster</td>\n",
       "      <td>bool</td>\n",
       "      <td>does forecaster ignore exogeneous data (X)?</td>\n",
       "    </tr>\n",
       "    <tr>\n",
       "      <th>8</th>\n",
       "      <td>remember_data</td>\n",
       "      <td>[forecaster, transformer]</td>\n",
       "      <td>bool</td>\n",
       "      <td>whether estimator remembers all data seen as s...</td>\n",
       "    </tr>\n",
       "    <tr>\n",
       "      <th>9</th>\n",
       "      <td>requires-fh-in-fit</td>\n",
       "      <td>forecaster</td>\n",
       "      <td>bool</td>\n",
       "      <td>does forecaster require fh passed already in f...</td>\n",
       "    </tr>\n",
       "    <tr>\n",
       "      <th>10</th>\n",
       "      <td>scitype:y</td>\n",
       "      <td>forecaster</td>\n",
       "      <td>(str, [univariate, multivariate, both])</td>\n",
       "      <td>which series type does the forecaster support?...</td>\n",
       "    </tr>\n",
       "    <tr>\n",
       "      <th>11</th>\n",
       "      <td>y_inner_mtype</td>\n",
       "      <td>[forecaster, transformer]</td>\n",
       "      <td>(list, [pd.Series, pd.DataFrame, np.array, nes...</td>\n",
       "      <td>which machine type(s) is the internal _fit/_pr...</td>\n",
       "    </tr>\n",
       "  </tbody>\n",
       "</table>\n",
       "</div>"
      ],
      "text/plain": [
       "                            name  \\\n",
       "0       X-y-must-have-same-index   \n",
       "1                  X_inner_mtype   \n",
       "2            capability:insample   \n",
       "3            capability:pred_int   \n",
       "4   capability:pred_int:insample   \n",
       "5            capability:pred_var   \n",
       "6             enforce_index_type   \n",
       "7           ignores-exogeneous-X   \n",
       "8                  remember_data   \n",
       "9             requires-fh-in-fit   \n",
       "10                     scitype:y   \n",
       "11                 y_inner_mtype   \n",
       "\n",
       "                                              scitype  \\\n",
       "0                             [forecaster, regressor]   \n",
       "1   [forecaster, transformer, transformer-pairwise...   \n",
       "2                                          forecaster   \n",
       "3                                          forecaster   \n",
       "4                                          forecaster   \n",
       "5                                          forecaster   \n",
       "6                             [forecaster, regressor]   \n",
       "7                                          forecaster   \n",
       "8                           [forecaster, transformer]   \n",
       "9                                          forecaster   \n",
       "10                                         forecaster   \n",
       "11                          [forecaster, transformer]   \n",
       "\n",
       "                                                 type  \\\n",
       "0                                                bool   \n",
       "1   (list, [pd.Series, pd.DataFrame, np.array, nes...   \n",
       "2                                                bool   \n",
       "3                                                bool   \n",
       "4                                                bool   \n",
       "5                                                bool   \n",
       "6                                                type   \n",
       "7                                                bool   \n",
       "8                                                bool   \n",
       "9                                                bool   \n",
       "10            (str, [univariate, multivariate, both])   \n",
       "11  (list, [pd.Series, pd.DataFrame, np.array, nes...   \n",
       "\n",
       "                                          description  \n",
       "0   do X/y in fit/update and X/fh in predict have ...  \n",
       "1   which machine type(s) is the internal _fit/_pr...  \n",
       "2      can the forecaster make in-sample predictions?  \n",
       "3   does the forecaster implement predict_interval...  \n",
       "4   can the forecaster make in-sample predictions ...  \n",
       "5     does the forecaster implement predict_variance?  \n",
       "6   passed to input checks, input conversion index...  \n",
       "7         does forecaster ignore exogeneous data (X)?  \n",
       "8   whether estimator remembers all data seen as s...  \n",
       "9   does forecaster require fh passed already in f...  \n",
       "10  which series type does the forecaster support?...  \n",
       "11  which machine type(s) is the internal _fit/_pr...  "
      ]
     },
     "execution_count": 12,
     "metadata": {},
     "output_type": "execute_result"
    }
   ],
   "source": [
    "from sktime.registry import all_tags\n",
    "\n",
    "all_tags(\"forecaster\", as_dataframe=True)"
   ]
  },
  {
   "attachments": {},
   "cell_type": "markdown",
   "metadata": {},
   "source": [
    "this can be used to search, e.g., for forecasters that can produce prediction intervals"
   ]
  },
  {
   "cell_type": "code",
   "execution_count": 13,
   "metadata": {},
   "outputs": [
    {
     "data": {
      "text/html": [
       "<div>\n",
       "<style scoped>\n",
       "    .dataframe tbody tr th:only-of-type {\n",
       "        vertical-align: middle;\n",
       "    }\n",
       "\n",
       "    .dataframe tbody tr th {\n",
       "        vertical-align: top;\n",
       "    }\n",
       "\n",
       "    .dataframe thead th {\n",
       "        text-align: right;\n",
       "    }\n",
       "</style>\n",
       "<table border=\"1\" class=\"dataframe\">\n",
       "  <thead>\n",
       "    <tr style=\"text-align: right;\">\n",
       "      <th></th>\n",
       "      <th>name</th>\n",
       "      <th>estimator</th>\n",
       "    </tr>\n",
       "  </thead>\n",
       "  <tbody>\n",
       "    <tr>\n",
       "      <th>0</th>\n",
       "      <td>ARIMA</td>\n",
       "      <td>&lt;class 'sktime.forecasting.arima.ARIMA'&gt;</td>\n",
       "    </tr>\n",
       "    <tr>\n",
       "      <th>1</th>\n",
       "      <td>AutoARIMA</td>\n",
       "      <td>&lt;class 'sktime.forecasting.arima.AutoARIMA'&gt;</td>\n",
       "    </tr>\n",
       "    <tr>\n",
       "      <th>2</th>\n",
       "      <td>AutoETS</td>\n",
       "      <td>&lt;class 'sktime.forecasting.ets.AutoETS'&gt;</td>\n",
       "    </tr>\n",
       "    <tr>\n",
       "      <th>3</th>\n",
       "      <td>BATS</td>\n",
       "      <td>&lt;class 'sktime.forecasting.bats.BATS'&gt;</td>\n",
       "    </tr>\n",
       "    <tr>\n",
       "      <th>4</th>\n",
       "      <td>BaggingForecaster</td>\n",
       "      <td>&lt;class 'sktime.forecasting.compose._bagging.Ba...</td>\n",
       "    </tr>\n",
       "    <tr>\n",
       "      <th>5</th>\n",
       "      <td>ColumnEnsembleForecaster</td>\n",
       "      <td>&lt;class 'sktime.forecasting.compose._column_ens...</td>\n",
       "    </tr>\n",
       "    <tr>\n",
       "      <th>6</th>\n",
       "      <td>ConformalIntervals</td>\n",
       "      <td>&lt;class 'sktime.forecasting.conformal.Conformal...</td>\n",
       "    </tr>\n",
       "    <tr>\n",
       "      <th>7</th>\n",
       "      <td>DynamicFactor</td>\n",
       "      <td>&lt;class 'sktime.forecasting.dynamic_factor.Dyna...</td>\n",
       "    </tr>\n",
       "    <tr>\n",
       "      <th>8</th>\n",
       "      <td>ForecastX</td>\n",
       "      <td>&lt;class 'sktime.forecasting.compose._pipeline.F...</td>\n",
       "    </tr>\n",
       "    <tr>\n",
       "      <th>9</th>\n",
       "      <td>ForecastingGridSearchCV</td>\n",
       "      <td>&lt;class 'sktime.forecasting.model_selection._tu...</td>\n",
       "    </tr>\n",
       "    <tr>\n",
       "      <th>10</th>\n",
       "      <td>ForecastingPipeline</td>\n",
       "      <td>&lt;class 'sktime.forecasting.compose._pipeline.F...</td>\n",
       "    </tr>\n",
       "    <tr>\n",
       "      <th>11</th>\n",
       "      <td>ForecastingRandomizedSearchCV</td>\n",
       "      <td>&lt;class 'sktime.forecasting.model_selection._tu...</td>\n",
       "    </tr>\n",
       "    <tr>\n",
       "      <th>12</th>\n",
       "      <td>NaiveForecaster</td>\n",
       "      <td>&lt;class 'sktime.forecasting.naive.NaiveForecast...</td>\n",
       "    </tr>\n",
       "    <tr>\n",
       "      <th>13</th>\n",
       "      <td>NaiveVariance</td>\n",
       "      <td>&lt;class 'sktime.forecasting.naive.NaiveVariance'&gt;</td>\n",
       "    </tr>\n",
       "    <tr>\n",
       "      <th>14</th>\n",
       "      <td>Permute</td>\n",
       "      <td>&lt;class 'sktime.forecasting.compose._pipeline.P...</td>\n",
       "    </tr>\n",
       "    <tr>\n",
       "      <th>15</th>\n",
       "      <td>Prophet</td>\n",
       "      <td>&lt;class 'sktime.forecasting.fbprophet.Prophet'&gt;</td>\n",
       "    </tr>\n",
       "    <tr>\n",
       "      <th>16</th>\n",
       "      <td>SARIMAX</td>\n",
       "      <td>&lt;class 'sktime.forecasting.sarimax.SARIMAX'&gt;</td>\n",
       "    </tr>\n",
       "    <tr>\n",
       "      <th>17</th>\n",
       "      <td>SquaringResiduals</td>\n",
       "      <td>&lt;class 'sktime.forecasting.squaring_residuals....</td>\n",
       "    </tr>\n",
       "    <tr>\n",
       "      <th>18</th>\n",
       "      <td>StatsForecastAutoARIMA</td>\n",
       "      <td>&lt;class 'sktime.forecasting.statsforecast.Stats...</td>\n",
       "    </tr>\n",
       "    <tr>\n",
       "      <th>19</th>\n",
       "      <td>TBATS</td>\n",
       "      <td>&lt;class 'sktime.forecasting.tbats.TBATS'&gt;</td>\n",
       "    </tr>\n",
       "    <tr>\n",
       "      <th>20</th>\n",
       "      <td>ThetaForecaster</td>\n",
       "      <td>&lt;class 'sktime.forecasting.theta.ThetaForecast...</td>\n",
       "    </tr>\n",
       "    <tr>\n",
       "      <th>21</th>\n",
       "      <td>TransformedTargetForecaster</td>\n",
       "      <td>&lt;class 'sktime.forecasting.compose._pipeline.T...</td>\n",
       "    </tr>\n",
       "    <tr>\n",
       "      <th>22</th>\n",
       "      <td>UnobservedComponents</td>\n",
       "      <td>&lt;class 'sktime.forecasting.structural.Unobserv...</td>\n",
       "    </tr>\n",
       "    <tr>\n",
       "      <th>23</th>\n",
       "      <td>VAR</td>\n",
       "      <td>&lt;class 'sktime.forecasting.var.VAR'&gt;</td>\n",
       "    </tr>\n",
       "    <tr>\n",
       "      <th>24</th>\n",
       "      <td>VECM</td>\n",
       "      <td>&lt;class 'sktime.forecasting.vecm.VECM'&gt;</td>\n",
       "    </tr>\n",
       "  </tbody>\n",
       "</table>\n",
       "</div>"
      ],
      "text/plain": [
       "                             name  \\\n",
       "0                           ARIMA   \n",
       "1                       AutoARIMA   \n",
       "2                         AutoETS   \n",
       "3                            BATS   \n",
       "4               BaggingForecaster   \n",
       "5        ColumnEnsembleForecaster   \n",
       "6              ConformalIntervals   \n",
       "7                   DynamicFactor   \n",
       "8                       ForecastX   \n",
       "9         ForecastingGridSearchCV   \n",
       "10            ForecastingPipeline   \n",
       "11  ForecastingRandomizedSearchCV   \n",
       "12                NaiveForecaster   \n",
       "13                  NaiveVariance   \n",
       "14                        Permute   \n",
       "15                        Prophet   \n",
       "16                        SARIMAX   \n",
       "17              SquaringResiduals   \n",
       "18         StatsForecastAutoARIMA   \n",
       "19                          TBATS   \n",
       "20                ThetaForecaster   \n",
       "21    TransformedTargetForecaster   \n",
       "22           UnobservedComponents   \n",
       "23                            VAR   \n",
       "24                           VECM   \n",
       "\n",
       "                                            estimator  \n",
       "0            <class 'sktime.forecasting.arima.ARIMA'>  \n",
       "1        <class 'sktime.forecasting.arima.AutoARIMA'>  \n",
       "2            <class 'sktime.forecasting.ets.AutoETS'>  \n",
       "3              <class 'sktime.forecasting.bats.BATS'>  \n",
       "4   <class 'sktime.forecasting.compose._bagging.Ba...  \n",
       "5   <class 'sktime.forecasting.compose._column_ens...  \n",
       "6   <class 'sktime.forecasting.conformal.Conformal...  \n",
       "7   <class 'sktime.forecasting.dynamic_factor.Dyna...  \n",
       "8   <class 'sktime.forecasting.compose._pipeline.F...  \n",
       "9   <class 'sktime.forecasting.model_selection._tu...  \n",
       "10  <class 'sktime.forecasting.compose._pipeline.F...  \n",
       "11  <class 'sktime.forecasting.model_selection._tu...  \n",
       "12  <class 'sktime.forecasting.naive.NaiveForecast...  \n",
       "13   <class 'sktime.forecasting.naive.NaiveVariance'>  \n",
       "14  <class 'sktime.forecasting.compose._pipeline.P...  \n",
       "15     <class 'sktime.forecasting.fbprophet.Prophet'>  \n",
       "16       <class 'sktime.forecasting.sarimax.SARIMAX'>  \n",
       "17  <class 'sktime.forecasting.squaring_residuals....  \n",
       "18  <class 'sktime.forecasting.statsforecast.Stats...  \n",
       "19           <class 'sktime.forecasting.tbats.TBATS'>  \n",
       "20  <class 'sktime.forecasting.theta.ThetaForecast...  \n",
       "21  <class 'sktime.forecasting.compose._pipeline.T...  \n",
       "22  <class 'sktime.forecasting.structural.Unobserv...  \n",
       "23               <class 'sktime.forecasting.var.VAR'>  \n",
       "24             <class 'sktime.forecasting.vecm.VECM'>  "
      ]
     },
     "execution_count": 13,
     "metadata": {},
     "output_type": "execute_result"
    }
   ],
   "source": [
    "from sktime.registry import all_estimators\n",
    "\n",
    "all_estimators(\n",
    "    \"forecaster\", filter_tags={\"capability:pred_int\": True}, as_dataframe=True\n",
    ")"
   ]
  },
  {
   "attachments": {},
   "cell_type": "markdown",
   "metadata": {},
   "source": [
    "#### `skbase` estimator config system"
   ]
  },
  {
   "cell_type": "code",
   "execution_count": 14,
   "metadata": {},
   "outputs": [
    {
     "data": {
      "text/plain": [
       "{'display': 'diagram', 'print_changed_only': True}"
      ]
     },
     "execution_count": 14,
     "metadata": {},
     "output_type": "execute_result"
    }
   ],
   "source": [
    "fcst.get_config()"
   ]
  },
  {
   "attachments": {},
   "cell_type": "markdown",
   "metadata": {},
   "source": [
    "using config to change display mode:"
   ]
  },
  {
   "cell_type": "code",
   "execution_count": 15,
   "metadata": {},
   "outputs": [
    {
     "data": {
      "text/html": [
       "<style>#sk-248a59a2-d12c-4cf4-ae56-4615b6b8e72b {color: black;background-color: white;}#sk-248a59a2-d12c-4cf4-ae56-4615b6b8e72b pre{padding: 0;}#sk-248a59a2-d12c-4cf4-ae56-4615b6b8e72b div.sk-toggleable {background-color: white;}#sk-248a59a2-d12c-4cf4-ae56-4615b6b8e72b label.sk-toggleable__label {cursor: pointer;display: block;width: 100%;margin-bottom: 0;padding: 0.3em;box-sizing: border-box;text-align: center;}#sk-248a59a2-d12c-4cf4-ae56-4615b6b8e72b label.sk-toggleable__label-arrow:before {content: \"▸\";float: left;margin-right: 0.25em;color: #696969;}#sk-248a59a2-d12c-4cf4-ae56-4615b6b8e72b label.sk-toggleable__label-arrow:hover:before {color: black;}#sk-248a59a2-d12c-4cf4-ae56-4615b6b8e72b div.sk-estimator:hover label.sk-toggleable__label-arrow:before {color: black;}#sk-248a59a2-d12c-4cf4-ae56-4615b6b8e72b div.sk-toggleable__content {max-height: 0;max-width: 0;overflow: hidden;text-align: left;background-color: #f0f8ff;}#sk-248a59a2-d12c-4cf4-ae56-4615b6b8e72b div.sk-toggleable__content pre {margin: 0.2em;color: black;border-radius: 0.25em;background-color: #f0f8ff;}#sk-248a59a2-d12c-4cf4-ae56-4615b6b8e72b input.sk-toggleable__control:checked~div.sk-toggleable__content {max-height: 200px;max-width: 100%;overflow: auto;}#sk-248a59a2-d12c-4cf4-ae56-4615b6b8e72b input.sk-toggleable__control:checked~label.sk-toggleable__label-arrow:before {content: \"▾\";}#sk-248a59a2-d12c-4cf4-ae56-4615b6b8e72b div.sk-estimator input.sk-toggleable__control:checked~label.sk-toggleable__label {background-color: #d4ebff;}#sk-248a59a2-d12c-4cf4-ae56-4615b6b8e72b div.sk-label input.sk-toggleable__control:checked~label.sk-toggleable__label {background-color: #d4ebff;}#sk-248a59a2-d12c-4cf4-ae56-4615b6b8e72b input.sk-hidden--visually {border: 0;clip: rect(1px 1px 1px 1px);clip: rect(1px, 1px, 1px, 1px);height: 1px;margin: -1px;overflow: hidden;padding: 0;position: absolute;width: 1px;}#sk-248a59a2-d12c-4cf4-ae56-4615b6b8e72b div.sk-estimator {font-family: monospace;background-color: #f0f8ff;border: 1px dotted black;border-radius: 0.25em;box-sizing: border-box;margin-bottom: 0.5em;}#sk-248a59a2-d12c-4cf4-ae56-4615b6b8e72b div.sk-estimator:hover {background-color: #d4ebff;}#sk-248a59a2-d12c-4cf4-ae56-4615b6b8e72b div.sk-parallel-item::after {content: \"\";width: 100%;border-bottom: 1px solid gray;flex-grow: 1;}#sk-248a59a2-d12c-4cf4-ae56-4615b6b8e72b div.sk-label:hover label.sk-toggleable__label {background-color: #d4ebff;}#sk-248a59a2-d12c-4cf4-ae56-4615b6b8e72b div.sk-serial::before {content: \"\";position: absolute;border-left: 1px solid gray;box-sizing: border-box;top: 2em;bottom: 0;left: 50%;}#sk-248a59a2-d12c-4cf4-ae56-4615b6b8e72b div.sk-serial {display: flex;flex-direction: column;align-items: center;background-color: white;padding-right: 0.2em;padding-left: 0.2em;}#sk-248a59a2-d12c-4cf4-ae56-4615b6b8e72b div.sk-item {z-index: 1;}#sk-248a59a2-d12c-4cf4-ae56-4615b6b8e72b div.sk-parallel {display: flex;align-items: stretch;justify-content: center;background-color: white;}#sk-248a59a2-d12c-4cf4-ae56-4615b6b8e72b div.sk-parallel::before {content: \"\";position: absolute;border-left: 1px solid gray;box-sizing: border-box;top: 2em;bottom: 0;left: 50%;}#sk-248a59a2-d12c-4cf4-ae56-4615b6b8e72b div.sk-parallel-item {display: flex;flex-direction: column;position: relative;background-color: white;}#sk-248a59a2-d12c-4cf4-ae56-4615b6b8e72b div.sk-parallel-item:first-child::after {align-self: flex-end;width: 50%;}#sk-248a59a2-d12c-4cf4-ae56-4615b6b8e72b div.sk-parallel-item:last-child::after {align-self: flex-start;width: 50%;}#sk-248a59a2-d12c-4cf4-ae56-4615b6b8e72b div.sk-parallel-item:only-child::after {width: 0;}#sk-248a59a2-d12c-4cf4-ae56-4615b6b8e72b div.sk-dashed-wrapped {border: 1px dashed gray;margin: 0 0.4em 0.5em 0.4em;box-sizing: border-box;padding-bottom: 0.4em;background-color: white;position: relative;}#sk-248a59a2-d12c-4cf4-ae56-4615b6b8e72b div.sk-label label {font-family: monospace;font-weight: bold;background-color: white;display: inline-block;line-height: 1.2em;}#sk-248a59a2-d12c-4cf4-ae56-4615b6b8e72b div.sk-label-container {position: relative;z-index: 2;text-align: center;}#sk-248a59a2-d12c-4cf4-ae56-4615b6b8e72b div.sk-container {/* jupyter's `normalize.less` sets `[hidden] { display: none; }` but bootstrap.min.css set `[hidden] { display: none !important; }` so we also need the `!important` here to be able to override the default hidden behavior on the sphinx rendered scikit-learn.org. See: https://github.com/scikit-learn/scikit-learn/issues/21755 */display: inline-block !important;position: relative;}#sk-248a59a2-d12c-4cf4-ae56-4615b6b8e72b div.sk-text-repr-fallback {display: none;}</style><div id='sk-248a59a2-d12c-4cf4-ae56-4615b6b8e72b' class=\"sk-top-container\"><div class=\"sk-text-repr-fallback\"><pre>ARIMA()</pre><b>Please rerun this cell to show the HTML repr or trust the notebook.</b></div><div class=\"sk-container\" hidden><div class='sk-item'><div class=\"sk-estimator sk-toggleable\"><input class=\"sk-toggleable__control sk-hidden--visually\" id=UUID('0b776dad-d308-408a-9db0-a9c774bf7360') type=\"checkbox\" checked><label for=UUID('0b776dad-d308-408a-9db0-a9c774bf7360') class='sk-toggleable__label sk-toggleable__label-arrow'>ARIMA</label><div class=\"sk-toggleable__content\"><pre>ARIMA()</pre></div></div></div></div></div>"
      ],
      "text/plain": [
       "ARIMA()"
      ]
     },
     "execution_count": 15,
     "metadata": {},
     "output_type": "execute_result"
    }
   ],
   "source": [
    "fcst"
   ]
  },
  {
   "cell_type": "code",
   "execution_count": 16,
   "metadata": {},
   "outputs": [
    {
     "data": {
      "text/plain": [
       "ARIMA()"
      ]
     },
     "execution_count": 16,
     "metadata": {},
     "output_type": "execute_result"
    }
   ],
   "source": [
    "fcst.set_config(display=\"text\")\n",
    "fcst"
   ]
  },
  {
   "attachments": {},
   "cell_type": "markdown",
   "metadata": {},
   "source": [
    "### 1.4.2 `get_fitted_params` - unified access to fitted parameters\n",
    "\n",
    "every fittable `skbase` / `sktime` estimator has a unified `get_fitted_params` interface point\n",
    "\n",
    "this retrieves fitted parameters as a `str` keyed `dict`,\n",
    "\n",
    "in complete analogy to `sklearn`'s `get_params`\n",
    "\n",
    "the default retrieves attributes `[attrname]_` at the key `\"[attrname]\"`"
   ]
  },
  {
   "cell_type": "code",
   "execution_count": 17,
   "metadata": {},
   "outputs": [
    {
     "data": {
      "text/plain": [
       "{'intercept': 9.851123166191401,\n",
       " 'ar.L1': 0.9645688130558445,\n",
       " 'sigma2': 1118.471558740029,\n",
       " 'aic': 1428.179380503289,\n",
       " 'aicc': 1428.3508090747175,\n",
       " 'bic': 1437.0888204020168,\n",
       " 'hqic': 1431.7996741468405}"
      ]
     },
     "execution_count": 17,
     "metadata": {},
     "output_type": "execute_result"
    }
   ],
   "source": [
    "fcst.get_fitted_params()"
   ]
  },
  {
   "attachments": {},
   "cell_type": "markdown",
   "metadata": {},
   "source": [
    "fitted params also works with nested composites, e.g., pipelines\n",
    "\n",
    "behaviour is like `get_params` from `sklearn`"
   ]
  },
  {
   "cell_type": "code",
   "execution_count": 18,
   "metadata": {},
   "outputs": [
    {
     "name": "stderr",
     "output_type": "stream",
     "text": [
      "C:\\Workspace\\sktime\\sktime\\forecasting\\compose\\_pipeline.py:91: UserWarning: in TransformedTargetForecaster, found steps of length 1, this will result in the same behaviour as not wrapping the single step in a pipeline. Consider not wrapping steps in TransformedTargetForecaster as it is redundant.\n",
      "  warn(msg)\n"
     ]
    },
    {
     "data": {
      "text/plain": [
       "1961-01    434.548331\n",
       "1961-02    421.796437\n",
       "1961-03    454.441206\n",
       "Freq: M, Name: Number of airline passengers, dtype: float64"
      ]
     },
     "execution_count": 18,
     "metadata": {},
     "output_type": "execute_result"
    }
   ],
   "source": [
    "from sktime.datasets import load_airline\n",
    "from sktime.forecasting.arima import ARIMA\n",
    "from sktime.transformations.series.detrend import Deseasonalizer\n",
    "from sktime.pipeline import make_pipeline\n",
    "\n",
    "y = load_airline()\n",
    "\n",
    "fcst = make_pipeline(Deseasonalizer(sp=12), ARIMA())\n",
    "\n",
    "fcst.fit(y, fh=[1, 2, 3])\n",
    "\n",
    "fcst.predict()"
   ]
  },
  {
   "cell_type": "code",
   "execution_count": 19,
   "metadata": {},
   "outputs": [
    {
     "data": {
      "text/plain": [
       "{'forecaster': ARIMA(),\n",
       " 'steps': [('Deseasonalizer', Deseasonalizer(sp=12)), ('ARIMA', ARIMA())],\n",
       " 'transformers_post': [],\n",
       " 'transformers_pre': [('Deseasonalizer', Deseasonalizer(sp=12))],\n",
       " 'Deseasonalizer': Deseasonalizer(sp=12),\n",
       " 'ARIMA': ARIMA(),\n",
       " 'Deseasonalizer__seasonal': Period\n",
       " 1949-01   -24.748737\n",
       " 1949-02   -36.188131\n",
       " 1949-03    -2.241162\n",
       " 1949-04    -8.036616\n",
       " 1949-05    -4.506313\n",
       " 1949-06    35.402778\n",
       " 1949-07    63.830808\n",
       " 1949-08    62.823232\n",
       " 1949-09    16.520202\n",
       " 1949-10   -20.642677\n",
       " 1949-11   -53.593434\n",
       " 1949-12   -28.619949\n",
       " Freq: M, Name: seasonal, dtype: float64,\n",
       " 'ARIMA__intercept': 2.291647699095138,\n",
       " 'ARIMA__ar.L1': 0.992152904734254,\n",
       " 'ARIMA__sigma2': 299.71685461374733,\n",
       " 'ARIMA__aic': 1240.0248111025328,\n",
       " 'ARIMA__aicc': 1240.1962396739614,\n",
       " 'ARIMA__bic': 1248.9342510012607,\n",
       " 'ARIMA__hqic': 1243.6451047460844}"
      ]
     },
     "execution_count": 19,
     "metadata": {},
     "output_type": "execute_result"
    }
   ],
   "source": [
    "fcst.get_fitted_params()"
   ]
  },
  {
   "attachments": {},
   "cell_type": "markdown",
   "metadata": {},
   "source": [
    "### 1.4.4 state handling via `clone`, `reset`\n",
    "\n",
    "`skbase` / `sktime` estimators have `clone` and `reset` interface points:\n",
    "\n",
    "* `clone` creates a blank, newly constructed copy of any object\n",
    "* `reset` resets object to state after construction\n",
    "\n",
    "both return an object with the same content!\n",
    "\n",
    "* `clone` is a copy, does not mutate\n",
    "* `reset` is identical, and mutates\n",
    "\n",
    "The equality dunder in `skbase` / `sktime` compares the *specification* for equality (not python object identity)."
   ]
  },
  {
   "cell_type": "code",
   "execution_count": 20,
   "metadata": {},
   "outputs": [
    {
     "data": {
      "text/plain": [
       "True"
      ]
     },
     "execution_count": 20,
     "metadata": {},
     "output_type": "execute_result"
    }
   ],
   "source": [
    "fcst = ARIMA(order=(1, 1, 0))\n",
    "fcst.fit(y, fh=[1, 2, 3])\n",
    "fcst.is_fitted"
   ]
  },
  {
   "attachments": {},
   "cell_type": "markdown",
   "metadata": {},
   "source": [
    "#### `clone` - create true copy of the specification"
   ]
  },
  {
   "cell_type": "code",
   "execution_count": 21,
   "metadata": {},
   "outputs": [
    {
     "data": {
      "text/plain": [
       "False"
      ]
     },
     "execution_count": 21,
     "metadata": {},
     "output_type": "execute_result"
    }
   ],
   "source": [
    "fcst_clone = fcst.clone()\n",
    "fcst_clone.is_fitted"
   ]
  },
  {
   "cell_type": "code",
   "execution_count": 22,
   "metadata": {},
   "outputs": [
    {
     "data": {
      "text/plain": [
       "False"
      ]
     },
     "execution_count": 22,
     "metadata": {},
     "output_type": "execute_result"
    }
   ],
   "source": [
    "fcst_clone is fcst"
   ]
  },
  {
   "cell_type": "code",
   "execution_count": 23,
   "metadata": {},
   "outputs": [
    {
     "data": {
      "text/plain": [
       "True"
      ]
     },
     "execution_count": 23,
     "metadata": {},
     "output_type": "execute_result"
    }
   ],
   "source": [
    "fcst_clone == fcst"
   ]
  },
  {
   "attachments": {},
   "cell_type": "markdown",
   "metadata": {},
   "source": [
    "why is `clone` useful, as a method?\n",
    "\n",
    "* allows to handle case specific logic in estimators and intermediate base classes\n",
    "* no extensive coupling with a \"loose method\" `clone`\n",
    "* design consistent with `reset`"
   ]
  },
  {
   "attachments": {},
   "cell_type": "markdown",
   "metadata": {},
   "source": [
    "#### `reset` - reset an estimator as if freshly constructed"
   ]
  },
  {
   "cell_type": "code",
   "execution_count": 24,
   "metadata": {},
   "outputs": [
    {
     "data": {
      "text/plain": [
       "False"
      ]
     },
     "execution_count": 24,
     "metadata": {},
     "output_type": "execute_result"
    }
   ],
   "source": [
    "fcst_reset = fcst.reset()\n",
    "fcst_reset.is_fitted"
   ]
  },
  {
   "cell_type": "code",
   "execution_count": 25,
   "metadata": {},
   "outputs": [
    {
     "data": {
      "text/plain": [
       "True"
      ]
     },
     "execution_count": 25,
     "metadata": {},
     "output_type": "execute_result"
    }
   ],
   "source": [
    "fcst_reset is fcst"
   ]
  },
  {
   "cell_type": "code",
   "execution_count": 26,
   "metadata": {},
   "outputs": [
    {
     "data": {
      "text/plain": [
       "True"
      ]
     },
     "execution_count": 26,
     "metadata": {},
     "output_type": "execute_result"
    }
   ],
   "source": [
    "# this is of course also equal\n",
    "fcst_reset == fcst"
   ]
  },
  {
   "attachments": {},
   "cell_type": "markdown",
   "metadata": {},
   "source": [
    "why is `reset` useful?\n",
    "\n",
    "* internally, it actually runs `__init__`!\n",
    "* it is called in `set_params`\n",
    "* it can be called at the start of `fit` (and is in `sktime`)\n",
    "\n",
    "so, preparation and parameter checking logic can happen in `__init__` (unlike in `sklearn`)"
   ]
  },
  {
   "attachments": {},
   "cell_type": "markdown",
   "metadata": {},
   "source": [
    "### 1.4.5 integrated test case generation via `get_test_params`, `create_test_instances_and_names`\n",
    "\n",
    "`skbase` / `sktime` estimators have test instance generation points:\n",
    "\n",
    "* `get_test_params` which returns a list of param dict that can be passed to constructor or `set_params`\n",
    "* `create_test_instances_and_names` which returns the instances as name-esetimator tuples\n",
    "\n",
    "This can be used with the `skbase` test framework for systematic testing in type specific scenarios."
   ]
  },
  {
   "attachments": {},
   "cell_type": "markdown",
   "metadata": {},
   "source": [
    "### 1.5 `sktime` evolves the `sklearn` extension interface for power users!\n",
    "\n",
    "`sklearn` has pioneered the easily extensible estimator interface:\n",
    "\n",
    "it is easy to write your own estimators and maintain them in third party code bases!\n",
    "\n",
    "`sktime` expands on this by introducing the **template pattern** on the extender interface side:\n",
    "\n",
    "* outer/inner methods, e.g., `fit`/`_fit`, with opportunity for boilerplate on `fit`, e.g., input checks, estimator `reset`\n",
    "* tags that control boilerplate and functionality without need to write it, e.g., preferred data type, check logic\n",
    "\n",
    "`skbase` does not *require* but *facilitates* these design patterns (combined strategy & template), more in notebook 3."
   ]
  },
  {
   "attachments": {},
   "cell_type": "markdown",
   "metadata": {},
   "source": [
    "### 1.6 Summary/What is next!\n",
    "\n",
    "- `sklearn` has a seminal interface design: unified interface (strategy pattern), modular, composition stable, easy specification language\n",
    "- `sktime` evolves and consolidates the `sklearn` API: parameter, tag, config, state handling, advanced extender interface support (template pattern)\n",
    "- `skbase` is a convenient developer workbench to construct packages that are conformant and compatible with the above!\n",
    "- next: core usage patterns of `skbase` & playing with `skbase` `BaseObject`, `BaseEstimator`\n",
    "- then: recipes for building packages with `skbase`, with examples"
   ]
  },
  {
   "attachments": {},
   "cell_type": "markdown",
   "metadata": {},
   "source": [
    "---\n",
    "### Credits: notebook 1 - Sktime intro, toolbox features, Forecasting\n",
    "\n",
    "notebook creation: fkiraly\n",
    "\n",
    "some vignettes based on existing `sktime` tutorials, credit: fkiraly, miraep8, mloning and danbartl\n",
    "\n",
    "slides (png/jpg): from fkiraly's postgraduate course at UCL, Principles and Patterns in Data Scientific Software Engineering\n",
    "\n",
    "General credit also to `sklearn` and `sktime` contributors"
   ]
  }
 ],
 "metadata": {
  "kernelspec": {
   "display_name": "sktime-skbase-310",
   "language": "python",
   "name": "python3"
  },
  "language_info": {
   "codemirror_mode": {
    "name": "ipython",
    "version": 3
   },
   "file_extension": ".py",
   "mimetype": "text/x-python",
   "name": "python",
   "nbconvert_exporter": "python",
   "pygments_lexer": "ipython3",
   "version": "3.10.8"
  },
  "orig_nbformat": 4,
  "vscode": {
   "interpreter": {
    "hash": "1ab6896984b6aa500b8009633c692bca601cfe3e50e0ab79a8a59539ceef9c7a"
   }
  }
 },
 "nbformat": 4,
 "nbformat_minor": 2
}
