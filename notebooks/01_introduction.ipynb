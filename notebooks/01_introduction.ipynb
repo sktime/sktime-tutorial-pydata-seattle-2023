{
 "cells": [
  {
   "cell_type": "markdown",
   "metadata": {},
   "source": [
    "![](../images/team.jpg)"
   ]
  },
  {
   "cell_type": "markdown",
   "metadata": {},
   "source": [
    "![](../images/talk_agenda-01.png)"
   ]
  },
  {
   "attachments": {},
   "cell_type": "markdown",
   "metadata": {},
   "source": [
    "# Introduction to `skbase`"
   ]
  },
  {
   "attachments": {},
   "cell_type": "markdown",
   "metadata": {},
   "source": [
    "Contents of this tutorial:\n",
    "\n",
    "1. introduction to the unified `sklearn` / `sktime`-like interface supported by `skbase`\n",
    "2. `skbase` usage patterns\n",
    "3. package building with `skbase`"
   ]
  },
  {
   "attachments": {},
   "cell_type": "markdown",
   "metadata": {},
   "source": [
    "## 1 - Introducing the ``sklearn`` / `sktime` interface\n",
    "\n",
    "- it is recommended you have worked through either an ``sklearn`` or ``sktime`` tutorial\n",
    "- for ``sktime``, check out a previous [pydata tutorial](https://www.youtube.com/watch?v=ODspi8-uWgo) of ours, and of course visit [our website](https://www.sktime.net/en/latest/index.html)! \n",
    "- ``skbase`` is currently maintained by the ``sktime`` project.\n",
    "  - We *love* new contributors. Even if you are new to open source software developement!\n",
    "  - Check out the ``sktime`` [new contributors guide](https://www.sktime.net/en/latest/get_involved/contributing.html).\n"
   ]
  },
  {
   "attachments": {},
   "cell_type": "markdown",
   "metadata": {},
   "source": [
    "### 1.1 ``skbase``, ``sklearn``, ``sktime`` in a nutshell"
   ]
  },
  {
   "attachments": {},
   "cell_type": "markdown",
   "metadata": {},
   "source": [
    "- `skbase` is a workbench package for developers for creation of \"`sklearn`-likes\"\n",
    "  - reusable base class factory with `get_params`, config, nested composition interface, etc\n",
    "  - templated base classes compatible with `sklearn` / `sktime`\n",
    "  - lookup and search utilities\n",
    "  - factory templates for test frameworks "
   ]
  },
  {
   "attachments": {},
   "cell_type": "markdown",
   "metadata": {},
   "source": [
    "- `sklearn` / `sktime` interface:\n",
    "  - unified interface for objects/estimators\n",
    "  - modular design, strategy pattern\n",
    "  - composable, composites are interface homogenous\n",
    "  - simple specification language and parameter interface\n",
    "  - visually informative pretty printing"
   ]
  },
  {
   "attachments": {},
   "cell_type": "markdown",
   "metadata": {},
   "source": [
    "- `sktime` base class design is an evolution on `sklearn`:\n",
    "  - separation of `BaseObject` (non-fittable) and `BaseEstimator` (fittable)\n",
    "  - `get_fitted_params` interface for fittable objects, similar to `get_params`\n",
    "  - unified tag and config manager, dynamic tags\n",
    "  - improved state handling - `clone`, `reset`\n",
    "  - test case generation, e.g., `create_test_instances_and_names`\n",
    "  - test framework with scenario and conditional fixture handling"
   ]
  },
  {
   "attachments": {},
   "cell_type": "markdown",
   "metadata": {},
   "source": [
    "### 1.2 sklearn unified interface - the strategy pattern\n",
    "\n",
    "`sklearn` provides a unified interface to multiple learning tasks including classification, regression.\n",
    "\n",
    "any (supervised) estimator has the following interface points\n",
    "\n",
    "1. **Instantiate** your model of choice, with parameter settings\n",
    "2. **Fit** the instance of your model\n",
    "3. Use that fitted instance to **predict** new data!\n",
    "\n",
    "![](./img/estimator-conceptual-model.jpg)"
   ]
  },
  {
   "cell_type": "code",
   "execution_count": null,
   "metadata": {},
   "outputs": [],
   "source": [
    "# get data to use the model on\n",
    "from sklearn.datasets import load_iris\n",
    "from sklearn.model_selection import train_test_split\n",
    "\n",
    "X, y = load_iris(return_X_y=True, as_frame=True)\n",
    "X_train, X_test, y_train, y_test = train_test_split(X, y)"
   ]
  },
  {
   "cell_type": "code",
   "execution_count": null,
   "metadata": {},
   "outputs": [],
   "source": [
    "from sklearn.svm import SVC\n",
    "\n",
    "# 1. Instantiate SVC with parameters gamma, C\n",
    "clf = SVC(gamma=0.001, C=100.)\n",
    "\n",
    "# 2. Fit clf to training data\n",
    "clf.fit(X_train, y_train)\n",
    "\n",
    "# 3. Predict labels on test data\n",
    "y_test_pred = clf.predict(X_test)\n",
    "\n",
    "y_test_pred"
   ]
  },
  {
   "attachments": {},
   "cell_type": "markdown",
   "metadata": {},
   "source": [
    "IMPORTANT: to use another classifier, only the specification line, part 1 changes!\n",
    "\n",
    "`SVC` could have been `RandomForest`, steps 2 and 3 remain the same - unified interface:"
   ]
  },
  {
   "cell_type": "code",
   "execution_count": null,
   "metadata": {},
   "outputs": [],
   "source": [
    "from sklearn.ensemble import RandomForestClassifier\n",
    "\n",
    "# 1. Instantiate SVC with parameters gamma, C\n",
    "clf = RandomForestClassifier(n_estimators=100)\n",
    "\n",
    "# 2. Fit clf to training data\n",
    "clf.fit(X_train, y_train)\n",
    "\n",
    "# 3. Predict labels on test data\n",
    "y_test_pred = clf.predict(X_test)\n",
    "\n",
    "y_test_pred"
   ]
  },
  {
   "attachments": {},
   "cell_type": "markdown",
   "metadata": {},
   "source": [
    "in object oriented design terminology, this is called **\"strategy pattern\"**\n",
    "\n",
    "= different estimators can be switched out without change to the interface\n",
    "\n",
    "= like a power plug adapter, it's plug&play if it conforms with the interface\n",
    "\n",
    "Pictorial summary:\n",
    "![](./img/sklearn-unified-interface.jpg)"
   ]
  },
  {
   "attachments": {},
   "cell_type": "markdown",
   "metadata": {},
   "source": [
    "parameters can be accessed and set via `get_params`, `set_params`:"
   ]
  },
  {
   "cell_type": "code",
   "execution_count": null,
   "metadata": {},
   "outputs": [],
   "source": [
    "clf.get_params()"
   ]
  },
  {
   "cell_type": "code",
   "execution_count": null,
   "metadata": {},
   "outputs": [],
   "source": [
    "clf.set_params(n_estimators=42)\n",
    "clf"
   ]
  },
  {
   "attachments": {},
   "cell_type": "markdown",
   "metadata": {},
   "source": [
    "fitted parameters end in an underscore:"
   ]
  },
  {
   "cell_type": "code",
   "execution_count": null,
   "metadata": {},
   "outputs": [],
   "source": [
    "from sklearn.linear_model import LogisticRegression\n",
    "clf = LogisticRegression()\n",
    "clf.fit(X_train, y_train)\n",
    "clf.coef_"
   ]
  },
  {
   "attachments": {},
   "cell_type": "markdown",
   "metadata": {},
   "source": [
    "### 1.3 sklearn - composition patterns\n",
    "\n",
    "`sklearn`'s unified interface extends to composition such as:\n",
    "\n",
    "* tuning such as grid search\n",
    "* ensembling such as bagging\n",
    "* pipelining such as chaining pre-processing with a classifier\n",
    "\n",
    "in that the pipeline also adheres to the unified interface!\n",
    "\n",
    "This makes `sklearn` particularly powerful as a specification language,\\\n",
    "as compositors can be combined in any number of ways.\n",
    "\n",
    "example compositions - tuning or ensembling:\n",
    "\n",
    "![](./img/sklearn-composition-interface.png)"
   ]
  },
  {
   "attachments": {},
   "cell_type": "markdown",
   "metadata": {},
   "source": [
    "example - classification pipeline. Has the same interface!"
   ]
  },
  {
   "cell_type": "code",
   "execution_count": null,
   "metadata": {},
   "outputs": [],
   "source": [
    "from sklearn.pipeline import make_pipeline\n",
    "from sklearn.preprocessing import StandardScaler\n",
    "from sklearn.svm import SVC\n",
    "\n",
    "# 1. Instantiate the estimator\n",
    "pipe = make_pipeline(StandardScaler(), SVC(gamma=0.01))\n",
    "\n",
    "# 2. Fit clf to training data\n",
    "pipe.fit(X_train, y_train)\n",
    "\n",
    "# 3. Predict labels on test data\n",
    "y_test_pred = pipe.predict(X_test)\n",
    "\n",
    "y_test_pred\n"
   ]
  },
  {
   "cell_type": "code",
   "execution_count": null,
   "metadata": {},
   "outputs": [],
   "source": [
    "# nice pretty printing\n",
    "# that allows to read the specificiation easily\n",
    "pipe"
   ]
  },
  {
   "attachments": {},
   "cell_type": "markdown",
   "metadata": {},
   "source": [
    "parameters of the composite are addressed by\n",
    "\n",
    "`[componentname]__[paramname]` (separated by double-underscore)\n",
    "\n",
    "this can be nested indefinitely, in multiply nested compositions!"
   ]
  },
  {
   "cell_type": "code",
   "execution_count": null,
   "metadata": {},
   "outputs": [],
   "source": [
    "pipe.get_params()"
   ]
  },
  {
   "attachments": {},
   "cell_type": "markdown",
   "metadata": {},
   "source": [
    "### 1.4 `skbase` / `sktime` is an evolution upon the `sklearn` base interface\n",
    "\n",
    "`sktime` - and `skbase` which follows `sktime` - evolve the `sklearn` base interface in a number of ways, including:\n",
    "\n",
    "- `get_fitted_params` interface for fittable objects, similar to `get_params`\n",
    "- unified tag and config manager, dynamic tags\n",
    "- improved state handling - `clone`, `reset`"
   ]
  },
  {
   "attachments": {},
   "cell_type": "markdown",
   "metadata": {},
   "source": [
    "### 1.5 `skbase` / `sktime` evolves the `sklearn` extension interface for power users!\n",
    "\n",
    "`sklearn` has pioneered the easily extensible estimator interface:\n",
    "\n",
    "it is easy to write your own estimators!"
   ]
  },
  {
   "attachments": {},
   "cell_type": "markdown",
   "metadata": {},
   "source": [
    "### 1.8 Summary/What is next!\n",
    "\n",
    "- `sktime` combines a library of dedicated time-series models with the tools that makes it easy to quickly and easily deploy them. \n",
    "- Our design makes it easy for you to try out different model parameters, and/or different models all together. \n",
    "- Next we will hear about how we can make these forecasts even better by transforming our data!"
   ]
  },
  {
   "attachments": {},
   "cell_type": "markdown",
   "metadata": {},
   "source": [
    "---\n",
    "### Credits: notebook 1 - Sktime intro, toolbox features, Forecasting\n",
    "\n",
    "notebook creation: fkiraly\n",
    "\n",
    "some vignettes based on existing `sktime` tutorials, credit: fkiraly, miraep8, mloning and danbartl\n",
    "\n",
    "slides: from fkiraly's postgraduate course at UCL, Principles and Patterns in Data Scientific Software Engineering\n",
    "\n",
    "General credit also to `sklearn` and `sktime` contributors"
   ]
  }
 ],
 "metadata": {
  "kernelspec": {
   "display_name": "sktime-dl",
   "language": "python",
   "name": "python3"
  },
  "language_info": {
   "codemirror_mode": {
    "name": "ipython",
    "version": 3
   },
   "file_extension": ".py",
   "mimetype": "text/x-python",
   "name": "python",
   "nbconvert_exporter": "python",
   "pygments_lexer": "ipython3",
   "version": "3.8.12"
  },
  "orig_nbformat": 4,
  "vscode": {
   "interpreter": {
    "hash": "9d800c14abb2bd109b7479fe8830174a66f0a4a77373f77c2c7334932e1a4922"
   }
  }
 },
 "nbformat": 4,
 "nbformat_minor": 2
}
