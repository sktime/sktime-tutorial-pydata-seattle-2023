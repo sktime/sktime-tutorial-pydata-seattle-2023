{
 "cells": [
  {
   "cell_type": "markdown",
   "id": "f59fd904",
   "metadata": {},
   "source": [
    "## skbase - a workbench for creating scikit-learn like parametric objects and libraries\n",
    "\n",
    "Tutorial at PyData Seattle 2023\n",
    "\n",
    "skbase: https://github.com/sktime/skbase\n",
    "\n",
    "API Reference: https://skbase.readthedocs.io/en/latest/api_reference.html"
   ]
  },
  {
   "cell_type": "markdown",
   "id": "41df5b78",
   "metadata": {},
   "source": [
    "### Presentation Goals:\n",
    "\n",
    " - Establish the need for `skbase` in the broader ecosystem of ML tools\n",
    " - Go over the main features of `skbase`, and demonstrate their essential use cases\n",
    " - Quickly prototype how one could use the skbase interface to **quickly** and **effortlessly** their own ML toolbox\n",
    " \n",
    "Let us begin!"
   ]
  },
  {
   "cell_type": "markdown",
   "id": "615ad784",
   "metadata": {},
   "source": [
    "**Problem Statement:** The implementation of Data Science and ML techniques is almost exclusively done through libraries, and it's critically important that these ML toolboxes provide seamless, consistent API's that are user-friendly.\n",
    "\n",
    "Developing these tools is **hard**, and there's often a shortage of people who are capable of making them.  Is it possible to streamline this process?  Can we build a toolbox that allows for an easy(ish) way to design ML tools that are agnostic to the underlying algorithms that comprise them?\n",
    "\n",
    "`SKbase` is an attempt to forge new ground on a unified way to build ML frameworks."
   ]
  },
  {
   "cell_type": "markdown",
   "id": "e7152f80",
   "metadata": {},
   "source": [
    "`SKBase` starts with the foundation of scikit-learn, which is already familiar to most ML practitioners who use python.  It provides many great benefits:\n",
    "\n",
    " - Simplified set of methods to implement algorithms:  `fit`, `score`, `predict`\n",
    " - Coherent way to set and view model parameters\n",
    " - Well designed base classes that are easily extended\n",
    " \n",
    "However, it also looks to build on this foundation and make it even more builder-friendly:\n",
    "\n",
    " - Add a tag system that makes it easy to taxonomize different aspects of the library\n",
    " - Additional functionality for testing to speed up develpment time\n",
    " \n",
    "The rest of this notebook is designed to demonstrate the most essential parts of `SKBase` to understnad its core functionality."
   ]
  },
  {
   "cell_type": "markdown",
   "id": "74def5e3",
   "metadata": {},
   "source": [
    "### Base Objects & Core Functionality\n",
    "\n",
    "Let's start with the most low-level object inside skbase:  `BaseObject`.  \n",
    "\n",
    "We'll use it to demonstrate some universal functionality\n",
    "\n",
    " - setting object parameters\n",
    " - setting object configurations\n",
    " - retrieving tags associated with a particular object"
   ]
  },
  {
   "cell_type": "code",
   "execution_count": 1,
   "id": "6ff850e5",
   "metadata": {},
   "outputs": [
    {
     "name": "stdout",
     "output_type": "stream",
     "text": [
      "Current version of skbase is: 0.4.0\n"
     ]
    }
   ],
   "source": [
    "from skbase import __version__\n",
    "print(f\"Current version of skbase is: {__version__}\")"
   ]
  },
  {
   "cell_type": "code",
   "execution_count": 2,
   "id": "440ddc60",
   "metadata": {},
   "outputs": [
    {
     "data": {
      "text/plain": [
       "array([1, 2, 3, 5, 6])"
      ]
     },
     "execution_count": 2,
     "metadata": {},
     "output_type": "execute_result"
    }
   ],
   "source": [
    "# import the base object\n",
    "import numpy as np\n",
    "from skbase.base import BaseObject\n",
    "\n",
    "# sample class that implements a bubble sort algorithm\n",
    "class BaseSort(BaseObject):\n",
    "    \"\"\"Abstract Base Class to Use for More Specialized Approaches\"\"\"\n",
    "        \n",
    "    def _fit(self, array: list) -> list:\n",
    "        \"\"\"Will override in inherited classes\"\"\"\n",
    "        raise NotImplementedError\n",
    "\n",
    "class BubbleSort(BaseSort):\n",
    "    def __init__(self, method = 'bubble'):\n",
    "        self.method = method\n",
    "        super(BubbleSort, self).__init__()\n",
    "        \n",
    "    def _fit(self, array: list) -> list:\n",
    "        if self.method == 'bubble':\n",
    "            n = len(array)\n",
    "            for i in range(n):\n",
    "                is_sorted = True\n",
    "                for j in range(n - i - 1):\n",
    "                    if array[j] > array[j + 1]:\n",
    "                        array[j], array[j + 1] = array[j + 1], array[j]\n",
    "                        is_sorted = False\n",
    "                        \n",
    "                if is_sorted:\n",
    "                    break\n",
    "                    \n",
    "        else:\n",
    "            array.sort()\n",
    "        \n",
    "# basic code for demonstration\n",
    "sorter = BubbleSort()\n",
    "array  = np.array([5, 3, 6, 2, 1])\n",
    "\n",
    "sorter._fit(array)\n",
    "\n",
    "# our array is sorted\n",
    "array"
   ]
  },
  {
   "cell_type": "code",
   "execution_count": 3,
   "id": "452f932e",
   "metadata": {},
   "outputs": [
    {
     "data": {
      "text/plain": [
       "{'method': 'bubble'}"
      ]
     },
     "execution_count": 3,
     "metadata": {},
     "output_type": "execute_result"
    }
   ],
   "source": [
    "# we have a unified way of setting and configuring parameters\n",
    "sorter.get_params()"
   ]
  },
  {
   "cell_type": "code",
   "execution_count": 4,
   "id": "0b04170e",
   "metadata": {},
   "outputs": [
    {
     "data": {
      "text/plain": [
       "{'method': 'other'}"
      ]
     },
     "execution_count": 4,
     "metadata": {},
     "output_type": "execute_result"
    }
   ],
   "source": [
    "# and setting them\n",
    "sorter.set_params(method = 'other')\n",
    "sorter.get_params()"
   ]
  },
  {
   "cell_type": "markdown",
   "id": "0de6f08b",
   "metadata": {},
   "source": [
    "The use of `get_params()` and `set_params()` is standard scikit-learn functionality.  \n",
    "\n",
    "Parameters are designed to be set by the user when initializing an object.  \n",
    "\n",
    "SKBase also gives you the ability to define meta properties of an object via tags.  \n",
    "\n",
    "This allows for a simple way to organize large swathes of your codebase according to shared meta-properties.\n",
    "\n",
    "Let's re-use the previous class, but with some additional details."
   ]
  },
  {
   "cell_type": "code",
   "execution_count": 5,
   "id": "e79ae490",
   "metadata": {},
   "outputs": [],
   "source": [
    "# ListSorted, redux\n",
    "class BubbleSort(BaseSort):\n",
    "    \n",
    "    # we now define tags that define\n",
    "    # what sort of programmatic properties\n",
    "    # this estimator has\n",
    "    \n",
    "    _tags = {\n",
    "        \"multi_dimensional\": False,\n",
    "        \"capability:missing_values\": False\n",
    "    }\n",
    "    \n",
    "    def __init__(self, method = 'bubble'):\n",
    "        self.method = method\n",
    "        super(BubbleSort, self).__init__()\n",
    "        \n",
    "    def _fit(self, array: list) -> list:\n",
    "        if self.method == 'bubble':\n",
    "            n = len(array)\n",
    "            for i in range(n):\n",
    "                is_sorted = True\n",
    "                for j in range(n - i - 1):\n",
    "                    if array[j] > array[j + 1]:\n",
    "                        array[j], array[j + 1] = array[j + 1], array[j]\n",
    "                        is_sorted = False\n",
    "                        \n",
    "                if is_sorted:\n",
    "                    break\n",
    "                    \n",
    "        else:\n",
    "            array.sort()"
   ]
  },
  {
   "cell_type": "code",
   "execution_count": 6,
   "id": "057c8f8c",
   "metadata": {},
   "outputs": [
    {
     "data": {
      "text/plain": [
       "{'multi_dimensional': False, 'capability:missing_values': False}"
      ]
     },
     "execution_count": 6,
     "metadata": {},
     "output_type": "execute_result"
    }
   ],
   "source": [
    "# and we have the new method\n",
    "sorter = BubbleSort(method = 'bubble')\n",
    "sorter.get_tags()"
   ]
  },
  {
   "cell_type": "code",
   "execution_count": 7,
   "id": "bb837999",
   "metadata": {},
   "outputs": [
    {
     "data": {
      "text/plain": [
       "{'multi_dimensional': True, 'capability:missing_values': False}"
      ]
     },
     "execution_count": 7,
     "metadata": {},
     "output_type": "execute_result"
    }
   ],
   "source": [
    "# and you can also set\n",
    "sorter.set_tags(multi_dimensional = True)\n",
    "sorter.get_tags()"
   ]
  },
  {
   "cell_type": "markdown",
   "id": "cc03e5a8",
   "metadata": {},
   "source": [
    "The use of a tag system is heavily used inside sktime to be able to quickly categorize different classes across the entire codebase.  This makes it easier to organize how different classes are related to one another across a codebase."
   ]
  },
  {
   "cell_type": "markdown",
   "id": "aa423625",
   "metadata": {},
   "source": [
    "An additional way to organize a class is with configuration variables, which determine certain behavior outside of the fitting process.  \n",
    "\n",
    "Let's reuse the previous class, but with these set as well:"
   ]
  },
  {
   "cell_type": "code",
   "execution_count": 8,
   "id": "653e6f1c",
   "metadata": {},
   "outputs": [],
   "source": [
    "# ListSorted, redux\n",
    "class BubbleSort(BaseSort):\n",
    "    \n",
    "    # we now define tags that define\n",
    "    # what sort of programmatic properties\n",
    "    # this estimator has\n",
    "    _tags = {\n",
    "        \"multi_dimensional\": False,\n",
    "        \"capability:missing_values\": False\n",
    "    }\n",
    "    \n",
    "    # and with config variables as well\n",
    "    _config = {\n",
    "        \"display\": \"diagram\",\n",
    "        \"print_changed_only\": True,\n",
    "    }\n",
    "    \n",
    "    def __init__(self, method = 'bubble'):\n",
    "        self.method = method\n",
    "        \n",
    "    def _fit(self, array: list) -> list:\n",
    "        if self.method == 'bubble':\n",
    "            n = len(array)\n",
    "            for i in range(n):\n",
    "                is_sorted = True\n",
    "                for j in range(n - i - 1):\n",
    "                    if array[j] > array[j + 1]:\n",
    "                        array[j], array[j + 1] = array[j + 1], array[j]\n",
    "                        is_sorted = False\n",
    "                        \n",
    "                if is_sorted:\n",
    "                    break\n",
    "                    \n",
    "        else:\n",
    "            array.sort()"
   ]
  },
  {
   "cell_type": "code",
   "execution_count": 9,
   "id": "136b4700",
   "metadata": {},
   "outputs": [
    {
     "data": {
      "text/plain": [
       "{'display': 'diagram', 'print_changed_only': True}"
      ]
     },
     "execution_count": 9,
     "metadata": {},
     "output_type": "execute_result"
    }
   ],
   "source": [
    "# and now we can see and set config variables in a similar manner\n",
    "sorter = BubbleSort()\n",
    "# returns error -- best to run a development version instead?\n",
    "sorter.get_config()"
   ]
  },
  {
   "cell_type": "markdown",
   "id": "e1dc3cd7",
   "metadata": {},
   "source": [
    "### Configuration Examples and Compositions\n",
    "\n",
    "You'll often need to chain together different transformers and estimators via pipelines, and you can use the same functionality for these classes as well.  \n",
    "\n",
    "Here's an example of a scaler with our list sorter as well.  Here's the same class we had before, but put together inside a pipeline."
   ]
  },
  {
   "cell_type": "code",
   "execution_count": 10,
   "id": "a2384543",
   "metadata": {},
   "outputs": [
    {
     "data": {
      "text/plain": [
       "{'memory': None,\n",
       " 'steps': [('standardscaler', StandardScaler()), ('bubblesort', BubbleSort())],\n",
       " 'verbose': False,\n",
       " 'standardscaler': StandardScaler(),\n",
       " 'bubblesort': BubbleSort(),\n",
       " 'standardscaler__copy': True,\n",
       " 'standardscaler__with_mean': True,\n",
       " 'standardscaler__with_std': True,\n",
       " 'bubblesort__method': 'bubble'}"
      ]
     },
     "execution_count": 10,
     "metadata": {},
     "output_type": "execute_result"
    }
   ],
   "source": [
    "# simple pipeline with a scaler + ListSorter\n",
    "from sklearn.preprocessing import StandardScaler\n",
    "from sklearn.pipeline import make_pipeline\n",
    "\n",
    "pipe = make_pipeline(StandardScaler(), BubbleSort())\n",
    "\n",
    "# the parameters\n",
    "pipe.get_params()"
   ]
  },
  {
   "cell_type": "code",
   "execution_count": 11,
   "id": "90f43281",
   "metadata": {},
   "outputs": [
    {
     "data": {
      "text/plain": [
       "{'memory': None,\n",
       " 'steps': [('standardscaler', StandardScaler()),\n",
       "  ('bubblesort', BubbleSort(method='other'))],\n",
       " 'verbose': False,\n",
       " 'standardscaler': StandardScaler(),\n",
       " 'bubblesort': BubbleSort(method='other'),\n",
       " 'standardscaler__copy': True,\n",
       " 'standardscaler__with_mean': True,\n",
       " 'standardscaler__with_std': True,\n",
       " 'bubblesort__method': 'other'}"
      ]
     },
     "execution_count": 11,
     "metadata": {},
     "output_type": "execute_result"
    }
   ],
   "source": [
    "# and you can modify them as well\n",
    "pipe.set_params(bubblesort__method = 'other')\n",
    "pipe.get_params()"
   ]
  },
  {
   "cell_type": "markdown",
   "id": "f96c05a8",
   "metadata": {},
   "source": [
    "### Using SKBase With Estimators\n",
    "\n",
    "Most ML libraries are going to be built around estimators that will extract patterns from your data.  Ie, machine learning algorithms.  \n",
    "\n",
    "These are the methods use the `fit`, `score`, and `predict` methods associated with them.  \n",
    "\n",
    "With SKBase, methods associated with an estimator become more streamlined across different classes.  \n",
    "\n",
    "Let's look at our `Sorter` class, but this time with the additional inheritance of a `BaseEstimator` class."
   ]
  },
  {
   "cell_type": "code",
   "execution_count": 12,
   "id": "4cf813e1",
   "metadata": {},
   "outputs": [],
   "source": [
    "# ListSorted, redux\n",
    "from sktime.base import BaseEstimator\n",
    "\n",
    "class BaseSort(BaseEstimator):\n",
    "    \"\"\"Abstract Base Class to Use for More Specialized Approaches\"\"\"\n",
    "        \n",
    "    def _fit(self, array: list) -> list:\n",
    "        \"\"\"Will override in inherited classes\"\"\"\n",
    "        raise NotImplementedError\n",
    "\n",
    "class BubbleSort(BaseSort):\n",
    "    \n",
    "    # we now define tags that define\n",
    "    # what sort of programmatic properties\n",
    "    # this estimator has\n",
    "    _tags = {\n",
    "        \"multi_dimensional\": False,\n",
    "        \"capability:missing_values\": False\n",
    "    }\n",
    "    \n",
    "    # and with config variables as well\n",
    "    _config = {\n",
    "        \"display\": \"diagram\",\n",
    "        \"print_changed_only\": True,\n",
    "    }\n",
    "    \n",
    "    def __init__(self, method = 'bubble'):\n",
    "        self.method = method\n",
    "        \n",
    "        # notice we add this here on initialization\n",
    "        self._is_fitted = False\n",
    "        super(BubbleSort, self).__init__()\n",
    "        \n",
    "    def _fit(self, array: list) -> list:\n",
    "        if self.method == 'bubble':\n",
    "            n = len(array)\n",
    "            for i in range(n):\n",
    "                is_sorted = True\n",
    "                for j in range(n - i - 1):\n",
    "                    if array[j] > array[j + 1]:\n",
    "                        array[j], array[j + 1] = array[j + 1], array[j]\n",
    "                        is_sorted = False\n",
    "                        \n",
    "                if is_sorted:\n",
    "                    self._is_fitted = True\n",
    "                    \n",
    "                    # adding this after fitting\n",
    "                    self.array_ = array\n",
    "                    break\n",
    "                    \n",
    "        else:\n",
    "            array.sort()\n",
    "            \n",
    "            # methods that we're adding after doing fitting\n",
    "            self.array_ = array"
   ]
  },
  {
   "cell_type": "code",
   "execution_count": 13,
   "id": "aeda5e4b",
   "metadata": {},
   "outputs": [
    {
     "data": {
      "text/plain": [
       "False"
      ]
     },
     "execution_count": 13,
     "metadata": {},
     "output_type": "execute_result"
    }
   ],
   "source": [
    "# now let's take a look at how this works\n",
    "sorter = BubbleSort()\n",
    "\n",
    "sorter.is_fitted"
   ]
  },
  {
   "cell_type": "code",
   "execution_count": 14,
   "id": "00daec8a",
   "metadata": {},
   "outputs": [
    {
     "data": {
      "text/plain": [
       "True"
      ]
     },
     "execution_count": 14,
     "metadata": {},
     "output_type": "execute_result"
    }
   ],
   "source": [
    "# but fit and it's now return True\n",
    "sorter._fit(array)\n",
    "sorter.is_fitted"
   ]
  },
  {
   "cell_type": "code",
   "execution_count": 15,
   "id": "b87d910e",
   "metadata": {},
   "outputs": [
    {
     "data": {
      "text/plain": [
       "{'array': array([1, 2, 3, 5, 6])}"
      ]
     },
     "execution_count": 15,
     "metadata": {},
     "output_type": "execute_result"
    }
   ],
   "source": [
    "# you can also lookup parameters that are available after fitting\n",
    "sorter.get_fitted_params()"
   ]
  },
  {
   "cell_type": "code",
   "execution_count": 16,
   "id": "f0935a1b",
   "metadata": {},
   "outputs": [
    {
     "data": {
      "text/html": [
       "<style>#sk-container-id-1 {color: black;background-color: white;}#sk-container-id-1 pre{padding: 0;}#sk-container-id-1 div.sk-toggleable {background-color: white;}#sk-container-id-1 label.sk-toggleable__label {cursor: pointer;display: block;width: 100%;margin-bottom: 0;padding: 0.3em;box-sizing: border-box;text-align: center;}#sk-container-id-1 label.sk-toggleable__label-arrow:before {content: \"▸\";float: left;margin-right: 0.25em;color: #696969;}#sk-container-id-1 label.sk-toggleable__label-arrow:hover:before {color: black;}#sk-container-id-1 div.sk-estimator:hover label.sk-toggleable__label-arrow:before {color: black;}#sk-container-id-1 div.sk-toggleable__content {max-height: 0;max-width: 0;overflow: hidden;text-align: left;background-color: #f0f8ff;}#sk-container-id-1 div.sk-toggleable__content pre {margin: 0.2em;color: black;border-radius: 0.25em;background-color: #f0f8ff;}#sk-container-id-1 input.sk-toggleable__control:checked~div.sk-toggleable__content {max-height: 200px;max-width: 100%;overflow: auto;}#sk-container-id-1 input.sk-toggleable__control:checked~label.sk-toggleable__label-arrow:before {content: \"▾\";}#sk-container-id-1 div.sk-estimator input.sk-toggleable__control:checked~label.sk-toggleable__label {background-color: #d4ebff;}#sk-container-id-1 div.sk-label input.sk-toggleable__control:checked~label.sk-toggleable__label {background-color: #d4ebff;}#sk-container-id-1 input.sk-hidden--visually {border: 0;clip: rect(1px 1px 1px 1px);clip: rect(1px, 1px, 1px, 1px);height: 1px;margin: -1px;overflow: hidden;padding: 0;position: absolute;width: 1px;}#sk-container-id-1 div.sk-estimator {font-family: monospace;background-color: #f0f8ff;border: 1px dotted black;border-radius: 0.25em;box-sizing: border-box;margin-bottom: 0.5em;}#sk-container-id-1 div.sk-estimator:hover {background-color: #d4ebff;}#sk-container-id-1 div.sk-parallel-item::after {content: \"\";width: 100%;border-bottom: 1px solid gray;flex-grow: 1;}#sk-container-id-1 div.sk-label:hover label.sk-toggleable__label {background-color: #d4ebff;}#sk-container-id-1 div.sk-serial::before {content: \"\";position: absolute;border-left: 1px solid gray;box-sizing: border-box;top: 0;bottom: 0;left: 50%;z-index: 0;}#sk-container-id-1 div.sk-serial {display: flex;flex-direction: column;align-items: center;background-color: white;padding-right: 0.2em;padding-left: 0.2em;position: relative;}#sk-container-id-1 div.sk-item {position: relative;z-index: 1;}#sk-container-id-1 div.sk-parallel {display: flex;align-items: stretch;justify-content: center;background-color: white;position: relative;}#sk-container-id-1 div.sk-item::before, #sk-container-id-1 div.sk-parallel-item::before {content: \"\";position: absolute;border-left: 1px solid gray;box-sizing: border-box;top: 0;bottom: 0;left: 50%;z-index: -1;}#sk-container-id-1 div.sk-parallel-item {display: flex;flex-direction: column;z-index: 1;position: relative;background-color: white;}#sk-container-id-1 div.sk-parallel-item:first-child::after {align-self: flex-end;width: 50%;}#sk-container-id-1 div.sk-parallel-item:last-child::after {align-self: flex-start;width: 50%;}#sk-container-id-1 div.sk-parallel-item:only-child::after {width: 0;}#sk-container-id-1 div.sk-dashed-wrapped {border: 1px dashed gray;margin: 0 0.4em 0.5em 0.4em;box-sizing: border-box;padding-bottom: 0.4em;background-color: white;}#sk-container-id-1 div.sk-label label {font-family: monospace;font-weight: bold;display: inline-block;line-height: 1.2em;}#sk-container-id-1 div.sk-label-container {text-align: center;}#sk-container-id-1 div.sk-container {/* jupyter's `normalize.less` sets `[hidden] { display: none; }` but bootstrap.min.css set `[hidden] { display: none !important; }` so we also need the `!important` here to be able to override the default hidden behavior on the sphinx rendered scikit-learn.org. See: https://github.com/scikit-learn/scikit-learn/issues/21755 */display: inline-block !important;position: relative;}#sk-container-id-1 div.sk-text-repr-fallback {display: none;}</style><div id=\"sk-container-id-1\" class=\"sk-top-container\"><div class=\"sk-text-repr-fallback\"><pre>TransformerPipeline(steps=[TabularToSeriesAdaptor(transformer=StandardScaler()),\n",
       "                           ExponentTransformer()])</pre><b>In a Jupyter environment, please rerun this cell to show the HTML representation or trust the notebook. <br />On GitHub, the HTML representation is unable to render, please try loading this page with nbviewer.org.</b></div><div class=\"sk-container\" hidden><div class=\"sk-item\"><div class=\"sk-estimator sk-toggleable\"><input class=\"sk-toggleable__control sk-hidden--visually\" id=\"sk-estimator-id-1\" type=\"checkbox\" checked><label for=\"sk-estimator-id-1\" class=\"sk-toggleable__label sk-toggleable__label-arrow\">TransformerPipeline</label><div class=\"sk-toggleable__content\"><pre>TransformerPipeline(steps=[TabularToSeriesAdaptor(transformer=StandardScaler()),\n",
       "                           ExponentTransformer()])</pre></div></div></div></div></div>"
      ],
      "text/plain": [
       "TransformerPipeline(steps=[TabularToSeriesAdaptor(transformer=StandardScaler()),\n",
       "                           ExponentTransformer()])"
      ]
     },
     "execution_count": 16,
     "metadata": {},
     "output_type": "execute_result"
    }
   ],
   "source": [
    "# this functionality also extends to pipelines as well\n",
    "# will use an sktime pipeline this time -- which is built with these classes\n",
    "from sktime.pipeline import make_pipeline as pipeline\n",
    "from sktime.transformations.series.exponent import ExponentTransformer\n",
    "from sktime.classification.distance_based import KNeighborsTimeSeriesClassifier\n",
    "\n",
    "# Pipelines also have the qualities of estimators\n",
    "pipe = pipeline(StandardScaler(), ExponentTransformer())\n",
    "pipe.fit(array[:, None])"
   ]
  },
  {
   "cell_type": "code",
   "execution_count": 17,
   "id": "f688e4b6",
   "metadata": {},
   "outputs": [
    {
     "name": "stdout",
     "output_type": "stream",
     "text": [
      "True\n",
      "{'steps': [('TabularToSeriesAdaptor', TabularToSeriesAdaptor(transformer=StandardScaler())), ('ExponentTransformer', ExponentTransformer())], 'TabularToSeriesAdaptor': TabularToSeriesAdaptor(transformer=StandardScaler()), 'ExponentTransformer': ExponentTransformer(), 'TabularToSeriesAdaptor__transformer': StandardScaler(), 'TabularToSeriesAdaptor__transformer__mean': array([3.4]), 'TabularToSeriesAdaptor__transformer__n_features_in': 1, 'TabularToSeriesAdaptor__transformer__n_samples_seen': 5, 'TabularToSeriesAdaptor__transformer__scale': array([1.8547237]), 'TabularToSeriesAdaptor__transformer__var': array([3.44])}\n"
     ]
    }
   ],
   "source": [
    "# can use the same helper methods -- but will apply to each subsequent step\n",
    "print(pipe.is_fitted)\n",
    "print(pipe.get_fitted_params())"
   ]
  },
  {
   "cell_type": "code",
   "execution_count": 18,
   "id": "800e8977",
   "metadata": {},
   "outputs": [
    {
     "data": {
      "text/plain": [
       "True"
      ]
     },
     "execution_count": 18,
     "metadata": {},
     "output_type": "execute_result"
    }
   ],
   "source": [
    "# pipelines are 'composite' objects\n",
    "# that inherit from the BaseMetaObject / BaseMetaEstimator\n",
    "pipe.is_composite()"
   ]
  },
  {
   "cell_type": "markdown",
   "id": "c0f1095e",
   "metadata": {},
   "source": [
    "### Testing\n",
    "\n",
    "Testing is one of the most important but least desired workflows when developing OS tools.  \n",
    "\n",
    "Over long periods of time, codebases typically suffer from inadequate test coverage that creates user issues downstream.  \n",
    "\n",
    "Inadequate test coverage is often a primary cause of an ML library's slow drift towards obsolescence.  \n",
    "\n",
    "How can we combat this problem?"
   ]
  },
  {
   "cell_type": "markdown",
   "id": "b9b11b29",
   "metadata": {},
   "source": [
    "Ideally, your codebase will include strong abstractions for making testing as painless as possible.  \n",
    "\n",
    "Inadequate testing has a strong tendency to propagate!  It's important to nip this problem in the bud.\n",
    "\n",
    "Let's see how you can build in testing interfaces to your custom classes to allow for easier test coverage."
   ]
  },
  {
   "cell_type": "code",
   "execution_count": 19,
   "id": "737b43e3",
   "metadata": {},
   "outputs": [],
   "source": [
    "# BubbleSort -- the last time\n",
    "from sktime.base import BaseEstimator\n",
    "\n",
    "class BubbleSort(BaseSort):\n",
    "    \n",
    "    # we now define tags that define\n",
    "    # what sort of programmatic properties\n",
    "    # this estimator has\n",
    "    _tags = {\n",
    "        \"multi_dimensional\": False,\n",
    "        \"capability:missing_values\": False\n",
    "    }\n",
    "    \n",
    "    # and with config variables as well\n",
    "    _config = {\n",
    "        \"display\": \"diagram\",\n",
    "        \"print_changed_only\": True,\n",
    "    }\n",
    "    \n",
    "    def __init__(self, method = 'bubble'):\n",
    "        self.method = method\n",
    "        self._is_fitted = False\n",
    "        \n",
    "    def _fit(self, array: list) -> list:\n",
    "        if self.method == 'bubble':\n",
    "            n = len(array)\n",
    "            for i in range(n):\n",
    "                is_sorted = True\n",
    "                for j in range(n - i - 1):\n",
    "                    if array[j] > array[j + 1]:\n",
    "                        array[j], array[j + 1] = array[j + 1], array[j]\n",
    "                        is_sorted = False\n",
    "                        \n",
    "                if is_sorted:\n",
    "                    self._is_fitted = True\n",
    "                    \n",
    "                    # adding this after fitting\n",
    "                    self.array_ = array\n",
    "                    break\n",
    "                    \n",
    "        else:\n",
    "            array.sort()\n",
    "            \n",
    "            # methods that we're adding after doing fitting\n",
    "            self.array_ = array\n",
    "            \n",
    "    # you can specify what sort of class parameters you want to use\n",
    "    # for unit testing\n",
    "    @classmethod\n",
    "    def get_test_params(cls, parameter_set = \"default\"):\n",
    "        \n",
    "        if parameter_set == \"default\":\n",
    "            \n",
    "            return {\n",
    "                'method': 'bubble'\n",
    "            }\n",
    "        \n",
    "        else:\n",
    "            return {\n",
    "                'method': 'other'\n",
    "            }"
   ]
  },
  {
   "cell_type": "code",
   "execution_count": 20,
   "id": "a401ab9d",
   "metadata": {},
   "outputs": [
    {
     "data": {
      "text/plain": [
       "{'method': 'bubble'}"
      ]
     },
     "execution_count": 20,
     "metadata": {},
     "output_type": "execute_result"
    }
   ],
   "source": [
    "# now let's re-run again to see how these methods are built into the classes\n",
    "sorter = BubbleSort(method = 'bubble')\n",
    "\n",
    "# test parameters are now built into the class\n",
    "sorter.get_test_params()"
   ]
  },
  {
   "cell_type": "code",
   "execution_count": 21,
   "id": "7574917c",
   "metadata": {},
   "outputs": [
    {
     "data": {
      "text/plain": [
       "{'method': 'bubble'}"
      ]
     },
     "execution_count": 21,
     "metadata": {},
     "output_type": "execute_result"
    }
   ],
   "source": [
    "# you can then automatically recreate a test instance of an estimator\n",
    "test_instance = sorter.create_test_instance(parameter_set = \"default\")\n",
    "test_instance.get_params()"
   ]
  },
  {
   "cell_type": "markdown",
   "id": "24c950ff",
   "metadata": {},
   "source": [
    "Additional functionality of skbase's testing facilities:\n",
    "\n",
    " - Built in unit tests for all of the library's meta-methods\n",
    " - Simple, easy interface for automatically testing *most* of the functionality of your estimator, besides the predicted output."
   ]
  },
  {
   "cell_type": "markdown",
   "id": "9989cc77",
   "metadata": {},
   "source": [
    "### What Have We Covered So Far?\n",
    "\n",
    "    - `skbase` provides a coherent interface to develop an ML toolbox\n",
    "    - It builds off of scikit-learn classes, and extends them to make them easier to organize and test\n",
    "    - It's meant to abstract away the tedious details of an API, allowing developers a streamlined way to focus on the primary details"
   ]
  }
 ],
 "metadata": {
  "kernelspec": {
   "display_name": "Python 3 (ipykernel)",
   "language": "python",
   "name": "python3"
  },
  "language_info": {
   "codemirror_mode": {
    "name": "ipython",
    "version": 3
   },
   "file_extension": ".py",
   "mimetype": "text/x-python",
   "name": "python",
   "nbconvert_exporter": "python",
   "pygments_lexer": "ipython3",
   "version": "3.8.15"
  }
 },
 "nbformat": 4,
 "nbformat_minor": 5
}
