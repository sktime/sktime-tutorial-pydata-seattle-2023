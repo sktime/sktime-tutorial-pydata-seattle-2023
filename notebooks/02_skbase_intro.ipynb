{
 "cells": [
  {
   "cell_type": "markdown",
   "id": "f59fd904",
   "metadata": {
    "slideshow": {
     "slide_type": "slide"
    }
   },
   "source": [
    "## skbase - a workbench for creating scikit-learn like parametric objects and libraries\n",
    "\n",
    "Tutorial at PyData Seattle 2023\n",
    "\n",
    "skbase: https://github.com/sktime/skbase\n",
    "\n",
    "API Reference: https://skbase.readthedocs.io/en/latest/api_reference.html"
   ]
  },
  {
   "cell_type": "markdown",
   "id": "41df5b78",
   "metadata": {
    "slideshow": {
     "slide_type": "slide"
    }
   },
   "source": [
    "### Presentation Goals:\n",
    "\n",
    " - Establish the need for `skbase` in the broader ecosystem of ML tools\n",
    " - Go over the main features of `skbase`, and demonstrate their essential use cases\n",
    " - Quickly prototype how one could use the skbase interface to **quickly** and **effortlessly** their own ML toolbox\n",
    " \n",
    "Let us begin!"
   ]
  },
  {
   "attachments": {},
   "cell_type": "markdown",
   "id": "615ad784",
   "metadata": {
    "slideshow": {
     "slide_type": "slide"
    }
   },
   "source": [
    "This notebook:\n",
    "\n",
    "using `skbase` to create a template for *sorting algorithms* and *permutation algorithms*!\n",
    "\n",
    "Sorting algorithms = permuters that end up sorting the list completely\n",
    "\n",
    "examples:\n",
    "\n",
    "* bubble sort\n",
    "* merge sort\n",
    "* random shuffle"
   ]
  },
  {
   "attachments": {},
   "cell_type": "markdown",
   "id": "74def5e3",
   "metadata": {
    "slideshow": {
     "slide_type": "slide"
    }
   },
   "source": [
    "### using `BaseObject` to write a template base class for sorting/permutation\n",
    "\n",
    "recipe: inherit from `BaseObject` to template a base class!\n",
    "\n",
    "We'll use it to demonstrate some universal functionality\n",
    "\n",
    " - setting object parameters\n",
    " - setting object configurations\n",
    " - retrieving tags associated with a particular object"
   ]
  },
  {
   "attachments": {},
   "cell_type": "markdown",
   "id": "b91ef26c",
   "metadata": {},
   "source": [
    "#### defining the `BasePermuter`"
   ]
  },
  {
   "cell_type": "code",
   "execution_count": null,
   "id": "440ddc60",
   "metadata": {
    "slideshow": {
     "slide_type": "slide"
    }
   },
   "outputs": [],
   "source": [
    "# import the base object\n",
    "import numpy as np\n",
    "from skbase.base import BaseObject\n",
    "\n",
    "# sample class that implements a bubble sort algorithm\n",
    "class BasePermuter(BaseObject):\n",
    "    \"\"\"Abstract Base Class for sorters and permuters\"\"\"\n",
    "\n",
    "    _tags = {\"always_sorts_completely\": False}\n",
    "\n",
    "    def fit(self, array: list) -> list:\n",
    "        \"\"\"Will override in inherited classes.\n",
    "        \n",
    "        Parameters\n",
    "        ----------\n",
    "        array : 1D np.ndarray\n",
    "\n",
    "        Returns\n",
    "        -------\n",
    "        permuted/sorted 1D np.ndarray\n",
    "        \"\"\"\n",
    "        raise NotImplementedError\n",
    "\n",
    "class BubbleSort(BasePermuter):\n",
    "    \"\"\"Bubble sort.\n",
    "\n",
    "    Parameters\n",
    "    ----------\n",
    "    ascending : bool, default=True\n",
    "        whether the bubble is ascending (True), or descending\n",
    "    \"\"\"\n",
    "    _tags = {\"always_sorts_completely\": True}\n",
    "\n",
    "    def __init__(self, ascending = True):\n",
    "        self.ascending = ascending\n",
    "        super(BubbleSort, self).__init__()\n",
    "        \n",
    "    def fit(self, array: list) -> list:\n",
    "        \n",
    "        for index in range(len(array)-1, 0, -1):\n",
    "            for i in range(index):\n",
    "                if self.ascending:\n",
    "                    if array[i] > array[i + 1]:\n",
    "                        array[i], array[i + 1] = array[i + 1], array[i]\n",
    "                else:\n",
    "                    if array[i] < array[i + 1]:\n",
    "                        array[i], array[i + 1] = array[i + 1], array[i]\n",
    "                        \n",
    "        return array\n"
   ]
  },
  {
   "cell_type": "code",
   "execution_count": null,
   "id": "0bdff506",
   "metadata": {},
   "outputs": [],
   "source": [
    "# applying the bubble sort\n",
    "sorter = BubbleSort(ascending = True)\n",
    "array  = np.array([5, 3, 6, 2, 1])\n",
    "\n",
    "sorted_array = sorter.fit(array)\n",
    "\n",
    "# our array is sorted\n",
    "sorted_array"
   ]
  },
  {
   "cell_type": "code",
   "execution_count": null,
   "id": "452f932e",
   "metadata": {
    "slideshow": {
     "slide_type": "slide"
    }
   },
   "outputs": [],
   "source": [
    "# get_params is available out-of-the box!\n",
    "sorter.get_params()"
   ]
  },
  {
   "cell_type": "code",
   "execution_count": null,
   "id": "0b04170e",
   "metadata": {
    "slideshow": {
     "slide_type": "slide"
    }
   },
   "outputs": [],
   "source": [
    "# set_params too\n",
    "sorter.set_params(ascending = False)\n",
    "sorter.get_params()"
   ]
  },
  {
   "attachments": {},
   "cell_type": "markdown",
   "id": "e31029cf",
   "metadata": {},
   "source": [
    "the `BasePermuter` is now a template for further permuters\n",
    "\n",
    "e.g., this class which shuffles the data randomly:"
   ]
  },
  {
   "cell_type": "code",
   "execution_count": null,
   "id": "befbe400",
   "metadata": {},
   "outputs": [],
   "source": [
    "class Shuffler(BasePermuter):\n",
    "    \"\"\"Class that will shuffle your data\"\"\"\n",
    "\n",
    "    def __init__(self, random_state = 42):\n",
    "        self.random_state = random_state\n",
    "        super(Shuffler, self).__init__()\n",
    "        \n",
    "    def fit(self, array: list) -> list:\n",
    "        \"\"\"Return a shuffled array according to random_state\"\"\"\n",
    "        random = np.random.RandomState(self.random_state)\n",
    "        return random.permutation(array)"
   ]
  },
  {
   "attachments": {},
   "cell_type": "markdown",
   "id": "c0d77cf0",
   "metadata": {},
   "source": [
    "`skbase` gives you the ability to define meta properties of an object via tags.  \n",
    "\n",
    "Tags are a simple way to organize your codebase according to shared meta-properties\n",
    "\n",
    "above, we have already used the `_tags` attribute for this:"
   ]
  },
  {
   "cell_type": "code",
   "execution_count": null,
   "id": "176ff19d",
   "metadata": {},
   "outputs": [],
   "source": [
    "Shuffler().get_tags()"
   ]
  },
  {
   "cell_type": "code",
   "execution_count": null,
   "id": "7e3bd149",
   "metadata": {},
   "outputs": [],
   "source": [
    "BubbleSort().get_tags()"
   ]
  },
  {
   "attachments": {},
   "cell_type": "markdown",
   "id": "c4023699",
   "metadata": {},
   "source": [
    "why does this return sth in both cases?\n",
    "\n",
    "* we have set `always_sorts_completely=False` in the base class `BasePermuter`, the \"general case\"\n",
    "* we have set `always_sorts_completely=True` in `BubbleSort`\n",
    "* we have set no tags in `Shuffler`\n",
    "* both `Shuffler` and `BubbleSort` inherut from `BasePermuter`\n",
    "\n",
    "--> `skbase` `get_tags` has inheritance of the `_tags` attribute!"
   ]
  },
  {
   "attachments": {},
   "cell_type": "markdown",
   "id": "0de6f08b",
   "metadata": {
    "slideshow": {
     "slide_type": "slide"
    }
   },
   "source": [
    "Tags also can be dynamically overridden or set, if desired:"
   ]
  },
  {
   "cell_type": "code",
   "execution_count": null,
   "id": "bb837999",
   "metadata": {
    "slideshow": {
     "slide_type": "slide"
    }
   },
   "outputs": [],
   "source": [
    "# and you can also set\n",
    "sorter.set_tags(my_new_tag = True)\n",
    "sorter.get_tags()"
   ]
  },
  {
   "attachments": {},
   "cell_type": "markdown",
   "id": "e523f2b3",
   "metadata": {},
   "source": [
    "#### Configurations vs tags"
   ]
  },
  {
   "attachments": {},
   "cell_type": "markdown",
   "id": "cc03e5a8",
   "metadata": {
    "slideshow": {
     "slide_type": "slide"
    }
   },
   "source": [
    "* tags can be user facing to describe an estimator, e.g., for organising code base\n",
    "* tags can also be developer or system facing, to determine functionality\n",
    "* tags should not change over the lifetime of an object\n",
    "\n",
    "* configs are user facing and determine *behaviour* (not *properties* or *functionality*)"
   ]
  },
  {
   "attachments": {},
   "cell_type": "markdown",
   "id": "aa423625",
   "metadata": {
    "slideshow": {
     "slide_type": "slide"
    }
   },
   "source": [
    "example: printing a useful log for the user, controlled by config"
   ]
  },
  {
   "cell_type": "code",
   "execution_count": null,
   "id": "653e6f1c",
   "metadata": {
    "slideshow": {
     "slide_type": "slide"
    }
   },
   "outputs": [],
   "source": [
    "# import the base object\n",
    "import numpy as np\n",
    "from skbase.base import BaseObject\n",
    "\n",
    "# sample class that implements a bubble sort algorithm\n",
    "class BasePermuter(BaseObject):\n",
    "    \"\"\"Abstract Base Class for sorters and permuters\"\"\"\n",
    "\n",
    "    _tags = {\"always_sorts_completely\": False}\n",
    "\n",
    "    def fit(self, array: list) -> list:\n",
    "        \"\"\"Will override in inherited classes.\n",
    "        \n",
    "        Parameters\n",
    "        ----------\n",
    "        array : 1D np.ndarray\n",
    "\n",
    "        Returns\n",
    "        -------\n",
    "        permuted/sorted 1D np.ndarray\n",
    "        \"\"\"\n",
    "        raise NotImplementedError\n",
    "\n",
    "class BubbleSort(BasePermuter):\n",
    "    \"\"\"Bubble sort.\n",
    "\n",
    "    Parameters\n",
    "    ----------\n",
    "    ascending : bool, default=True\n",
    "        whether the bubble is ascending (True), or descending\n",
    "    \"\"\"\n",
    "    _tags = {\"always_sorts_completely\": True}\n",
    "    _config = {\"print_useful_log\": False}\n",
    "\n",
    "    def __init__(self, ascending = True):\n",
    "        self.ascending = ascending\n",
    "        super(BubbleSort, self).__init__()\n",
    "        \n",
    "    def fit(self, array: list) -> list:\n",
    "        \n",
    "        for index in range(len(array)-1, 0, -1):\n",
    "            for i in range(index):\n",
    "                if self.ascending:\n",
    "                    if array[i] > array[i + 1]:\n",
    "                        array[i], array[i + 1] = array[i + 1], array[i]\n",
    "                else:\n",
    "                    if array[i] < array[i + 1]:\n",
    "                        array[i], array[i + 1] = array[i + 1], array[i]\n",
    "\n",
    "        if self.get_config()[\"print_useful_log\"]:\n",
    "            print(42)\n",
    "\n",
    "        return array\n"
   ]
  },
  {
   "cell_type": "code",
   "execution_count": null,
   "id": "136b4700",
   "metadata": {
    "slideshow": {
     "slide_type": "slide"
    }
   },
   "outputs": [],
   "source": [
    "# and now we can see and set config variables in a similar manner\n",
    "sorter = BubbleSort()\n",
    "# returns error -- best to run a development version instead?\n",
    "sorter.get_config()"
   ]
  },
  {
   "attachments": {},
   "cell_type": "markdown",
   "id": "00833c41",
   "metadata": {},
   "source": [
    "`display` and `print_changed_only` are from `skbase` directly, they control how the class is pretty printed"
   ]
  },
  {
   "cell_type": "code",
   "execution_count": null,
   "id": "3fc17389",
   "metadata": {},
   "outputs": [],
   "source": [
    "sorter"
   ]
  },
  {
   "cell_type": "code",
   "execution_count": null,
   "id": "c5a14373",
   "metadata": {},
   "outputs": [],
   "source": [
    "sorter.set_config(display=\"text\")"
   ]
  },
  {
   "attachments": {},
   "cell_type": "markdown",
   "id": "686a772b",
   "metadata": {},
   "source": [
    "using the custom \"useful logging\" config"
   ]
  },
  {
   "cell_type": "code",
   "execution_count": null,
   "id": "16bc8603",
   "metadata": {},
   "outputs": [],
   "source": [
    "# applying the bubble sort\n",
    "sorter = BubbleSort(ascending = True)\n",
    "array  = np.array([5, 3, 6, 2, 1])\n",
    "\n",
    "sorted_array = sorter.fit(array)\n",
    "# doesn't print"
   ]
  },
  {
   "cell_type": "code",
   "execution_count": null,
   "id": "cd70579f",
   "metadata": {},
   "outputs": [],
   "source": [
    "sorter.set_config(print_useful_log=True)\n",
    "\n",
    "sorted_array = sorter.fit(array)\n",
    "# now it prints"
   ]
  },
  {
   "cell_type": "markdown",
   "id": "e1dc3cd7",
   "metadata": {
    "slideshow": {
     "slide_type": "slide"
    }
   },
   "source": [
    "### Configuration Examples and Compositions\n",
    "\n",
    "You'll often need to chain together different transformers and estimators via pipelines, and you can use the same functionality for these classes as well.  \n",
    "\n",
    "Here's an example of a scaler with our list sorter as well.  Here's the same class we had before, but put together inside a pipeline."
   ]
  },
  {
   "cell_type": "code",
   "execution_count": null,
   "id": "a2384543",
   "metadata": {
    "slideshow": {
     "slide_type": "slide"
    }
   },
   "outputs": [],
   "source": [
    "# simple pipeline with a Shuffler + Sorter\n",
    "from sklearn.pipeline import make_pipeline\n",
    "\n",
    "class Shuffler(BasePermuter):\n",
    "    \"\"\"Class that will shuffle your data\"\"\"\n",
    "    \n",
    "    def __init__(self, random_state = 42):\n",
    "        self.random_state = random_state\n",
    "        super(Shuffler, self).__init__()\n",
    "        \n",
    "    def fit(self, array: list) -> list:\n",
    "        \"\"\"Return a shuffled array according to random_state\"\"\"\n",
    "        random = np.random.RandomState(self.random_state)\n",
    "        return random.permutation(array)\n",
    "\n",
    "shuffler = Shuffler() \n",
    "sorter   = BubbleSort()\n",
    "\n",
    "# compose them together in a chain of events\n",
    "shuffled_array = shuffler.fit(array)\n",
    "sorted_array   = sorter.fit(array)"
   ]
  },
  {
   "cell_type": "markdown",
   "id": "f96c05a8",
   "metadata": {
    "slideshow": {
     "slide_type": "slide"
    }
   },
   "source": [
    "### Using SKBase With Estimators\n",
    "\n",
    "Most ML libraries are going to be built around estimators that will extract patterns from your data.  Ie, machine learning algorithms.  \n",
    "\n",
    "These are the methods use the `fit`, `score`, and `predict` methods associated with them.  \n",
    "\n",
    "With SKBase, methods associated with an estimator become more streamlined across different classes.  \n",
    "\n",
    "Let's look at our `Sorter` class, but this time with the additional inheritance of a `BaseEstimator` class."
   ]
  },
  {
   "cell_type": "code",
   "execution_count": null,
   "id": "4cf813e1",
   "metadata": {
    "slideshow": {
     "slide_type": "slide"
    }
   },
   "outputs": [],
   "source": [
    "# BubbleSort, redux\n",
    "from sktime.base import BaseEstimator\n",
    "\n",
    "class BasePermuter(BaseEstimator):\n",
    "    \"\"\"Abstract Base Class to Use for More Specialized Approaches\"\"\"\n",
    "        \n",
    "    def fit(self, array: list) -> list:\n",
    "        \"\"\"Will override in inherited classes\"\"\"\n",
    "        raise NotImplementedError\n",
    "\n",
    "class BubbleSort(BasePermuter):\n",
    "\n",
    "    _tags = {\n",
    "        \"multi_dimensional\": False,\n",
    "        \"capability:missing_values\": False\n",
    "    }\n",
    "    \n",
    "    _config = {\n",
    "        \"display\": \"diagram\",\n",
    "        \"print_changed_only\": True,\n",
    "    }\n",
    "    \n",
    "    def __init__(self, ascending = True):\n",
    "        self.ascending = ascending\n",
    "        self._is_fitted = False\n",
    "        super(BubbleSort, self).__init__()\n",
    "        \n",
    "    def _fit(self, array: list) -> list:\n",
    "        if self.method == 'bubble':\n",
    "            n = len(array)\n",
    "            for i in range(n):\n",
    "                is_sorted = True\n",
    "                for j in range(n - i - 1):\n",
    "                    if array[j] > array[j + 1]:\n",
    "                        array[j], array[j + 1] = array[j + 1], array[j]\n",
    "                        is_sorted = False\n",
    "                        \n",
    "                if is_sorted:\n",
    "                    self._is_fitted = True\n",
    "                    \n",
    "                    # adding this after fitting\n",
    "                    self.array_ = array\n",
    "                    break\n",
    "                    \n",
    "        else:\n",
    "            array.sort()\n",
    "            \n",
    "            # methods that we're adding after doing fitting\n",
    "            self.array_ = array\n",
    "        \n",
    "    def fit(self, array: list) -> list:\n",
    "        \n",
    "        for index in range(len(array)-1, -1, -1):\n",
    "            is_sorted = True\n",
    "            for i in range(index):\n",
    "                if self.ascending:\n",
    "                    if array[i] > array[i + 1]:\n",
    "                        array[i], array[i + 1] = array[i + 1], array[i]\n",
    "                        is_sorted = False\n",
    "\n",
    "                else:\n",
    "                    if array[i] < array[i + 1]:\n",
    "                        array[i], array[i + 1] = array[i + 1], array[i]\n",
    "                        is_sorted = False\n",
    "\n",
    "                        \n",
    "            if is_sorted:\n",
    "                self._is_fitted = True\n",
    "                self.array_ = array\n",
    "                break\n",
    "        \n",
    "        return array"
   ]
  },
  {
   "cell_type": "code",
   "execution_count": null,
   "id": "aeda5e4b",
   "metadata": {
    "slideshow": {
     "slide_type": "slide"
    }
   },
   "outputs": [],
   "source": [
    "# now let's take a look at how this works\n",
    "sorter = BubbleSort()\n",
    "\n",
    "sorter.is_fitted"
   ]
  },
  {
   "cell_type": "code",
   "execution_count": null,
   "id": "00daec8a",
   "metadata": {
    "slideshow": {
     "slide_type": "slide"
    }
   },
   "outputs": [],
   "source": [
    "# but fit and it's now return True\n",
    "array = np.array([5, 2, 3, 4, 1])\n",
    "sorter.fit(array)\n",
    "sorter.is_fitted"
   ]
  },
  {
   "cell_type": "code",
   "execution_count": null,
   "id": "b87d910e",
   "metadata": {
    "slideshow": {
     "slide_type": "slide"
    }
   },
   "outputs": [],
   "source": [
    "# you can also lookup parameters that are available after fitting\n",
    "sorter.get_fitted_params()"
   ]
  },
  {
   "cell_type": "code",
   "execution_count": null,
   "id": "f0935a1b",
   "metadata": {
    "slideshow": {
     "slide_type": "slide"
    }
   },
   "outputs": [],
   "source": [
    "# this functionality also extends to pipelines as well\n",
    "# will use an sktime pipeline this time -- which is built with these classes\n",
    "from sktime.pipeline import make_pipeline as pipeline\n",
    "from sktime.transformations.series.exponent import ExponentTransformer\n",
    "from sklearn.preprocessing import StandardScaler\n",
    "from sktime.classification.distance_based import KNeighborsTimeSeriesClassifier\n",
    "\n",
    "# Pipelines also have the qualities of estimators\n",
    "pipe = pipeline(StandardScaler(), ExponentTransformer())\n",
    "pipe.fit(array[:, None])"
   ]
  },
  {
   "cell_type": "code",
   "execution_count": null,
   "id": "f688e4b6",
   "metadata": {
    "slideshow": {
     "slide_type": "slide"
    }
   },
   "outputs": [],
   "source": [
    "# can use the same helper methods -- but will apply to each subsequent step\n",
    "print(pipe.is_fitted)\n",
    "print(pipe.get_fitted_params())"
   ]
  },
  {
   "cell_type": "code",
   "execution_count": null,
   "id": "c31c458d",
   "metadata": {
    "slideshow": {
     "slide_type": "slide"
    }
   },
   "outputs": [],
   "source": [
    "# pipelines are 'composite' objects\n",
    "# that inherit from the BaseMetaObject / BaseMetaEstimator\n",
    "pipe.is_composite()"
   ]
  },
  {
   "cell_type": "markdown",
   "id": "c0f1095e",
   "metadata": {
    "slideshow": {
     "slide_type": "slide"
    }
   },
   "source": [
    "### Testing\n",
    "\n",
    "Testing is one of the most important but least desired workflows when developing OS tools.  \n",
    "\n",
    "Over long periods of time, codebases typically suffer from inadequate test coverage that creates user issues downstream.  \n",
    "\n",
    "Inadequate test coverage is often a primary cause of an ML library's slow drift towards obsolescence.  \n",
    "\n",
    "How can we combat this problem?"
   ]
  },
  {
   "cell_type": "markdown",
   "id": "b9b11b29",
   "metadata": {
    "slideshow": {
     "slide_type": "slide"
    }
   },
   "source": [
    "Ideally, your codebase will include strong abstractions for making testing as painless as possible.  \n",
    "\n",
    "Inadequate testing has a strong tendency to propagate!  It's important to nip this problem in the bud.\n",
    "\n",
    "Let's see how you can build in testing interfaces to your custom classes to allow for easier test coverage."
   ]
  },
  {
   "cell_type": "code",
   "execution_count": null,
   "id": "737b43e3",
   "metadata": {
    "slideshow": {
     "slide_type": "slide"
    }
   },
   "outputs": [],
   "source": [
    "# BubbleSort -- the last time\n",
    "from sktime.base import BaseEstimator\n",
    "\n",
    "class BubbleSort(BasePermuter):\n",
    "    \n",
    "    _tags = {\n",
    "        \"multi_dimensional\": False,\n",
    "        \"capability:missing_values\": False\n",
    "    }\n",
    "    \n",
    "    _config = {\n",
    "        \"display\": \"diagram\",\n",
    "        \"print_changed_only\": True,\n",
    "    }\n",
    "    \n",
    "    def __init__(self, ascending = True):\n",
    "        self.ascending  = ascending\n",
    "        self._is_fitted = False\n",
    "        \n",
    "        for index in range(len(array)-1, -1, -1):\n",
    "            is_sorted = True\n",
    "            for i in range(index):\n",
    "                if self.ascending:\n",
    "                    if array[i] > array[i + 1]:\n",
    "                        array[i], array[i + 1] = array[i + 1], array[i]\n",
    "                        is_sorted = False\n",
    "\n",
    "                else:\n",
    "                    if array[i] < array[i + 1]:\n",
    "                        array[i], array[i + 1] = array[i + 1], array[i]\n",
    "                        is_sorted = False\n",
    "\n",
    "                        \n",
    "            if is_sorted:\n",
    "                self._is_fitted = True\n",
    "                self.array_ = array\n",
    "                break\n",
    "                    \n",
    "            \n",
    "    @classmethod\n",
    "    def get_test_params(cls, parameter_set = \"default\"):\n",
    "        \n",
    "        if parameter_set == \"default\":\n",
    "            \n",
    "            return {\n",
    "                'ascending': True\n",
    "            }\n",
    "        \n",
    "        else:\n",
    "            return {\n",
    "                'ascending': False\n",
    "            }"
   ]
  },
  {
   "cell_type": "code",
   "execution_count": null,
   "id": "a401ab9d",
   "metadata": {
    "slideshow": {
     "slide_type": "slide"
    }
   },
   "outputs": [],
   "source": [
    "# now let's re-run again to see how these methods are built into the classes\n",
    "sorter = BubbleSort(ascending = False)\n",
    "\n",
    "# test parameters are now built into the class\n",
    "sorter.get_test_params()"
   ]
  },
  {
   "cell_type": "code",
   "execution_count": null,
   "id": "7574917c",
   "metadata": {
    "slideshow": {
     "slide_type": "slide"
    }
   },
   "outputs": [],
   "source": [
    "# you can then automatically recreate a test instance of an estimator\n",
    "test_instance = sorter.create_test_instance(parameter_set = \"default\")\n",
    "test_instance.get_params()"
   ]
  },
  {
   "cell_type": "markdown",
   "id": "4c8e24d7",
   "metadata": {
    "slideshow": {
     "slide_type": "slide"
    }
   },
   "source": [
    "### What Have We Covered So Far?\n",
    "\n",
    "    - `skbase` provides a coherent interface to develop an ML toolbox\n",
    "    - It builds off of scikit-learn classes, and extends them to make them easier to organize and test\n",
    "    - It's meant to abstract away the tedious details of an API, allowing developers a streamlined way to focus on the primary details of pattern recognition for a particular technique\n",
    "    - We'll now go into more detail about how you can use it to prototype an ML framework"
   ]
  }
 ],
 "metadata": {
  "kernelspec": {
   "display_name": "sktime-skbase-310",
   "language": "python",
   "name": "python3"
  },
  "language_info": {
   "codemirror_mode": {
    "name": "ipython",
    "version": 3
   },
   "file_extension": ".py",
   "mimetype": "text/x-python",
   "name": "python",
   "nbconvert_exporter": "python",
   "pygments_lexer": "ipython3",
   "version": "3.10.8"
  },
  "vscode": {
   "interpreter": {
    "hash": "1ab6896984b6aa500b8009633c692bca601cfe3e50e0ab79a8a59539ceef9c7a"
   }
  }
 },
 "nbformat": 4,
 "nbformat_minor": 5
}
