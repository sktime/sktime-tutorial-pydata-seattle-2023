{
 "cells": [
  {
   "cell_type": "markdown",
   "id": "f59fd904",
   "metadata": {
    "slideshow": {
     "slide_type": "slide"
    }
   },
   "source": [
    "## skbase - a workbench for creating scikit-learn like parametric objects and libraries\n",
    "\n",
    "Tutorial at PyData Seattle 2023\n",
    "\n",
    "skbase: https://github.com/sktime/skbase\n",
    "\n",
    "API Reference: https://skbase.readthedocs.io/en/latest/api_reference.html"
   ]
  },
  {
   "cell_type": "markdown",
   "id": "41df5b78",
   "metadata": {
    "slideshow": {
     "slide_type": "slide"
    }
   },
   "source": [
    "### Presentation Goals:\n",
    "\n",
    " - Establish the need for `skbase` in the broader ecosystem of ML tools\n",
    " - Go over the main features of `skbase`, and demonstrate their essential use cases\n",
    " - Quickly prototype how one could use the skbase interface to **quickly** and **effortlessly** their own ML toolbox\n",
    " \n",
    "Let us begin!"
   ]
  },
  {
   "attachments": {},
   "cell_type": "markdown",
   "id": "615ad784",
   "metadata": {
    "slideshow": {
     "slide_type": "slide"
    }
   },
   "source": [
    "This notebook:\n",
    "\n",
    "using `skbase` to create a template for *sorting algorithms* and *permutation algorithms*!\n",
    "\n",
    "Sorting algorithms = permuters that end up sorting the list completely\n",
    "\n",
    "examples:\n",
    "\n",
    "* bubble sort\n",
    "* merge sort\n",
    "* random shuffle"
   ]
  },
  {
   "attachments": {},
   "cell_type": "markdown",
   "id": "74def5e3",
   "metadata": {
    "slideshow": {
     "slide_type": "slide"
    }
   },
   "source": [
    "### using `BaseObject` to write a template base class for sorting/permutation\n",
    "\n",
    "recipe: inherit from `BaseObject` to template a base class!\n",
    "\n",
    "We'll use it to demonstrate some universal functionality\n",
    "\n",
    " - setting object parameters\n",
    " - setting object configurations\n",
    " - retrieving tags associated with a particular object"
   ]
  },
  {
   "attachments": {},
   "cell_type": "markdown",
   "id": "b91ef26c",
   "metadata": {},
   "source": [
    "#### defining the `BasePermuter`"
   ]
  },
  {
   "cell_type": "code",
   "execution_count": 1,
   "id": "440ddc60",
   "metadata": {
    "slideshow": {
     "slide_type": "slide"
    }
   },
   "outputs": [],
   "source": [
    "# import the base object\n",
    "import numpy as np\n",
    "from skbase.base import BaseObject\n",
    "\n",
    "# sample class that implements a bubble sort algorithm\n",
    "class BasePermuter(BaseObject):\n",
    "    \"\"\"Abstract Base Class for sorters and permuters\"\"\"\n",
    "\n",
    "    _tags = {\"always_sorts_completely\": False}\n",
    "\n",
    "    def fit(self, array: list) -> list:\n",
    "        \"\"\"Will override in inherited classes.\n",
    "        \n",
    "        Parameters\n",
    "        ----------\n",
    "        array : 1D np.ndarray\n",
    "\n",
    "        Returns\n",
    "        -------\n",
    "        permuted/sorted 1D np.ndarray\n",
    "        \"\"\"\n",
    "        raise NotImplementedError\n",
    "\n",
    "class BubbleSort(BasePermuter):\n",
    "    \"\"\"Bubble sort.\n",
    "\n",
    "    Parameters\n",
    "    ----------\n",
    "    ascending : bool, default=True\n",
    "        whether the bubble is ascending (True), or descending\n",
    "    \"\"\"\n",
    "    _tags = {\"always_sorts_completely\": True}\n",
    "\n",
    "    def __init__(self, ascending = True):\n",
    "        self.ascending = ascending\n",
    "        super(BubbleSort, self).__init__()\n",
    "        \n",
    "    def fit(self, array: list) -> list:\n",
    "        \n",
    "        for index in range(len(array)-1, 0, -1):\n",
    "            for i in range(index):\n",
    "                if self.ascending:\n",
    "                    if array[i] > array[i + 1]:\n",
    "                        array[i], array[i + 1] = array[i + 1], array[i]\n",
    "                else:\n",
    "                    if array[i] < array[i + 1]:\n",
    "                        array[i], array[i + 1] = array[i + 1], array[i]\n",
    "                        \n",
    "        return array\n"
   ]
  },
  {
   "cell_type": "code",
   "execution_count": 2,
   "id": "0bdff506",
   "metadata": {},
   "outputs": [
    {
     "data": {
      "text/plain": [
       "array([1, 2, 3, 5, 6])"
      ]
     },
     "execution_count": 2,
     "metadata": {},
     "output_type": "execute_result"
    }
   ],
   "source": [
    "# applying the bubble sort\n",
    "sorter = BubbleSort(ascending = True)\n",
    "array  = np.array([5, 3, 6, 2, 1])\n",
    "\n",
    "sorted_array = sorter.fit(array)\n",
    "\n",
    "# our array is sorted\n",
    "sorted_array"
   ]
  },
  {
   "cell_type": "code",
   "execution_count": 3,
   "id": "452f932e",
   "metadata": {
    "slideshow": {
     "slide_type": "slide"
    }
   },
   "outputs": [
    {
     "data": {
      "text/plain": [
       "{'ascending': True}"
      ]
     },
     "execution_count": 3,
     "metadata": {},
     "output_type": "execute_result"
    }
   ],
   "source": [
    "# get_params is available out-of-the box!\n",
    "sorter.get_params()"
   ]
  },
  {
   "cell_type": "code",
   "execution_count": 4,
   "id": "0b04170e",
   "metadata": {
    "slideshow": {
     "slide_type": "slide"
    }
   },
   "outputs": [
    {
     "data": {
      "text/plain": [
       "{'ascending': False}"
      ]
     },
     "execution_count": 4,
     "metadata": {},
     "output_type": "execute_result"
    }
   ],
   "source": [
    "# set_params too\n",
    "sorter.set_params(ascending = False)\n",
    "sorter.get_params()"
   ]
  },
  {
   "attachments": {},
   "cell_type": "markdown",
   "id": "e31029cf",
   "metadata": {},
   "source": [
    "the `BasePermuter` is now a template for further permuters\n",
    "\n",
    "e.g., this class which shuffles the data randomly:"
   ]
  },
  {
   "cell_type": "code",
   "execution_count": 5,
   "id": "befbe400",
   "metadata": {},
   "outputs": [],
   "source": [
    "class Shuffler(BasePermuter):\n",
    "    \"\"\"Class that will shuffle your data\"\"\"\n",
    "\n",
    "    def __init__(self, random_state = 42):\n",
    "        self.random_state = random_state\n",
    "        super(Shuffler, self).__init__()\n",
    "        \n",
    "    def fit(self, array: list) -> list:\n",
    "        \"\"\"Return a shuffled array according to random_state\"\"\"\n",
    "        random = np.random.RandomState(self.random_state)\n",
    "        return random.permutation(array)"
   ]
  },
  {
   "attachments": {},
   "cell_type": "markdown",
   "id": "c0d77cf0",
   "metadata": {},
   "source": [
    "`skbase` gives you the ability to define meta properties of an object via tags.  \n",
    "\n",
    "Tags are a simple way to organize your codebase according to shared meta-properties\n",
    "\n",
    "above, we have already used the `_tags` attribute for this:"
   ]
  },
  {
   "cell_type": "code",
   "execution_count": 6,
   "id": "176ff19d",
   "metadata": {},
   "outputs": [
    {
     "data": {
      "text/plain": [
       "{'always_sorts_completely': False}"
      ]
     },
     "execution_count": 6,
     "metadata": {},
     "output_type": "execute_result"
    }
   ],
   "source": [
    "Shuffler().get_tags()"
   ]
  },
  {
   "cell_type": "code",
   "execution_count": 7,
   "id": "7e3bd149",
   "metadata": {},
   "outputs": [
    {
     "data": {
      "text/plain": [
       "{'always_sorts_completely': True}"
      ]
     },
     "execution_count": 7,
     "metadata": {},
     "output_type": "execute_result"
    }
   ],
   "source": [
    "BubbleSort().get_tags()"
   ]
  },
  {
   "attachments": {},
   "cell_type": "markdown",
   "id": "c4023699",
   "metadata": {},
   "source": [
    "why does this return sth in both cases?\n",
    "\n",
    "* we have set `always_sorts_completely=False` in the base class `BasePermuter`, the \"general case\"\n",
    "* we have set `always_sorts_completely=True` in `BubbleSort`\n",
    "* we have set no tags in `Shuffler`\n",
    "* both `Shuffler` and `BubbleSort` inherut from `BasePermuter`\n",
    "\n",
    "--> `skbase` `get_tags` has inheritance of the `_tags` attribute!"
   ]
  },
  {
   "attachments": {},
   "cell_type": "markdown",
   "id": "0de6f08b",
   "metadata": {
    "slideshow": {
     "slide_type": "slide"
    }
   },
   "source": [
    "Tags also can be dynamically overridden or set, if desired:"
   ]
  },
  {
   "cell_type": "code",
   "execution_count": 8,
   "id": "bb837999",
   "metadata": {
    "slideshow": {
     "slide_type": "slide"
    }
   },
   "outputs": [
    {
     "data": {
      "text/plain": [
       "{'always_sorts_completely': True, 'my_new_tag': True}"
      ]
     },
     "execution_count": 8,
     "metadata": {},
     "output_type": "execute_result"
    }
   ],
   "source": [
    "# and you can also set\n",
    "sorter.set_tags(my_new_tag = True)\n",
    "sorter.get_tags()"
   ]
  },
  {
   "attachments": {},
   "cell_type": "markdown",
   "id": "e523f2b3",
   "metadata": {},
   "source": [
    "#### Configurations vs tags"
   ]
  },
  {
   "attachments": {},
   "cell_type": "markdown",
   "id": "cc03e5a8",
   "metadata": {
    "slideshow": {
     "slide_type": "slide"
    }
   },
   "source": [
    "* tags can be user facing to describe an estimator, e.g., for organising code base\n",
    "* tags can also be developer or system facing, to determine functionality\n",
    "* tags should not change over the lifetime of an object\n",
    "\n",
    "* configs are user facing and determine *behaviour* (not *properties* or *functionality*)"
   ]
  },
  {
   "attachments": {},
   "cell_type": "markdown",
   "id": "aa423625",
   "metadata": {
    "slideshow": {
     "slide_type": "slide"
    }
   },
   "source": [
    "example: printing a useful log for the user, controlled by config"
   ]
  },
  {
   "cell_type": "code",
   "execution_count": 9,
   "id": "653e6f1c",
   "metadata": {
    "slideshow": {
     "slide_type": "slide"
    }
   },
   "outputs": [],
   "source": [
    "# import the base object\n",
    "import numpy as np\n",
    "from skbase.base import BaseObject\n",
    "\n",
    "# sample class that implements a bubble sort algorithm\n",
    "class BasePermuter(BaseObject):\n",
    "    \"\"\"Abstract Base Class for sorters and permuters\"\"\"\n",
    "\n",
    "    _tags = {\"always_sorts_completely\": False}\n",
    "\n",
    "    def fit(self, array: list) -> list:\n",
    "        \"\"\"Will override in inherited classes.\n",
    "        \n",
    "        Parameters\n",
    "        ----------\n",
    "        array : 1D np.ndarray\n",
    "\n",
    "        Returns\n",
    "        -------\n",
    "        permuted/sorted 1D np.ndarray\n",
    "        \"\"\"\n",
    "        raise NotImplementedError\n",
    "\n",
    "class BubbleSort(BasePermuter):\n",
    "    \"\"\"Bubble sort.\n",
    "\n",
    "    Parameters\n",
    "    ----------\n",
    "    ascending : bool, default=True\n",
    "        whether the bubble is ascending (True), or descending\n",
    "    \"\"\"\n",
    "    _tags = {\"always_sorts_completely\": True}\n",
    "    _config = {\"print_useful_log\": False}\n",
    "\n",
    "    def __init__(self, ascending = True):\n",
    "        self.ascending = ascending\n",
    "        super(BubbleSort, self).__init__()\n",
    "        \n",
    "    def fit(self, array: list) -> list:\n",
    "        \n",
    "        for index in range(len(array)-1, 0, -1):\n",
    "            for i in range(index):\n",
    "                if self.ascending:\n",
    "                    if array[i] > array[i + 1]:\n",
    "                        array[i], array[i + 1] = array[i + 1], array[i]\n",
    "                else:\n",
    "                    if array[i] < array[i + 1]:\n",
    "                        array[i], array[i + 1] = array[i + 1], array[i]\n",
    "\n",
    "        if self.get_config()[\"print_useful_log\"]:\n",
    "            print(42)\n",
    "\n",
    "        return array\n"
   ]
  },
  {
   "cell_type": "code",
   "execution_count": 10,
   "id": "136b4700",
   "metadata": {
    "slideshow": {
     "slide_type": "slide"
    }
   },
   "outputs": [
    {
     "data": {
      "text/plain": [
       "{'display': 'diagram', 'print_changed_only': True, 'print_useful_log': False}"
      ]
     },
     "execution_count": 10,
     "metadata": {},
     "output_type": "execute_result"
    }
   ],
   "source": [
    "# and now we can see and set config variables in a similar manner\n",
    "sorter = BubbleSort()\n",
    "# returns error -- best to run a development version instead?\n",
    "sorter.get_config()"
   ]
  },
  {
   "attachments": {},
   "cell_type": "markdown",
   "id": "00833c41",
   "metadata": {},
   "source": [
    "`display` and `print_changed_only` are from `skbase` directly, they control how the class is pretty printed"
   ]
  },
  {
   "cell_type": "code",
   "execution_count": 11,
   "id": "3fc17389",
   "metadata": {},
   "outputs": [
    {
     "data": {
      "text/html": [
       "<style>#sk-e5668554-fa35-4858-a7e2-a517dfe52d5e {color: black;background-color: white;}#sk-e5668554-fa35-4858-a7e2-a517dfe52d5e pre{padding: 0;}#sk-e5668554-fa35-4858-a7e2-a517dfe52d5e div.sk-toggleable {background-color: white;}#sk-e5668554-fa35-4858-a7e2-a517dfe52d5e label.sk-toggleable__label {cursor: pointer;display: block;width: 100%;margin-bottom: 0;padding: 0.3em;box-sizing: border-box;text-align: center;}#sk-e5668554-fa35-4858-a7e2-a517dfe52d5e label.sk-toggleable__label-arrow:before {content: \"▸\";float: left;margin-right: 0.25em;color: #696969;}#sk-e5668554-fa35-4858-a7e2-a517dfe52d5e label.sk-toggleable__label-arrow:hover:before {color: black;}#sk-e5668554-fa35-4858-a7e2-a517dfe52d5e div.sk-estimator:hover label.sk-toggleable__label-arrow:before {color: black;}#sk-e5668554-fa35-4858-a7e2-a517dfe52d5e div.sk-toggleable__content {max-height: 0;max-width: 0;overflow: hidden;text-align: left;background-color: #f0f8ff;}#sk-e5668554-fa35-4858-a7e2-a517dfe52d5e div.sk-toggleable__content pre {margin: 0.2em;color: black;border-radius: 0.25em;background-color: #f0f8ff;}#sk-e5668554-fa35-4858-a7e2-a517dfe52d5e input.sk-toggleable__control:checked~div.sk-toggleable__content {max-height: 200px;max-width: 100%;overflow: auto;}#sk-e5668554-fa35-4858-a7e2-a517dfe52d5e input.sk-toggleable__control:checked~label.sk-toggleable__label-arrow:before {content: \"▾\";}#sk-e5668554-fa35-4858-a7e2-a517dfe52d5e div.sk-estimator input.sk-toggleable__control:checked~label.sk-toggleable__label {background-color: #d4ebff;}#sk-e5668554-fa35-4858-a7e2-a517dfe52d5e div.sk-label input.sk-toggleable__control:checked~label.sk-toggleable__label {background-color: #d4ebff;}#sk-e5668554-fa35-4858-a7e2-a517dfe52d5e input.sk-hidden--visually {border: 0;clip: rect(1px 1px 1px 1px);clip: rect(1px, 1px, 1px, 1px);height: 1px;margin: -1px;overflow: hidden;padding: 0;position: absolute;width: 1px;}#sk-e5668554-fa35-4858-a7e2-a517dfe52d5e div.sk-estimator {font-family: monospace;background-color: #f0f8ff;border: 1px dotted black;border-radius: 0.25em;box-sizing: border-box;margin-bottom: 0.5em;}#sk-e5668554-fa35-4858-a7e2-a517dfe52d5e div.sk-estimator:hover {background-color: #d4ebff;}#sk-e5668554-fa35-4858-a7e2-a517dfe52d5e div.sk-parallel-item::after {content: \"\";width: 100%;border-bottom: 1px solid gray;flex-grow: 1;}#sk-e5668554-fa35-4858-a7e2-a517dfe52d5e div.sk-label:hover label.sk-toggleable__label {background-color: #d4ebff;}#sk-e5668554-fa35-4858-a7e2-a517dfe52d5e div.sk-serial::before {content: \"\";position: absolute;border-left: 1px solid gray;box-sizing: border-box;top: 2em;bottom: 0;left: 50%;}#sk-e5668554-fa35-4858-a7e2-a517dfe52d5e div.sk-serial {display: flex;flex-direction: column;align-items: center;background-color: white;padding-right: 0.2em;padding-left: 0.2em;}#sk-e5668554-fa35-4858-a7e2-a517dfe52d5e div.sk-item {z-index: 1;}#sk-e5668554-fa35-4858-a7e2-a517dfe52d5e div.sk-parallel {display: flex;align-items: stretch;justify-content: center;background-color: white;}#sk-e5668554-fa35-4858-a7e2-a517dfe52d5e div.sk-parallel::before {content: \"\";position: absolute;border-left: 1px solid gray;box-sizing: border-box;top: 2em;bottom: 0;left: 50%;}#sk-e5668554-fa35-4858-a7e2-a517dfe52d5e div.sk-parallel-item {display: flex;flex-direction: column;position: relative;background-color: white;}#sk-e5668554-fa35-4858-a7e2-a517dfe52d5e div.sk-parallel-item:first-child::after {align-self: flex-end;width: 50%;}#sk-e5668554-fa35-4858-a7e2-a517dfe52d5e div.sk-parallel-item:last-child::after {align-self: flex-start;width: 50%;}#sk-e5668554-fa35-4858-a7e2-a517dfe52d5e div.sk-parallel-item:only-child::after {width: 0;}#sk-e5668554-fa35-4858-a7e2-a517dfe52d5e div.sk-dashed-wrapped {border: 1px dashed gray;margin: 0 0.4em 0.5em 0.4em;box-sizing: border-box;padding-bottom: 0.4em;background-color: white;position: relative;}#sk-e5668554-fa35-4858-a7e2-a517dfe52d5e div.sk-label label {font-family: monospace;font-weight: bold;background-color: white;display: inline-block;line-height: 1.2em;}#sk-e5668554-fa35-4858-a7e2-a517dfe52d5e div.sk-label-container {position: relative;z-index: 2;text-align: center;}#sk-e5668554-fa35-4858-a7e2-a517dfe52d5e div.sk-container {/* jupyter's `normalize.less` sets `[hidden] { display: none; }` but bootstrap.min.css set `[hidden] { display: none !important; }` so we also need the `!important` here to be able to override the default hidden behavior on the sphinx rendered scikit-learn.org. See: https://github.com/scikit-learn/scikit-learn/issues/21755 */display: inline-block !important;position: relative;}#sk-e5668554-fa35-4858-a7e2-a517dfe52d5e div.sk-text-repr-fallback {display: none;}</style><div id='sk-e5668554-fa35-4858-a7e2-a517dfe52d5e' class=\"sk-top-container\"><div class=\"sk-text-repr-fallback\"><pre>BubbleSort()</pre><b>Please rerun this cell to show the HTML repr or trust the notebook.</b></div><div class=\"sk-container\" hidden><div class='sk-item'><div class=\"sk-estimator sk-toggleable\"><input class=\"sk-toggleable__control sk-hidden--visually\" id=UUID('14854b19-f68b-4dfa-9716-7e657b5eb86d') type=\"checkbox\" checked><label for=UUID('14854b19-f68b-4dfa-9716-7e657b5eb86d') class='sk-toggleable__label sk-toggleable__label-arrow'>BubbleSort</label><div class=\"sk-toggleable__content\"><pre>BubbleSort()</pre></div></div></div></div></div>"
      ],
      "text/plain": [
       "BubbleSort()"
      ]
     },
     "execution_count": 11,
     "metadata": {},
     "output_type": "execute_result"
    }
   ],
   "source": [
    "sorter"
   ]
  },
  {
   "cell_type": "code",
   "execution_count": 12,
   "id": "c5a14373",
   "metadata": {},
   "outputs": [
    {
     "data": {
      "text/plain": [
       "BubbleSort()"
      ]
     },
     "execution_count": 12,
     "metadata": {},
     "output_type": "execute_result"
    }
   ],
   "source": [
    "sorter.set_config(display=\"text\")"
   ]
  },
  {
   "attachments": {},
   "cell_type": "markdown",
   "id": "686a772b",
   "metadata": {},
   "source": [
    "using the custom \"useful logging\" config"
   ]
  },
  {
   "cell_type": "code",
   "execution_count": 13,
   "id": "16bc8603",
   "metadata": {},
   "outputs": [],
   "source": [
    "# applying the bubble sort\n",
    "sorter = BubbleSort(ascending = True)\n",
    "array  = np.array([5, 3, 6, 2, 1])\n",
    "\n",
    "sorted_array = sorter.fit(array)\n",
    "# doesn't print"
   ]
  },
  {
   "cell_type": "code",
   "execution_count": 14,
   "id": "cd70579f",
   "metadata": {},
   "outputs": [
    {
     "name": "stdout",
     "output_type": "stream",
     "text": [
      "42\n"
     ]
    }
   ],
   "source": [
    "sorter.set_config(print_useful_log=True)\n",
    "\n",
    "sorted_array = sorter.fit(array)\n",
    "# now it prints"
   ]
  },
  {
   "attachments": {},
   "cell_type": "markdown",
   "id": "e1dc3cd7",
   "metadata": {
    "slideshow": {
     "slide_type": "slide"
    }
   },
   "source": [
    "### Composition & Pipeline\n",
    "\n",
    "common ML motif is chaining together different transformers and estimators via pipelines\n",
    "\n",
    "works out of the box with `skbase`!\n",
    "\n",
    "Example: composing two permuters"
   ]
  },
  {
   "cell_type": "code",
   "execution_count": 15,
   "id": "a2384543",
   "metadata": {
    "slideshow": {
     "slide_type": "slide"
    }
   },
   "outputs": [
    {
     "data": {
      "text/plain": [
       "array([1, 2, 3, 5, 6])"
      ]
     },
     "execution_count": 15,
     "metadata": {},
     "output_type": "execute_result"
    }
   ],
   "source": [
    "class ComposePermutations(BasePermuter):\n",
    "    \"\"\"Class that will first\"\"\"\n",
    "    \n",
    "    def __init__(self, first_permutation, second_permutation):\n",
    "        self.first_permutation = first_permutation\n",
    "        self.second_permutation = second_permutation\n",
    "        super(ComposePermutations, self).__init__()\n",
    "        \n",
    "    def fit(self, array: list) -> list:\n",
    "        \"\"\"Return a shuffled array according to random_state\"\"\"\n",
    "        first_permuted = self.first_permutation.fit(array)\n",
    "        both_permuted = self.second_permutation.fit(first_permuted)\n",
    "        return both_permuted\n",
    "\n",
    "shuffler = Shuffler() \n",
    "sorter = BubbleSort()\n",
    "pipe = ComposePermutations(shuffler, sorter)\n",
    "\n",
    "# compose them together - first shuffle, then sort\n",
    "pipe.fit(array)"
   ]
  },
  {
   "attachments": {},
   "cell_type": "markdown",
   "id": "f96c05a8",
   "metadata": {
    "slideshow": {
     "slide_type": "slide"
    }
   },
   "source": [
    "### `skbase` estimators\n",
    "\n",
    "\"estimators\" are objects that can \"fit\"\n",
    "\n",
    "we have used `fit` above, but without `BaseEstimator`\n",
    "\n",
    "`BaseEstimator` additionally handles parameters written to `self` and `is_fitted` etc\n",
    "\n",
    "Let's look at sorters with `BaseEstimator` class:"
   ]
  },
  {
   "cell_type": "code",
   "execution_count": 16,
   "id": "4cf813e1",
   "metadata": {
    "slideshow": {
     "slide_type": "slide"
    }
   },
   "outputs": [],
   "source": [
    "# import the base object\n",
    "import numpy as np\n",
    "from skbase.base import BaseEstimator\n",
    "\n",
    "# sample class that implements a bubble sort algorithm\n",
    "class BasePermuter(BaseEstimator):\n",
    "    \"\"\"Abstract Base Class for sorters and permuters\"\"\"\n",
    "\n",
    "    _tags = {\"always_sorts_completely\": False}\n",
    "\n",
    "    def fit(self, array: list):\n",
    "        \"\"\"Will override in inherited classes.\n",
    "\n",
    "        Writes the sorted list to self, as array_\n",
    "\n",
    "        Parameters\n",
    "        ----------\n",
    "        array : 1D np.ndarray\n",
    "\n",
    "        Returns\n",
    "        -------\n",
    "        self\n",
    "        \"\"\"\n",
    "        raise NotImplementedError\n",
    "\n",
    "    def sort(self) -> list:\n",
    "        return self.array_\n",
    "\n",
    "class BubbleSort(BasePermuter):\n",
    "    \"\"\"Bubble sort.\n",
    "\n",
    "    Parameters\n",
    "    ----------\n",
    "    ascending : bool, default=True\n",
    "        whether the bubble is ascending (True), or descending\n",
    "    \"\"\"\n",
    "    _tags = {\"always_sorts_completely\": True}\n",
    "\n",
    "    def __init__(self, ascending = True):\n",
    "        self.ascending = ascending\n",
    "        super(BubbleSort, self).__init__()\n",
    "        \n",
    "    def fit(self, array: list):\n",
    "        \n",
    "        for index in range(len(array)-1, 0, -1):\n",
    "            for i in range(index):\n",
    "                if self.ascending:\n",
    "                    if array[i] > array[i + 1]:\n",
    "                        array[i], array[i + 1] = array[i + 1], array[i]\n",
    "                else:\n",
    "                    if array[i] < array[i + 1]:\n",
    "                        array[i], array[i + 1] = array[i + 1], array[i]\n",
    "\n",
    "        self.array_ = array\n",
    "        self._is_fitted = True\n",
    "        return self"
   ]
  },
  {
   "cell_type": "code",
   "execution_count": 17,
   "id": "aeda5e4b",
   "metadata": {
    "slideshow": {
     "slide_type": "slide"
    }
   },
   "outputs": [
    {
     "data": {
      "text/plain": [
       "False"
      ]
     },
     "execution_count": 17,
     "metadata": {},
     "output_type": "execute_result"
    }
   ],
   "source": [
    "# now let's take a look at how this works\n",
    "sorter = BubbleSort()\n",
    "\n",
    "sorter.is_fitted"
   ]
  },
  {
   "cell_type": "code",
   "execution_count": 18,
   "id": "00daec8a",
   "metadata": {
    "slideshow": {
     "slide_type": "slide"
    }
   },
   "outputs": [
    {
     "data": {
      "text/plain": [
       "True"
      ]
     },
     "execution_count": 18,
     "metadata": {},
     "output_type": "execute_result"
    }
   ],
   "source": [
    "# but fit and it's now return True\n",
    "array = np.array([5, 2, 3, 4, 1])\n",
    "sorter.fit(array)\n",
    "sorter.is_fitted"
   ]
  },
  {
   "attachments": {},
   "cell_type": "markdown",
   "id": "408e5fa9",
   "metadata": {},
   "source": [
    "`skbase` now allows to access the `array_` stored to self via `get_fitted_params`\n",
    "\n",
    "recall: by default attributes ending in underscore `_`"
   ]
  },
  {
   "cell_type": "code",
   "execution_count": 19,
   "id": "b87d910e",
   "metadata": {
    "slideshow": {
     "slide_type": "slide"
    }
   },
   "outputs": [
    {
     "data": {
      "text/plain": [
       "{'array': array([1, 2, 3, 4, 5])}"
      ]
     },
     "execution_count": 19,
     "metadata": {},
     "output_type": "execute_result"
    }
   ],
   "source": [
    "# you can also lookup parameters that are available after fitting\n",
    "sorter.get_fitted_params()"
   ]
  },
  {
   "cell_type": "markdown",
   "id": "c0f1095e",
   "metadata": {
    "slideshow": {
     "slide_type": "slide"
    }
   },
   "source": [
    "### Testing\n",
    "\n",
    "Testing is one of the most important but least desired workflows when developing OS tools.  \n",
    "\n",
    "Over long periods of time, codebases typically suffer from inadequate test coverage that creates user issues downstream.  \n",
    "\n",
    "Inadequate test coverage is often a primary cause of an ML library's slow drift towards obsolescence.  \n",
    "\n",
    "How can we combat this problem?"
   ]
  },
  {
   "cell_type": "markdown",
   "id": "b9b11b29",
   "metadata": {
    "slideshow": {
     "slide_type": "slide"
    }
   },
   "source": [
    "Ideally, your codebase will include strong abstractions for making testing as painless as possible.  \n",
    "\n",
    "Inadequate testing has a strong tendency to propagate!  It's important to nip this problem in the bud.\n",
    "\n",
    "Let's see how you can build in testing interfaces to your custom classes to allow for easier test coverage."
   ]
  },
  {
   "cell_type": "code",
   "execution_count": 20,
   "id": "737b43e3",
   "metadata": {
    "slideshow": {
     "slide_type": "slide"
    }
   },
   "outputs": [],
   "source": [
    "# BubbleSort -- the last time\n",
    "class BubbleSort(BasePermuter):\n",
    "    \"\"\"Bubble sort.\n",
    "\n",
    "    Parameters\n",
    "    ----------\n",
    "    ascending : bool, default=True\n",
    "        whether the bubble is ascending (True), or descending\n",
    "    \"\"\"\n",
    "    _tags = {\"always_sorts_completely\": True}\n",
    "\n",
    "    def __init__(self, ascending = True):\n",
    "        self.ascending = ascending\n",
    "        super(BubbleSort, self).__init__()\n",
    "        \n",
    "    def fit(self, array: list):\n",
    "        \n",
    "        for index in range(len(array)-1, 0, -1):\n",
    "            for i in range(index):\n",
    "                if self.ascending:\n",
    "                    if array[i] > array[i + 1]:\n",
    "                        array[i], array[i + 1] = array[i + 1], array[i]\n",
    "                else:\n",
    "                    if array[i] < array[i + 1]:\n",
    "                        array[i], array[i + 1] = array[i + 1], array[i]\n",
    "\n",
    "        self.array_ = array\n",
    "        self._is_fitted = True\n",
    "        return self\n",
    "\n",
    "    @classmethod\n",
    "    def get_test_params(cls, parameter_set = \"default\"):\n",
    "        \n",
    "        return [{\"ascending\": True}, {\"ascending\": False}]"
   ]
  },
  {
   "cell_type": "code",
   "execution_count": 21,
   "id": "a401ab9d",
   "metadata": {
    "slideshow": {
     "slide_type": "slide"
    }
   },
   "outputs": [
    {
     "data": {
      "text/plain": [
       "[{'ascending': True}, {'ascending': False}]"
      ]
     },
     "execution_count": 21,
     "metadata": {},
     "output_type": "execute_result"
    }
   ],
   "source": [
    "# test parameters are now built into the class\n",
    "BubbleSort.get_test_params()"
   ]
  },
  {
   "cell_type": "code",
   "execution_count": 22,
   "id": "7574917c",
   "metadata": {
    "slideshow": {
     "slide_type": "slide"
    }
   },
   "outputs": [
    {
     "data": {
      "text/html": [
       "<style>#sk-e858e2ea-4e68-4850-b88d-fdee6ac69c49 {color: black;background-color: white;}#sk-e858e2ea-4e68-4850-b88d-fdee6ac69c49 pre{padding: 0;}#sk-e858e2ea-4e68-4850-b88d-fdee6ac69c49 div.sk-toggleable {background-color: white;}#sk-e858e2ea-4e68-4850-b88d-fdee6ac69c49 label.sk-toggleable__label {cursor: pointer;display: block;width: 100%;margin-bottom: 0;padding: 0.3em;box-sizing: border-box;text-align: center;}#sk-e858e2ea-4e68-4850-b88d-fdee6ac69c49 label.sk-toggleable__label-arrow:before {content: \"▸\";float: left;margin-right: 0.25em;color: #696969;}#sk-e858e2ea-4e68-4850-b88d-fdee6ac69c49 label.sk-toggleable__label-arrow:hover:before {color: black;}#sk-e858e2ea-4e68-4850-b88d-fdee6ac69c49 div.sk-estimator:hover label.sk-toggleable__label-arrow:before {color: black;}#sk-e858e2ea-4e68-4850-b88d-fdee6ac69c49 div.sk-toggleable__content {max-height: 0;max-width: 0;overflow: hidden;text-align: left;background-color: #f0f8ff;}#sk-e858e2ea-4e68-4850-b88d-fdee6ac69c49 div.sk-toggleable__content pre {margin: 0.2em;color: black;border-radius: 0.25em;background-color: #f0f8ff;}#sk-e858e2ea-4e68-4850-b88d-fdee6ac69c49 input.sk-toggleable__control:checked~div.sk-toggleable__content {max-height: 200px;max-width: 100%;overflow: auto;}#sk-e858e2ea-4e68-4850-b88d-fdee6ac69c49 input.sk-toggleable__control:checked~label.sk-toggleable__label-arrow:before {content: \"▾\";}#sk-e858e2ea-4e68-4850-b88d-fdee6ac69c49 div.sk-estimator input.sk-toggleable__control:checked~label.sk-toggleable__label {background-color: #d4ebff;}#sk-e858e2ea-4e68-4850-b88d-fdee6ac69c49 div.sk-label input.sk-toggleable__control:checked~label.sk-toggleable__label {background-color: #d4ebff;}#sk-e858e2ea-4e68-4850-b88d-fdee6ac69c49 input.sk-hidden--visually {border: 0;clip: rect(1px 1px 1px 1px);clip: rect(1px, 1px, 1px, 1px);height: 1px;margin: -1px;overflow: hidden;padding: 0;position: absolute;width: 1px;}#sk-e858e2ea-4e68-4850-b88d-fdee6ac69c49 div.sk-estimator {font-family: monospace;background-color: #f0f8ff;border: 1px dotted black;border-radius: 0.25em;box-sizing: border-box;margin-bottom: 0.5em;}#sk-e858e2ea-4e68-4850-b88d-fdee6ac69c49 div.sk-estimator:hover {background-color: #d4ebff;}#sk-e858e2ea-4e68-4850-b88d-fdee6ac69c49 div.sk-parallel-item::after {content: \"\";width: 100%;border-bottom: 1px solid gray;flex-grow: 1;}#sk-e858e2ea-4e68-4850-b88d-fdee6ac69c49 div.sk-label:hover label.sk-toggleable__label {background-color: #d4ebff;}#sk-e858e2ea-4e68-4850-b88d-fdee6ac69c49 div.sk-serial::before {content: \"\";position: absolute;border-left: 1px solid gray;box-sizing: border-box;top: 2em;bottom: 0;left: 50%;}#sk-e858e2ea-4e68-4850-b88d-fdee6ac69c49 div.sk-serial {display: flex;flex-direction: column;align-items: center;background-color: white;padding-right: 0.2em;padding-left: 0.2em;}#sk-e858e2ea-4e68-4850-b88d-fdee6ac69c49 div.sk-item {z-index: 1;}#sk-e858e2ea-4e68-4850-b88d-fdee6ac69c49 div.sk-parallel {display: flex;align-items: stretch;justify-content: center;background-color: white;}#sk-e858e2ea-4e68-4850-b88d-fdee6ac69c49 div.sk-parallel::before {content: \"\";position: absolute;border-left: 1px solid gray;box-sizing: border-box;top: 2em;bottom: 0;left: 50%;}#sk-e858e2ea-4e68-4850-b88d-fdee6ac69c49 div.sk-parallel-item {display: flex;flex-direction: column;position: relative;background-color: white;}#sk-e858e2ea-4e68-4850-b88d-fdee6ac69c49 div.sk-parallel-item:first-child::after {align-self: flex-end;width: 50%;}#sk-e858e2ea-4e68-4850-b88d-fdee6ac69c49 div.sk-parallel-item:last-child::after {align-self: flex-start;width: 50%;}#sk-e858e2ea-4e68-4850-b88d-fdee6ac69c49 div.sk-parallel-item:only-child::after {width: 0;}#sk-e858e2ea-4e68-4850-b88d-fdee6ac69c49 div.sk-dashed-wrapped {border: 1px dashed gray;margin: 0 0.4em 0.5em 0.4em;box-sizing: border-box;padding-bottom: 0.4em;background-color: white;position: relative;}#sk-e858e2ea-4e68-4850-b88d-fdee6ac69c49 div.sk-label label {font-family: monospace;font-weight: bold;background-color: white;display: inline-block;line-height: 1.2em;}#sk-e858e2ea-4e68-4850-b88d-fdee6ac69c49 div.sk-label-container {position: relative;z-index: 2;text-align: center;}#sk-e858e2ea-4e68-4850-b88d-fdee6ac69c49 div.sk-container {/* jupyter's `normalize.less` sets `[hidden] { display: none; }` but bootstrap.min.css set `[hidden] { display: none !important; }` so we also need the `!important` here to be able to override the default hidden behavior on the sphinx rendered scikit-learn.org. See: https://github.com/scikit-learn/scikit-learn/issues/21755 */display: inline-block !important;position: relative;}#sk-e858e2ea-4e68-4850-b88d-fdee6ac69c49 div.sk-text-repr-fallback {display: none;}</style><div id='sk-e858e2ea-4e68-4850-b88d-fdee6ac69c49' class=\"sk-top-container\"><div class=\"sk-text-repr-fallback\"><pre>BubbleSort()</pre><b>Please rerun this cell to show the HTML repr or trust the notebook.</b></div><div class=\"sk-container\" hidden><div class='sk-item'><div class=\"sk-estimator sk-toggleable\"><input class=\"sk-toggleable__control sk-hidden--visually\" id=UUID('e5f7fcd7-b546-4245-8d83-f5d82f2e9625') type=\"checkbox\" checked><label for=UUID('e5f7fcd7-b546-4245-8d83-f5d82f2e9625') class='sk-toggleable__label sk-toggleable__label-arrow'>BubbleSort</label><div class=\"sk-toggleable__content\"><pre>BubbleSort()</pre></div></div></div></div></div>"
      ],
      "text/plain": [
       "BubbleSort()"
      ]
     },
     "execution_count": 22,
     "metadata": {},
     "output_type": "execute_result"
    }
   ],
   "source": [
    "# you can then automatically recreate a test instance of an estimator\n",
    "BubbleSort.create_test_instance(parameter_set = \"default\")\n"
   ]
  },
  {
   "cell_type": "code",
   "execution_count": 23,
   "id": "4705fa46",
   "metadata": {},
   "outputs": [
    {
     "data": {
      "text/plain": [
       "([BubbleSort(), BubbleSort(ascending=False)], ['BubbleSort-0', 'BubbleSort-1'])"
      ]
     },
     "execution_count": 23,
     "metadata": {},
     "output_type": "execute_result"
    }
   ],
   "source": [
    "# multiple test instances with names are created by create_test_instances_and_names\n",
    "BubbleSort.create_test_instances_and_names(parameter_set = \"default\")"
   ]
  },
  {
   "cell_type": "markdown",
   "id": "4c8e24d7",
   "metadata": {
    "slideshow": {
     "slide_type": "slide"
    }
   },
   "source": [
    "### What Have We Covered So Far?\n",
    "\n",
    "    - `skbase` provides a coherent interface to develop an ML toolbox\n",
    "    - It builds off of scikit-learn classes, and extends them to make them easier to organize and test\n",
    "    - It's meant to abstract away the tedious details of an API, allowing developers a streamlined way to focus on the primary details of pattern recognition for a particular technique\n",
    "    - We'll now go into more detail about how you can use it to prototype an ML framework"
   ]
  }
 ],
 "metadata": {
  "kernelspec": {
   "display_name": "sktime-skbase-310",
   "language": "python",
   "name": "python3"
  },
  "language_info": {
   "codemirror_mode": {
    "name": "ipython",
    "version": 3
   },
   "file_extension": ".py",
   "mimetype": "text/x-python",
   "name": "python",
   "nbconvert_exporter": "python",
   "pygments_lexer": "ipython3",
   "version": "3.10.8"
  },
  "vscode": {
   "interpreter": {
    "hash": "1ab6896984b6aa500b8009633c692bca601cfe3e50e0ab79a8a59539ceef9c7a"
   }
  }
 },
 "nbformat": 4,
 "nbformat_minor": 5
}
